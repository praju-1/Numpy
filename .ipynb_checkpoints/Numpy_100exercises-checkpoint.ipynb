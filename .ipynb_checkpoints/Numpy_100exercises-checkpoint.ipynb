{
 "cells": [
  {
   "cell_type": "markdown",
   "id": "c2ec5de0",
   "metadata": {},
   "source": [
    "# Exercises"
   ]
  },
  {
   "cell_type": "markdown",
   "id": "43d69834",
   "metadata": {},
   "source": [
    "It includes question for numpy"
   ]
  },
  {
   "cell_type": "markdown",
   "id": "d2af14c3",
   "metadata": {},
   "source": [
    "# 1. Import the numpy package under the name np"
   ]
  },
  {
   "cell_type": "code",
   "execution_count": 1,
   "id": "2085b895",
   "metadata": {},
   "outputs": [],
   "source": [
    "#importing module\n",
    "import numpy as np"
   ]
  },
  {
   "cell_type": "markdown",
   "id": "c976dec7",
   "metadata": {},
   "source": [
    "# 2. Print the numpy version and the configuration"
   ]
  },
  {
   "cell_type": "code",
   "execution_count": 7,
   "id": "92c8196c",
   "metadata": {},
   "outputs": [
    {
     "name": "stdout",
     "output_type": "stream",
     "text": [
      "Version of numpy is :  1.21.5\n",
      "blas_mkl_info:\n",
      "    libraries = ['mkl_rt']\n",
      "    library_dirs = ['C:/Users/DELL/anaconda3\\\\Library\\\\lib']\n",
      "    define_macros = [('SCIPY_MKL_H', None), ('HAVE_CBLAS', None)]\n",
      "    include_dirs = ['C:/Users/DELL/anaconda3\\\\Library\\\\include']\n",
      "blas_opt_info:\n",
      "    libraries = ['mkl_rt']\n",
      "    library_dirs = ['C:/Users/DELL/anaconda3\\\\Library\\\\lib']\n",
      "    define_macros = [('SCIPY_MKL_H', None), ('HAVE_CBLAS', None)]\n",
      "    include_dirs = ['C:/Users/DELL/anaconda3\\\\Library\\\\include']\n",
      "lapack_mkl_info:\n",
      "    libraries = ['mkl_rt']\n",
      "    library_dirs = ['C:/Users/DELL/anaconda3\\\\Library\\\\lib']\n",
      "    define_macros = [('SCIPY_MKL_H', None), ('HAVE_CBLAS', None)]\n",
      "    include_dirs = ['C:/Users/DELL/anaconda3\\\\Library\\\\include']\n",
      "lapack_opt_info:\n",
      "    libraries = ['mkl_rt']\n",
      "    library_dirs = ['C:/Users/DELL/anaconda3\\\\Library\\\\lib']\n",
      "    define_macros = [('SCIPY_MKL_H', None), ('HAVE_CBLAS', None)]\n",
      "    include_dirs = ['C:/Users/DELL/anaconda3\\\\Library\\\\include']\n",
      "Supported SIMD extensions in this NumPy install:\n",
      "    baseline = SSE,SSE2,SSE3\n",
      "    found = SSSE3,SSE41,POPCNT,SSE42,AVX,F16C,FMA3,AVX2\n",
      "    not found = AVX512F,AVX512CD,AVX512_SKX,AVX512_CLX,AVX512_CNL\n",
      "None\n"
     ]
    }
   ],
   "source": [
    "#importing module\n",
    "import numpy as np\n",
    "\n",
    "#Return version of numpy\n",
    "print(\"Version of numpy is : \", np.__version__)\n",
    "\n",
    "#Return configuration of numpy\n",
    "print(np.show_config())"
   ]
  },
  {
   "cell_type": "markdown",
   "id": "0f4eb834",
   "metadata": {},
   "source": [
    "# 3. Create a null vector of size 10"
   ]
  },
  {
   "cell_type": "code",
   "execution_count": 3,
   "id": "1f703bdd",
   "metadata": {},
   "outputs": [
    {
     "name": "stdout",
     "output_type": "stream",
     "text": [
      "Null vectors are : \n",
      " [0. 0. 0. 0. 0. 0. 0. 0. 0. 0.]\n"
     ]
    }
   ],
   "source": [
    "#importing module\n",
    "import numpy as np\n",
    "\n",
    "#Creat null vectors \n",
    "Z = np.zeros(10)\n",
    "\n",
    "print(\"Null vectors are : \\n\", Z)"
   ]
  },
  {
   "cell_type": "markdown",
   "id": "2c075a89",
   "metadata": {},
   "source": [
    "# 4. How to find the memory size of any array "
   ]
  },
  {
   "cell_type": "code",
   "execution_count": 9,
   "id": "0c7cf318",
   "metadata": {},
   "outputs": [
    {
     "name": "stdout",
     "output_type": "stream",
     "text": [
      "Size of array is :  10\n"
     ]
    }
   ],
   "source": [
    "#importing module\n",
    "import numpy as np\n",
    "\n",
    "#Create null vectors \n",
    "X = np.zeros(10)\n",
    "\n",
    "#getting size of array\n",
    "print(\"Size of array is : \", X.size)"
   ]
  },
  {
   "cell_type": "markdown",
   "id": "860ee38a",
   "metadata": {},
   "source": [
    "# 5. How to get the documentation of the numpy add function from the command line?"
   ]
  },
  {
   "cell_type": "code",
   "execution_count": 15,
   "id": "3db8d8f1",
   "metadata": {},
   "outputs": [
    {
     "name": "stdout",
     "output_type": "stream",
     "text": [
      "add(x1, x2, /, out=None, *, where=True, casting='same_kind', order='K', dtype=None, subok=True[, signature, extobj])\n",
      "\n",
      "Add arguments element-wise.\n",
      "\n",
      "Parameters\n",
      "----------\n",
      "x1, x2 : array_like\n",
      "    The arrays to be added.\n",
      "    If ``x1.shape != x2.shape``, they must be broadcastable to a common\n",
      "    shape (which becomes the shape of the output).\n",
      "out : ndarray, None, or tuple of ndarray and None, optional\n",
      "    A location into which the result is stored. If provided, it must have\n",
      "    a shape that the inputs broadcast to. If not provided or None,\n",
      "    a freshly-allocated array is returned. A tuple (possible only as a\n",
      "    keyword argument) must have length equal to the number of outputs.\n",
      "where : array_like, optional\n",
      "    This condition is broadcast over the input. At locations where the\n",
      "    condition is True, the `out` array will be set to the ufunc result.\n",
      "    Elsewhere, the `out` array will retain its original value.\n",
      "    Note that if an uninitialized `out` array is created via the default\n",
      "    ``out=None``, locations within it where the condition is False will\n",
      "    remain uninitialized.\n",
      "**kwargs\n",
      "    For other keyword-only arguments, see the\n",
      "    :ref:`ufunc docs <ufuncs.kwargs>`.\n",
      "\n",
      "Returns\n",
      "-------\n",
      "add : ndarray or scalar\n",
      "    The sum of `x1` and `x2`, element-wise.\n",
      "    This is a scalar if both `x1` and `x2` are scalars.\n",
      "\n",
      "Notes\n",
      "-----\n",
      "Equivalent to `x1` + `x2` in terms of array broadcasting.\n",
      "\n",
      "Examples\n",
      "--------\n",
      ">>> np.add(1.0, 4.0)\n",
      "5.0\n",
      ">>> x1 = np.arange(9.0).reshape((3, 3))\n",
      ">>> x2 = np.arange(3.0)\n",
      ">>> np.add(x1, x2)\n",
      "array([[  0.,   2.,   4.],\n",
      "       [  3.,   5.,   7.],\n",
      "       [  6.,   8.,  10.]])\n",
      "\n",
      "The ``+`` operator can be used as a shorthand for ``np.add`` on ndarrays.\n",
      "\n",
      ">>> x1 = np.arange(9.0).reshape((3, 3))\n",
      ">>> x2 = np.arange(3.0)\n",
      ">>> x1 + x2\n",
      "array([[ 0.,  2.,  4.],\n",
      "       [ 3.,  5.,  7.],\n",
      "       [ 6.,  8., 10.]])\n"
     ]
    }
   ],
   "source": [
    "import numpy as np\n",
    "np.info(np.add)"
   ]
  },
  {
   "cell_type": "markdown",
   "id": "a291f339",
   "metadata": {},
   "source": [
    "# 6. Create a null vector of size 10 but the fifth value which is 1"
   ]
  },
  {
   "cell_type": "code",
   "execution_count": 19,
   "id": "446dcbb7",
   "metadata": {},
   "outputs": [
    {
     "name": "stdout",
     "output_type": "stream",
     "text": [
      "[0. 0. 0. 0. 1. 0. 0. 0. 0. 0.]\n"
     ]
    }
   ],
   "source": [
    "import numpy as np\n",
    "#Creating null vector of size 10\n",
    "x = np.zeros(10)\n",
    "\n",
    "#Assign value to 4th index\n",
    "x[4] = 1\n",
    "print(x)"
   ]
  },
  {
   "cell_type": "markdown",
   "id": "54f0153a",
   "metadata": {},
   "source": [
    "# 7. Create a vector with values ranging from 10 to 49"
   ]
  },
  {
   "cell_type": "code",
   "execution_count": 1,
   "id": "0e25d8d5",
   "metadata": {},
   "outputs": [
    {
     "name": "stdout",
     "output_type": "stream",
     "text": [
      "[10 11 12 13 14 15 16 17 18 19 20 21 22 23 24 25 26 27 28 29 30 31 32 33\n",
      " 34 35 36 37 38 39 40 41 42 43 44 45 46 47 48 49]\n"
     ]
    }
   ],
   "source": [
    "import numpy as np\n",
    "#creating array of range 10 to 49\n",
    "x = np.arange(10,50)\n",
    "print(x)"
   ]
  },
  {
   "cell_type": "markdown",
   "id": "bbe78cae",
   "metadata": {},
   "source": [
    "# 8. Reverse a vector (first element becomes last)"
   ]
  },
  {
   "cell_type": "code",
   "execution_count": 21,
   "id": "9dacba0f",
   "metadata": {},
   "outputs": [
    {
     "name": "stdout",
     "output_type": "stream",
     "text": [
      "[49 48 47 46 45 44 43 42 41 40 39 38 37 36 35 34 33 32 31 30 29 28 27 26\n",
      " 25 24 23 22 21 20 19 18 17 16 15 14 13 12 11 10]\n"
     ]
    }
   ],
   "source": [
    "import numpy as np\n",
    "x = np.arange(10,50)\n",
    "\n",
    "#Reverse the vector\n",
    "x = x[::-1]\n",
    "print(x)"
   ]
  },
  {
   "cell_type": "markdown",
   "id": "d9fdf4de",
   "metadata": {},
   "source": [
    "# 9. Create a 3x3 matrix with values ranging from 0 to 8"
   ]
  },
  {
   "cell_type": "code",
   "execution_count": 22,
   "id": "77a7945d",
   "metadata": {},
   "outputs": [
    {
     "name": "stdout",
     "output_type": "stream",
     "text": [
      "[[0 1 2]\n",
      " [3 4 5]\n",
      " [6 7 8]]\n"
     ]
    }
   ],
   "source": [
    "import numpy as np\n",
    "x = np.arange(0,9).reshape(3, 3)\n",
    "print(x)"
   ]
  },
  {
   "cell_type": "markdown",
   "id": "60248e92",
   "metadata": {},
   "source": [
    "# 10. Find indices of non­zero elements from [1,2,0,0,4,0]"
   ]
  },
  {
   "cell_type": "code",
   "execution_count": 24,
   "id": "bf5d9150",
   "metadata": {},
   "outputs": [
    {
     "name": "stdout",
     "output_type": "stream",
     "text": [
      "Indices of nonzer elements are :  (array([0, 1, 4], dtype=int64),)\n"
     ]
    }
   ],
   "source": [
    "import numpy as np\n",
    "x = np.nonzero([1,2,0,0,4,0])\n",
    "print(\"Indices of nonzer elements are : \", x)"
   ]
  },
  {
   "cell_type": "markdown",
   "id": "695d44af",
   "metadata": {},
   "source": [
    "# 11. Create a 3x3 identity matrix"
   ]
  },
  {
   "cell_type": "code",
   "execution_count": 27,
   "id": "d76b58c5",
   "metadata": {},
   "outputs": [
    {
     "name": "stdout",
     "output_type": "stream",
     "text": [
      "[[1. 0. 0.]\n",
      " [0. 1. 0.]\n",
      " [0. 0. 1.]]\n"
     ]
    }
   ],
   "source": [
    "#Using eye method\n",
    "import numpy as np\n",
    "x = np.eye(3)\n",
    "print(x)"
   ]
  },
  {
   "cell_type": "code",
   "execution_count": 28,
   "id": "de16c1ee",
   "metadata": {},
   "outputs": [
    {
     "name": "stdout",
     "output_type": "stream",
     "text": [
      "[[1. 0. 0.]\n",
      " [0. 1. 0.]\n",
      " [0. 0. 1.]]\n"
     ]
    }
   ],
   "source": [
    "#Using identity\n",
    "import numpy as np\n",
    "x = np.identity(3)\n",
    "print(x)"
   ]
  },
  {
   "cell_type": "markdown",
   "id": "d7e29e22",
   "metadata": {},
   "source": [
    "# 12. Create a 3x3x3 array with random values"
   ]
  },
  {
   "cell_type": "code",
   "execution_count": 29,
   "id": "1e4cf3e2",
   "metadata": {},
   "outputs": [
    {
     "name": "stdout",
     "output_type": "stream",
     "text": [
      "[[[0.86300725 0.77944252 0.38867545]\n",
      "  [0.36643993 0.69111643 0.52853632]\n",
      "  [0.62017545 0.59429458 0.71927716]]\n",
      "\n",
      " [[0.01647119 0.33942798 0.20985555]\n",
      "  [0.75024844 0.73934197 0.54510225]\n",
      "  [0.96987647 0.83417599 0.61040781]]\n",
      "\n",
      " [[0.98246431 0.58969115 0.15271063]\n",
      "  [0.10120718 0.33702953 0.9726417 ]\n",
      "  [0.5668524  0.98911354 0.87306696]]]\n"
     ]
    }
   ],
   "source": [
    "import numpy as np\n",
    "#Create random array\n",
    "x = np.random.random((3,3,3))\n",
    "print(x)"
   ]
  },
  {
   "cell_type": "markdown",
   "id": "c429069b",
   "metadata": {},
   "source": [
    "# 13. Create a 10x10 array with random values and find the minimum and maximum values"
   ]
  },
  {
   "cell_type": "code",
   "execution_count": 32,
   "id": "2241f091",
   "metadata": {},
   "outputs": [
    {
     "name": "stdout",
     "output_type": "stream",
     "text": [
      "Our random array is : \n",
      " [[0.24738895 0.60977955 0.27126414 0.60261951 0.10270876 0.91773894\n",
      "  0.20009339 0.22895133 0.85762676 0.64873522]\n",
      " [0.46817405 0.73171262 0.02522535 0.06817135 0.19187894 0.85494498\n",
      "  0.5333833  0.90037166 0.50869542 0.37888859]\n",
      " [0.63199825 0.53400438 0.54400363 0.39449282 0.07763644 0.94269078\n",
      "  0.08184485 0.56870426 0.48730261 0.77580902]\n",
      " [0.17674664 0.28045178 0.9355293  0.53781026 0.58479056 0.9252714\n",
      "  0.9682735  0.66953078 0.03352884 0.4278268 ]\n",
      " [0.19300988 0.17336706 0.79940287 0.3142085  0.08171265 0.39998355\n",
      "  0.09026741 0.8429897  0.85066561 0.20567335]\n",
      " [0.22115294 0.87955862 0.53767507 0.19135337 0.84130563 0.94487932\n",
      "  0.16847475 0.60775828 0.44403151 0.36357257]\n",
      " [0.75705366 0.62820255 0.17153013 0.81664736 0.70753195 0.09009872\n",
      "  0.0359709  0.82937015 0.62847678 0.66413222]\n",
      " [0.79411344 0.70398307 0.27761885 0.6388098  0.01316032 0.49154781\n",
      "  0.35039655 0.97556463 0.01803626 0.0342144 ]\n",
      " [0.51789519 0.84508666 0.57688945 0.29564533 0.31741423 0.42264155\n",
      "  0.3198173  0.98557673 0.4106747  0.43801054]\n",
      " [0.56844635 0.08524336 0.65845099 0.4158345  0.47518272 0.1619931\n",
      "  0.51892949 0.71886215 0.3765485  0.94733825]]\n",
      "\n",
      "Minimum value of array is :  0.013160320544417292\n",
      "\n",
      "Maximum value of array is :  0.9855767254854482\n"
     ]
    }
   ],
   "source": [
    "import numpy as np\n",
    "\n",
    "#Creating random array\n",
    "x = np.random.random((10,10))\n",
    "\n",
    "print(\"Our random array is : \\n\", x)\n",
    "\n",
    "#Using min and max function\n",
    "xmin = x.min()\n",
    "xmax = x.max()\n",
    "\n",
    "print(\"\\nMinimum value of array is : \", xmin) \n",
    "print(\"\\nMaximum value of array is : \", xmax)\n"
   ]
  },
  {
   "cell_type": "markdown",
   "id": "ec6ddbf3",
   "metadata": {},
   "source": [
    "# 14. Create a random vector of size 30 and find the mean value "
   ]
  },
  {
   "cell_type": "code",
   "execution_count": 33,
   "id": "28a02431",
   "metadata": {},
   "outputs": [
    {
     "name": "stdout",
     "output_type": "stream",
     "text": [
      "Our random array is : \n",
      " [0.66805    0.0947742  0.04530944 0.81067264 0.71192322 0.34295132\n",
      " 0.1769242  0.07096666 0.86694636 0.27355445 0.24964658 0.19627748\n",
      " 0.87812865 0.03247014 0.11201347 0.30100194 0.09820393 0.44359808\n",
      " 0.29315924 0.98868283 0.57583623 0.34351354 0.34721043 0.35581818\n",
      " 0.87157535 0.30673384 0.98115771 0.90655516 0.80895981 0.08709447]\n",
      "\n",
      "Mean of random array is :  0.44132365149049513\n"
     ]
    }
   ],
   "source": [
    "import numpy as np\n",
    "#Creating random array\n",
    "x = np.random.random(30)\n",
    "\n",
    "print(\"Our random array is : \\n\", x)\n",
    "\n",
    "#Calculating mean\n",
    "m = x.mean()\n",
    "\n",
    "print(\"\\nMean of random array is : \", m)"
   ]
  },
  {
   "cell_type": "markdown",
   "id": "08939f7c",
   "metadata": {},
   "source": [
    "# 15. Create a 2d array with 1 on the border and 0 inside"
   ]
  },
  {
   "cell_type": "code",
   "execution_count": 36,
   "id": "aafd56a2",
   "metadata": {},
   "outputs": [
    {
     "name": "stdout",
     "output_type": "stream",
     "text": [
      "Array before : \n",
      " [[1. 1. 1. 1. 1. 1. 1. 1. 1. 1.]\n",
      " [1. 1. 1. 1. 1. 1. 1. 1. 1. 1.]\n",
      " [1. 1. 1. 1. 1. 1. 1. 1. 1. 1.]\n",
      " [1. 1. 1. 1. 1. 1. 1. 1. 1. 1.]\n",
      " [1. 1. 1. 1. 1. 1. 1. 1. 1. 1.]\n",
      " [1. 1. 1. 1. 1. 1. 1. 1. 1. 1.]\n",
      " [1. 1. 1. 1. 1. 1. 1. 1. 1. 1.]\n",
      " [1. 1. 1. 1. 1. 1. 1. 1. 1. 1.]\n",
      " [1. 1. 1. 1. 1. 1. 1. 1. 1. 1.]\n",
      " [1. 1. 1. 1. 1. 1. 1. 1. 1. 1.]]\n",
      "\n",
      "Array after : \n",
      " [[1. 1. 1. 1. 1. 1. 1. 1. 1. 1.]\n",
      " [1. 0. 0. 0. 0. 0. 0. 0. 0. 1.]\n",
      " [1. 0. 0. 0. 0. 0. 0. 0. 0. 1.]\n",
      " [1. 0. 0. 0. 0. 0. 0. 0. 0. 1.]\n",
      " [1. 0. 0. 0. 0. 0. 0. 0. 0. 1.]\n",
      " [1. 0. 0. 0. 0. 0. 0. 0. 0. 1.]\n",
      " [1. 0. 0. 0. 0. 0. 0. 0. 0. 1.]\n",
      " [1. 0. 0. 0. 0. 0. 0. 0. 0. 1.]\n",
      " [1. 0. 0. 0. 0. 0. 0. 0. 0. 1.]\n",
      " [1. 1. 1. 1. 1. 1. 1. 1. 1. 1.]]\n"
     ]
    }
   ],
   "source": [
    "import numpy as np\n",
    "#Firstly creating array all with 1\n",
    "x = np.ones((10,10))\n",
    "print(\"Array before : \\n\", x)\n",
    "\n",
    "#Change inside value using row and column operation\n",
    "x[1:-1,1:-1] = 0\n",
    "\n",
    "print(\"\\nArray after : \\n\", x)"
   ]
  },
  {
   "cell_type": "markdown",
   "id": "7f69c11c",
   "metadata": {},
   "source": [
    "# 16. How to add a border (filled with 0's) around an existing array?"
   ]
  },
  {
   "cell_type": "markdown",
   "id": "72a7545a",
   "metadata": {},
   "source": [
    "pad() - The function returns the padded array of rank equal to the given array and the shape will increase according to pad_width"
   ]
  },
  {
   "cell_type": "code",
   "execution_count": 3,
   "id": "66ccab24",
   "metadata": {},
   "outputs": [
    {
     "data": {
      "text/plain": [
       "array([[0.        , 0.        , 0.        , 0.        , 0.        ,\n",
       "        0.        , 0.        ],\n",
       "       [0.        , 0.04094088, 0.43211732, 0.96940527, 0.10695312,\n",
       "        0.56334271, 0.        ],\n",
       "       [0.        , 0.46519922, 0.99880661, 0.91319162, 0.49321601,\n",
       "        0.73803306, 0.        ],\n",
       "       [0.        , 0.88327589, 0.11212149, 0.31484106, 0.58992873,\n",
       "        0.47388756, 0.        ],\n",
       "       [0.        , 0.81908658, 0.80332406, 0.65310667, 0.41781125,\n",
       "        0.08419828, 0.        ],\n",
       "       [0.        , 0.37839388, 0.00340594, 0.49314406, 0.73403901,\n",
       "        0.29800579, 0.        ],\n",
       "       [0.        , 0.        , 0.        , 0.        , 0.        ,\n",
       "        0.        , 0.        ]])"
      ]
     },
     "execution_count": 3,
     "metadata": {},
     "output_type": "execute_result"
    }
   ],
   "source": [
    "import numpy as np\n",
    "#Creating random array of 5X5\n",
    "\n",
    "arr = np.random.random((5,5))\n",
    "\n",
    "arr = np.pad(arr,pad_width=(1,1),mode = 'constant',constant_values = 0)\n",
    "arr"
   ]
  },
  {
   "cell_type": "markdown",
   "id": "a9185099",
   "metadata": {},
   "source": [
    "# 17. What is the result of the following expression?"
   ]
  },
  {
   "cell_type": "raw",
   "id": "29d18cc6",
   "metadata": {},
   "source": [
    "0 * np.nan\n",
    "np.nan == np.nan\n",
    "np.inf > np.nan\n",
    "np.nan - np.nan\n",
    "0.3 == 3 * 0.1"
   ]
  },
  {
   "cell_type": "code",
   "execution_count": 7,
   "id": "fb5f5d02",
   "metadata": {},
   "outputs": [
    {
     "name": "stdout",
     "output_type": "stream",
     "text": [
      "nan\n",
      "False\n",
      "False\n",
      "nan\n",
      "False\n"
     ]
    }
   ],
   "source": [
    "#nan stands for not a number\n",
    "\n",
    "#importing module\n",
    "import numpy as np\n",
    "\n",
    "print(0 * np.nan)\n",
    "\n",
    "#if you will check the equality of these it returns False\n",
    "print(np.nan == np.nan)\n",
    "\n",
    "# comparig infinite values with nan\n",
    "print(np.inf > np.nan)\n",
    "\n",
    "print(np.nan - np.nan)\n",
    "\n",
    "print(0.3 == 3 * 0.1)"
   ]
  },
  {
   "cell_type": "markdown",
   "id": "82f67211",
   "metadata": {},
   "source": [
    "# 18. Create a 5x5 matrix with values 1,2,3,4 just below the diagonal"
   ]
  },
  {
   "cell_type": "markdown",
   "id": "c0674230",
   "metadata": {},
   "source": [
    "k- The default is 0. Use k>0 for diagonals above the main diagonal, and k<0 for diagonals below the main diagonal."
   ]
  },
  {
   "cell_type": "markdown",
   "id": "4b404cc0",
   "metadata": {},
   "source": [
    "- The diag() function is used to extract a diagonal or construct a diagonal array."
   ]
  },
  {
   "cell_type": "code",
   "execution_count": 39,
   "id": "c2436a9f",
   "metadata": {
    "scrolled": true
   },
   "outputs": [
    {
     "name": "stdout",
     "output_type": "stream",
     "text": [
      "[[0 0 0 0 0]\n",
      " [1 0 0 0 0]\n",
      " [0 2 0 0 0]\n",
      " [0 0 3 0 0]\n",
      " [0 0 0 4 0]]\n"
     ]
    }
   ],
   "source": [
    "import numpy as np\n",
    "x = np.diag(1+np.arange(4),k=-1)\n",
    "print(x)"
   ]
  },
  {
   "cell_type": "markdown",
   "id": "10603f49",
   "metadata": {},
   "source": [
    "# 19. Create a 8x8 matrix and fill it with a checkerboard pattern"
   ]
  },
  {
   "cell_type": "code",
   "execution_count": 4,
   "id": "57d53f99",
   "metadata": {},
   "outputs": [
    {
     "name": "stdout",
     "output_type": "stream",
     "text": [
      "[[0 1 0 1 0 1 0 1]\n",
      " [1 0 1 0 1 0 1 0]\n",
      " [0 1 0 1 0 1 0 1]\n",
      " [1 0 1 0 1 0 1 0]\n",
      " [0 1 0 1 0 1 0 1]\n",
      " [1 0 1 0 1 0 1 0]\n",
      " [0 1 0 1 0 1 0 1]\n",
      " [1 0 1 0 1 0 1 0]]\n"
     ]
    }
   ],
   "source": [
    "import numpy as np\n",
    "x = np.zeros((8,8),dtype=int)\n",
    "x[1::2,::2] = 1\n",
    "x[::2,1::2] = 1\n",
    "print(x)"
   ]
  },
  {
   "cell_type": "markdown",
   "id": "8d5203bf",
   "metadata": {},
   "source": [
    "# 20. Consider a (6,7,8) shape array, what is the index (x,y,z) of the 100th element?"
   ]
  },
  {
   "cell_type": "markdown",
   "id": "a8ff1ba5",
   "metadata": {},
   "source": [
    "numpy.unravel_index(indices, shape, order='C')"
   ]
  },
  {
   "cell_type": "markdown",
   "id": "cac0a46d",
   "metadata": {},
   "source": [
    "- numpy.unravel_index() function converts a flat index or array of flat indices into a tuple of coordinate arrays."
   ]
  },
  {
   "cell_type": "code",
   "execution_count": 5,
   "id": "5615ade6",
   "metadata": {},
   "outputs": [
    {
     "name": "stdout",
     "output_type": "stream",
     "text": [
      "(1, 5, 4)\n"
     ]
    }
   ],
   "source": [
    "import numpy as np\n",
    "\n",
    "#get the index of a maximum element in a numpy array along one axis\n",
    "print(np.unravel_index(100,(6,7,8)))"
   ]
  },
  {
   "cell_type": "markdown",
   "id": "3a2e812c",
   "metadata": {},
   "source": [
    "# 21. Create a checkerboard 8x8 matrix using the tile function"
   ]
  },
  {
   "cell_type": "markdown",
   "id": "ba34d00b",
   "metadata": {},
   "source": [
    "Syntax : numpy.tile(A, reps)\n",
    "* A- array\n",
    "* reps - The number of repetitions of A along each axis.\n",
    "- Construct an array by repeating A the number of times given by reps."
   ]
  },
  {
   "cell_type": "code",
   "execution_count": 8,
   "id": "e78f8630",
   "metadata": {},
   "outputs": [
    {
     "name": "stdout",
     "output_type": "stream",
     "text": [
      "[[0 1 0 1 0 1 0 1]\n",
      " [1 0 1 0 1 0 1 0]\n",
      " [0 1 0 1 0 1 0 1]\n",
      " [1 0 1 0 1 0 1 0]\n",
      " [0 1 0 1 0 1 0 1]\n",
      " [1 0 1 0 1 0 1 0]\n",
      " [0 1 0 1 0 1 0 1]\n",
      " [1 0 1 0 1 0 1 0]]\n"
     ]
    }
   ],
   "source": [
    "import numpy as np\n",
    "x = np.tile( np.array([[0,1],[1,0]]), (4,4))\n",
    "print(x)"
   ]
  },
  {
   "cell_type": "markdown",
   "id": "5c602931",
   "metadata": {},
   "source": [
    "# 22. Normalize a 5x5 random matrix"
   ]
  },
  {
   "cell_type": "code",
   "execution_count": 4,
   "id": "8ec96bda",
   "metadata": {},
   "outputs": [
    {
     "name": "stdout",
     "output_type": "stream",
     "text": [
      "[[0.41270306 0.74577411 0.53129131 0.33460374 1.        ]\n",
      " [0.47283346 0.24935407 0.5478237  0.69002346 0.01942523]\n",
      " [0.97010287 0.37660134 0.08218788 0.51443646 0.27070873]\n",
      " [0.11244055 0.90055698 0.1723612  0.         0.79548375]\n",
      " [0.36996996 0.45944005 0.95847952 0.6442024  0.72732314]]\n"
     ]
    }
   ],
   "source": [
    "import numpy as np\n",
    "#Creating random array\n",
    "X = np.random.random((5,5))\n",
    "\n",
    "#Calculating min and max of array\n",
    "Xmax = X.max()\n",
    "Xmin = X.min()\n",
    "\n",
    "#Formula for normalization\n",
    "X = (X - Xmin)/(Xmax - Xmin)\n",
    "print(X)"
   ]
  },
  {
   "cell_type": "markdown",
   "id": "0e964d68",
   "metadata": {},
   "source": [
    "- In order to normalize a vector in NumPy, we can use the np.linalg.norm() function,"
   ]
  },
  {
   "cell_type": "code",
   "execution_count": 23,
   "id": "47381527",
   "metadata": {},
   "outputs": [
    {
     "name": "stdout",
     "output_type": "stream",
     "text": [
      "2.4866983263683107\n",
      "[[0.08769676 0.19553658 0.05556403 0.17753546 0.22813144]\n",
      " [0.15784147 0.1657302  0.33353424 0.08567789 0.17069294]\n",
      " [0.09599926 0.02443065 0.01867094 0.01684173 0.30711056]\n",
      " [0.03823063 0.26161513 0.2170434  0.39424076 0.00672938]\n",
      " [0.30873614 0.00838015 0.32729678 0.29549456 0.01577989]]\n"
     ]
    }
   ],
   "source": [
    "# Calculating a Vector Norm with NumPy\n",
    "import numpy as np\n",
    "\n",
    "# Generate an random Array\n",
    "X = np.random.random((5,5))\n",
    "\n",
    "# Calculate the vector norm\n",
    "normalized_vector = X / np.linalg.norm(X)\n",
    "print(normalized_vector)"
   ]
  },
  {
   "cell_type": "markdown",
   "id": "c36a6cda",
   "metadata": {},
   "source": [
    "# 23. Create a custom dtype that describes a color as four unsigned bytes (RGBA)"
   ]
  },
  {
   "cell_type": "code",
   "execution_count": 34,
   "id": "135db8ad",
   "metadata": {},
   "outputs": [
    {
     "name": "stdout",
     "output_type": "stream",
     "text": [
      "[('r', 'u1', (1,)), ('g', 'u1', (1,)), ('b', 'u1', (1,)), ('a', 'u1', (1,))]\n"
     ]
    }
   ],
   "source": [
    "import numpy as np\n",
    "color = np.dtype([(\"r\", np.ubyte, (1,)),\n",
    "                (\"g\", np.ubyte, (1,)),\n",
    "                (\"b\", np.ubyte, (1,)),\n",
    "                (\"a\", np.ubyte, (1,))])\n",
    "print(color)"
   ]
  },
  {
   "cell_type": "code",
   "execution_count": 32,
   "id": "68ca0d3f",
   "metadata": {},
   "outputs": [
    {
     "name": "stdout",
     "output_type": "stream",
     "text": [
      "2\n"
     ]
    },
    {
     "data": {
      "text/plain": [
       "numpy.ndarray"
      ]
     },
     "execution_count": 32,
     "metadata": {},
     "output_type": "execute_result"
    }
   ],
   "source": [
    "RGBA = np.dtype([('red',np.uint8),('green',np.uint8),('blue',np.uint8),('alpha',np.uint8)])\n",
    "color = np.array((1,2,4,3),dtype = RGBA)\n",
    "print(color['green'])\n",
    "type(color)"
   ]
  },
  {
   "cell_type": "markdown",
   "id": "0b4c9f3e",
   "metadata": {},
   "source": [
    "# 24. Multiply a 5x3 matrix by a 3x2 matrix (real matrix product)"
   ]
  },
  {
   "cell_type": "code",
   "execution_count": 36,
   "id": "b06f9d0e",
   "metadata": {},
   "outputs": [
    {
     "name": "stdout",
     "output_type": "stream",
     "text": [
      "[[3. 3.]\n",
      " [3. 3.]\n",
      " [3. 3.]\n",
      " [3. 3.]\n",
      " [3. 3.]]\n"
     ]
    }
   ],
   "source": [
    "import numpy as np\n",
    "#using dot product\n",
    "x = np.dot(np.ones((5,3)), np.ones((3,2)))\n",
    "print(x)"
   ]
  },
  {
   "cell_type": "code",
   "execution_count": 38,
   "id": "6c499e21",
   "metadata": {},
   "outputs": [
    {
     "data": {
      "text/plain": [
       "array([[1.85840844, 0.91012497],\n",
       "       [1.07683803, 0.41644896],\n",
       "       [1.55824775, 0.74306974],\n",
       "       [0.8811993 , 0.50497267],\n",
       "       [0.59458714, 0.13317637]])"
      ]
     },
     "execution_count": 38,
     "metadata": {},
     "output_type": "execute_result"
    }
   ],
   "source": [
    "#Creating random arrays\n",
    "arr_1 = np.random.random((5,3))\n",
    "arr_2 = np.random.random((3,2))\n",
    "np.dot(arr_1,arr_2)"
   ]
  },
  {
   "cell_type": "markdown",
   "id": "3cf8f0ef",
   "metadata": {},
   "source": [
    "# 25. Given a 1D array, negate all elements which are between 3 and 8, in place."
   ]
  },
  {
   "cell_type": "code",
   "execution_count": 45,
   "id": "892a44d6",
   "metadata": {},
   "outputs": [
    {
     "name": "stdout",
     "output_type": "stream",
     "text": [
      "Array is :  [ 0  1  2  3  4  5  6  7  8  9 10]\n",
      "\n",
      "Array after negating elements  :  [ 0  1  2  3 -4 -5 -6 -7 -8  9 10]\n"
     ]
    }
   ],
   "source": [
    "import numpy as np\n",
    "#creating array with 11 elements\n",
    "X = np.arange(11)\n",
    "print(\"Array is : \", X)\n",
    "\n",
    "#setting condition and multiply with -1\n",
    "X[(3 < X) & (X <= 8)] *= -1\n",
    "\n",
    "print(\"\\nArray after negating elements  : \", X)"
   ]
  },
  {
   "cell_type": "markdown",
   "id": "2f3e61f6",
   "metadata": {},
   "source": [
    "# 26. What is the output of the following script?"
   ]
  },
  {
   "cell_type": "raw",
   "id": "66911a5c",
   "metadata": {},
   "source": [
    "print(sum(range(5),-1))\n",
    "from numpy import *\n",
    "print(sum(range(5),-1))"
   ]
  },
  {
   "cell_type": "code",
   "execution_count": 46,
   "id": "4a0c8bd9",
   "metadata": {},
   "outputs": [
    {
     "name": "stdout",
     "output_type": "stream",
     "text": [
      "9\n",
      "10\n"
     ]
    }
   ],
   "source": [
    "print(sum(range(5),-1))\n",
    "from numpy import *\n",
    "print(sum(range(5),-1))"
   ]
  },
  {
   "cell_type": "markdown",
   "id": "65269650",
   "metadata": {},
   "source": [
    "# 27. Consider an integer vector Z, which of these expressions are legal?"
   ]
  },
  {
   "cell_type": "code",
   "execution_count": 55,
   "id": "5df3c679",
   "metadata": {},
   "outputs": [
    {
     "name": "stdout",
     "output_type": "stream",
     "text": [
      "[        1         1         4        27       256      3125     46656\n",
      "    823543  16777216 387420489]\n",
      "\n",
      " [  0   1   2   4   8  16  32  64 128 256]\n",
      "\n",
      " [False False False False False False False False False False]\n",
      "\n",
      " [0.+0.j 0.+1.j 0.+2.j 0.+3.j 0.+4.j 0.+5.j 0.+6.j 0.+7.j 0.+8.j 0.+9.j]\n",
      "\n",
      " [0. 1. 2. 3. 4. 5. 6. 7. 8. 9.]\n"
     ]
    },
    {
     "ename": "ValueError",
     "evalue": "The truth value of an array with more than one element is ambiguous. Use a.any() or a.all()",
     "output_type": "error",
     "traceback": [
      "\u001b[1;31m---------------------------------------------------------------------------\u001b[0m",
      "\u001b[1;31mValueError\u001b[0m                                Traceback (most recent call last)",
      "Input \u001b[1;32mIn [55]\u001b[0m, in \u001b[0;36m<cell line: 8>\u001b[1;34m()\u001b[0m\n\u001b[0;32m      6\u001b[0m \u001b[38;5;28mprint\u001b[39m(\u001b[38;5;124m\"\u001b[39m\u001b[38;5;130;01m\\n\u001b[39;00m\u001b[38;5;124m\"\u001b[39m,\u001b[38;5;241m1\u001b[39mj\u001b[38;5;241m*\u001b[39mZ)\n\u001b[0;32m      7\u001b[0m \u001b[38;5;28mprint\u001b[39m(\u001b[38;5;124m\"\u001b[39m\u001b[38;5;130;01m\\n\u001b[39;00m\u001b[38;5;124m\"\u001b[39m,Z\u001b[38;5;241m/\u001b[39m\u001b[38;5;241m1\u001b[39m\u001b[38;5;241m/\u001b[39m\u001b[38;5;241m1\u001b[39m)\n\u001b[1;32m----> 8\u001b[0m \u001b[38;5;28mprint\u001b[39m(\u001b[38;5;124m\"\u001b[39m\u001b[38;5;130;01m\\n\u001b[39;00m\u001b[38;5;124m\"\u001b[39m,Z\u001b[38;5;241m<\u001b[39mZ\u001b[38;5;241m>\u001b[39mZ)\n",
      "\u001b[1;31mValueError\u001b[0m: The truth value of an array with more than one element is ambiguous. Use a.any() or a.all()"
     ]
    }
   ],
   "source": [
    "import numpy as np\n",
    "Z = arange(10)\n",
    "print(Z**Z)\n",
    "print(\"\\n\", 2 << Z >> 2)\n",
    "print(\"\\n\",Z <- Z)\n",
    "print(\"\\n\",1j*Z)\n",
    "print(\"\\n\",Z/1/1)\n",
    "print(\"\\n\",Z<Z>Z)"
   ]
  },
  {
   "cell_type": "markdown",
   "id": "f411ee08",
   "metadata": {},
   "source": [
    "# 28. What are the result of the following expressions?"
   ]
  },
  {
   "cell_type": "raw",
   "id": "ef10bd69",
   "metadata": {},
   "source": [
    "np.array(0) // np.array(0)\n",
    "np.array(0) // np.array(0.)\n",
    "np.array(0) / np.array(0)\n",
    "np.array(0) / np.array(0.)"
   ]
  },
  {
   "cell_type": "code",
   "execution_count": 57,
   "id": "0fc0e191",
   "metadata": {},
   "outputs": [
    {
     "name": "stdout",
     "output_type": "stream",
     "text": [
      "0\n",
      "0\n",
      "nan\n"
     ]
    },
    {
     "name": "stderr",
     "output_type": "stream",
     "text": [
      "C:\\Users\\DELL\\AppData\\Local\\Temp\\ipykernel_10720\\2374626071.py:2: RuntimeWarning: divide by zero encountered in floor_divide\n",
      "  print(np.array(0) // np.array(0))\n",
      "C:\\Users\\DELL\\AppData\\Local\\Temp\\ipykernel_10720\\2374626071.py:3: RuntimeWarning: divide by zero encountered in floor_divide\n",
      "  print(np.array(0) // np.array(0))\n",
      "C:\\Users\\DELL\\AppData\\Local\\Temp\\ipykernel_10720\\2374626071.py:4: RuntimeWarning: invalid value encountered in true_divide\n",
      "  print(np.array(0) / np.array(0))\n"
     ]
    }
   ],
   "source": [
    "import numpy as np\n",
    "print(np.array(0) // np.array(0))\n",
    "print(np.array(0) // np.array(0))\n",
    "print(np.array(0) / np.array(0))"
   ]
  },
  {
   "cell_type": "markdown",
   "id": "4c268241",
   "metadata": {},
   "source": [
    "# 29. How to round away from zero a float array ?"
   ]
  },
  {
   "cell_type": "markdown",
   "id": "74c5fe44",
   "metadata": {},
   "source": [
    "- The numpy. trunc() is a mathematical function that returns the truncated value of the elements of array"
   ]
  },
  {
   "cell_type": "code",
   "execution_count": 64,
   "id": "810d2df4",
   "metadata": {},
   "outputs": [
    {
     "name": "stdout",
     "output_type": "stream",
     "text": [
      "[  2.   8.   3. -10.  -2.   4.   9.   5.   9.  -8.]\n"
     ]
    }
   ],
   "source": [
    "import numpy as np\n",
    "#by using uniform elements\n",
    "Z = np.random.uniform(-10,+10,10)\n",
    "\n",
    "print(np.trunc(Z + np.copysign(0.5, Z)))"
   ]
  },
  {
   "cell_type": "code",
   "execution_count": 63,
   "id": "d5a4375d",
   "metadata": {},
   "outputs": [
    {
     "name": "stdout",
     "output_type": "stream",
     "text": [
      "[[0.18834772 0.37375366 0.13545577 0.62952876 0.91287777]\n",
      " [0.48964133 0.63610648 0.26891309 0.56559882 0.0583328 ]\n",
      " [0.53658867 0.99725928 0.52355349 0.31674748 0.08973926]\n",
      " [0.72973233 0.71057311 0.30836708 0.48990551 0.12557964]\n",
      " [0.51323652 0.99785391 0.90970849 0.15082052 0.33754391]]\n",
      "\n",
      "Array after rounding \n",
      " [[0.19 0.37 0.14 0.63 0.91]\n",
      " [0.49 0.64 0.27 0.57 0.06]\n",
      " [0.54 1.   0.52 0.32 0.09]\n",
      " [0.73 0.71 0.31 0.49 0.13]\n",
      " [0.51 1.   0.91 0.15 0.34]]\n"
     ]
    }
   ],
   "source": [
    "#Create random array\n",
    "arr = np.random.random((5,5))\n",
    "print(arr)\n",
    "#using round function\n",
    "arr = np.round(arr,2)\n",
    "print(\"\\nArray after rounding \\n\",arr) "
   ]
  },
  {
   "cell_type": "markdown",
   "id": "6d35d86c",
   "metadata": {},
   "source": [
    "# 30. How to find common values between two arrays?"
   ]
  },
  {
   "cell_type": "code",
   "execution_count": 10,
   "id": "c2951bed",
   "metadata": {},
   "outputs": [
    {
     "name": "stdout",
     "output_type": "stream",
     "text": [
      "\n",
      "First array is : \n",
      " [[0 1 2]\n",
      " [3 4 5]\n",
      " [6 7 8]]\n",
      "\n",
      "Second array is : \n",
      " [[0 1 2]\n",
      " [3 4 5]\n",
      " [1 1 1]]\n",
      "\n",
      "Common values between two arrays are :  [0 1 2 3 4 5]\n"
     ]
    }
   ],
   "source": [
    "arr_1 = np.arange(9).reshape(3,3)\n",
    "print(\"\\nFirst array is : \\n\", arr_1)\n",
    "arr_2 = np.array([[0,1,2],[3,4,5],[1,1,1]])\n",
    "print(\"\\nSecond array is : \\n\", arr_2)\n",
    "\n",
    "common = np.intersect1d(arr_1, arr_2)\n",
    "print(\"\\nCommon values between two arrays are : \", common)\n"
   ]
  },
  {
   "cell_type": "markdown",
   "id": "45860634",
   "metadata": {},
   "source": [
    "# 31. How to ignore all numpy warnings? "
   ]
  },
  {
   "cell_type": "markdown",
   "id": "1bb910e4",
   "metadata": {},
   "source": [
    "- Below code give warning"
   ]
  },
  {
   "cell_type": "code",
   "execution_count": 8,
   "id": "855a5b2e",
   "metadata": {},
   "outputs": [
    {
     "name": "stdout",
     "output_type": "stream",
     "text": [
      "0\n"
     ]
    }
   ],
   "source": [
    "import numpy as np\n",
    "#It supprssed all warnings\n",
    "np.seterr(all=\"ignore\")\n",
    "print(np.array(0) // np.array(0))\n"
   ]
  },
  {
   "cell_type": "markdown",
   "id": "3c22bee2",
   "metadata": {},
   "source": [
    "# 32. Is the following expressions true?"
   ]
  },
  {
   "cell_type": "raw",
   "id": "1bc143f9",
   "metadata": {},
   "source": [
    "(np.sqrt(-1) == np.emath.sqrt(-1))"
   ]
  },
  {
   "cell_type": "code",
   "execution_count": 9,
   "id": "9b70a93c",
   "metadata": {},
   "outputs": [
    {
     "data": {
      "text/plain": [
       "False"
      ]
     },
     "execution_count": 9,
     "metadata": {},
     "output_type": "execute_result"
    }
   ],
   "source": [
    "(np.sqrt(-1) == np.emath.sqrt(-1))"
   ]
  },
  {
   "cell_type": "markdown",
   "id": "f27c630f",
   "metadata": {},
   "source": [
    "# 33. How to get the dates of yesterday, today and tomorrow?"
   ]
  },
  {
   "cell_type": "markdown",
   "id": "23eaa030",
   "metadata": {},
   "source": [
    "- With the help of numpy.datetime64() method, we can get the date in a numpy array in a particular format i.e year-month-day by using numpy.datetime64() method."
   ]
  },
  {
   "cell_type": "markdown",
   "id": "b6b25228",
   "metadata": {},
   "source": [
    "-  Return the date in a format ‘yyyy-mm-dd’."
   ]
  },
  {
   "cell_type": "code",
   "execution_count": 12,
   "id": "af7bf030",
   "metadata": {},
   "outputs": [
    {
     "name": "stdout",
     "output_type": "stream",
     "text": [
      "\n",
      "Date of yesterday is :  2023-01-07\n",
      "\n",
      "Today's date is :  2023-01-08\n",
      "\n",
      "Tommorow's date is :  2023-01-09\n"
     ]
    }
   ],
   "source": [
    "yesterday = np.datetime64('today', 'D') - np.timedelta64(1, 'D')\n",
    "print(\"\\nDate of yesterday is : \", yesterday)\n",
    "today     = np.datetime64('today', 'D')\n",
    "print(\"\\nToday's date is : \", today)\n",
    "tomorrow  = np.datetime64('today', 'D') + np.timedelta64(1, 'D')\n",
    "print(\"\\nTommorow's date is : \", tomorrow)"
   ]
  },
  {
   "cell_type": "markdown",
   "id": "058f505d",
   "metadata": {},
   "source": [
    "# 34. How to get all the dates corresponding to the month of July 2016?"
   ]
  },
  {
   "cell_type": "code",
   "execution_count": 14,
   "id": "442f7fa5",
   "metadata": {},
   "outputs": [
    {
     "name": "stdout",
     "output_type": "stream",
     "text": [
      "\n",
      "Date from July month are : \n",
      " ['2016-07-01' '2016-07-02' '2016-07-03' '2016-07-04' '2016-07-05'\n",
      " '2016-07-06' '2016-07-07' '2016-07-08' '2016-07-09' '2016-07-10'\n",
      " '2016-07-11' '2016-07-12' '2016-07-13' '2016-07-14' '2016-07-15'\n",
      " '2016-07-16' '2016-07-17' '2016-07-18' '2016-07-19' '2016-07-20'\n",
      " '2016-07-21' '2016-07-22' '2016-07-23' '2016-07-24' '2016-07-25'\n",
      " '2016-07-26' '2016-07-27' '2016-07-28' '2016-07-29' '2016-07-30'\n",
      " '2016-07-31']\n"
     ]
    }
   ],
   "source": [
    "Dates = np.arange('2016-07', '2016-08', dtype='datetime64[D]')\n",
    "print(\"\\nDate from July month are : \\n\", Dates)"
   ]
  },
  {
   "cell_type": "markdown",
   "id": "9b27a3df",
   "metadata": {},
   "source": [
    "# 35. How to compute ((A+B)*(-A/2)) in place (without copy)?"
   ]
  },
  {
   "cell_type": "code",
   "execution_count": 7,
   "id": "6c7a9ed0",
   "metadata": {},
   "outputs": [
    {
     "name": "stdout",
     "output_type": "stream",
     "text": [
      "Our first array A is: \n",
      " [1. 1. 1.]\n",
      "\n",
      "Our second array B is: \n",
      " [2. 2. 2.]\n",
      "\n",
      "Our Third array C is: \n",
      " [3. 3. 3.]\n",
      "\n",
      "Final result for above equation is : \n",
      " -4.5\n"
     ]
    }
   ],
   "source": [
    "#import module\n",
    "import numpy as np\n",
    "\n",
    "#Create three arrays for performing operation using ones()\n",
    "A = np.ones(3)*1\n",
    "print(\"Our first array A is: \\n\", A)\n",
    "B = np.ones(3)*2\n",
    "print(\"\\nOur second array B is: \\n\", B)\n",
    "C = np.ones(3)*3\n",
    "print(\"\\nOur Third array C is: \\n\", C)\n",
    "\n",
    "#add two array A and B first and result will store in B\n",
    "#the out parameter create new objects\n",
    "np.add(A,B,out=B)\n",
    "\n",
    "#Division perform on A\n",
    "np.divide(A,2,out=A)\n",
    "\n",
    "#negative function return the negative of the input\n",
    "np.negative(A,out=A)\n",
    "\n",
    "#Performing dot product\n",
    "print(\"\\nFinal result for above equation is : \\n\", np.dot(A,B))\n"
   ]
  },
  {
   "cell_type": "markdown",
   "id": "50d1fe03",
   "metadata": {},
   "source": [
    "# 36. Extract the integer part of a random array using 5 different methods"
   ]
  },
  {
   "cell_type": "code",
   "execution_count": 66,
   "id": "85db5ecf",
   "metadata": {},
   "outputs": [
    {
     "name": "stdout",
     "output_type": "stream",
     "text": [
      "[1. 4. 7. 7. 8. 2. 3. 1. 4. 5.]\n",
      "[1. 4. 7. 7. 8. 2. 3. 1. 4. 5.]\n",
      "[1. 4. 7. 7. 8. 2. 3. 1. 4. 5.]\n",
      "[1 4 7 7 8 2 3 1 4 5]\n",
      "[1. 4. 7. 7. 8. 2. 3. 1. 4. 5.]\n"
     ]
    }
   ],
   "source": [
    "import numpy as np\n",
    "Z = np.random.uniform(0,10,10)\n",
    "#1 using operators\n",
    "print(Z - Z%1)\n",
    "\n",
    "#2 Using floor method\n",
    "print(np.floor(Z))\n",
    "\n",
    "#3 Using ceil method\n",
    "print(np.ceil(Z)-1)\n",
    "\n",
    "#4 Using astype method\n",
    "print(Z.astype(int))\n",
    "\n",
    "#5 Using trunc method\n",
    "print(np.trunc(Z))"
   ]
  },
  {
   "cell_type": "markdown",
   "id": "fb733ccc",
   "metadata": {},
   "source": [
    "# 37. Create a 5x5 matrix with row values ranging from 0 to 4"
   ]
  },
  {
   "cell_type": "code",
   "execution_count": 10,
   "id": "d7518795",
   "metadata": {},
   "outputs": [
    {
     "name": "stdout",
     "output_type": "stream",
     "text": [
      "The created matris is : \n",
      " [[0. 1. 2. 3. 4.]\n",
      " [0. 1. 2. 3. 4.]\n",
      " [0. 1. 2. 3. 4.]\n",
      " [0. 1. 2. 3. 4.]\n",
      " [0. 1. 2. 3. 4.]]\n"
     ]
    }
   ],
   "source": [
    "import numpy as np\n",
    "#Create array of 5x5 using zeros()\n",
    "X = np.zeros((5,5))\n",
    "\n",
    "#perform additon with array within range of 0 to 4\n",
    "X += np.arange(5)\n",
    "print(\"The created matris is : \\n\", X)"
   ]
  },
  {
   "cell_type": "markdown",
   "id": "1ae171c8",
   "metadata": {},
   "source": [
    "# 38. Consider a generator function that generates 10 integers and use it to build an array"
   ]
  },
  {
   "cell_type": "markdown",
   "id": "6157e02f",
   "metadata": {},
   "source": [
    "- generator - is a function that returns an iterator that produces a sequence of values when iterated over."
   ]
  },
  {
   "cell_type": "raw",
   "id": "d2d32d74",
   "metadata": {},
   "source": [
    "- fromiter() - function create a new one-dimensional array from an iterable object.\n",
    "\n",
    "parameter in fromiter():\n",
    "dtype : [data-type] Data-type of the returned array.\n",
    "\n",
    "count : [int, optional] Number of items to read.\n",
    "\n",
    "Returns : [ndarray] The output array."
   ]
  },
  {
   "cell_type": "code",
   "execution_count": 15,
   "id": "e13b0d2e",
   "metadata": {},
   "outputs": [
    {
     "name": "stdout",
     "output_type": "stream",
     "text": [
      "Our array is : \n",
      " [0. 1. 2. 3. 4. 5. 6. 7. 8. 9.]\n"
     ]
    }
   ],
   "source": [
    "import numpy as np\n",
    "#used generator function from python\n",
    "def generate():\n",
    "    #to return 10 values\n",
    "    for x in range(10):\n",
    "        yield x\n",
    "x = np.fromiter(generate(),dtype=float,count=-1)\n",
    "print(\"Our array is : \\n\", x)"
   ]
  },
  {
   "cell_type": "markdown",
   "id": "57684b0d",
   "metadata": {},
   "source": [
    "# 39. Create a vector of size 10 with values ranging from 0 to 1, both excluded "
   ]
  },
  {
   "cell_type": "markdown",
   "id": "4d70ee3a",
   "metadata": {},
   "source": [
    "- The numpy.linspace() function returns number spaces evenly w.r.t interval."
   ]
  },
  {
   "cell_type": "code",
   "execution_count": 17,
   "id": "a89c6f3f",
   "metadata": {},
   "outputs": [
    {
     "name": "stdout",
     "output_type": "stream",
     "text": [
      "Values within interval is : \n",
      " [0.09090909 0.18181818 0.27272727 0.36363636 0.45454545 0.54545455\n",
      " 0.63636364 0.72727273 0.81818182 0.90909091]\n"
     ]
    }
   ],
   "source": [
    "import numpy as np\n",
    "#using linspace\n",
    "X = np.linspace(0,1,12,endpoint=True)[1:-1]\n",
    "print(\"Values within interval is : \\n\", X)"
   ]
  },
  {
   "cell_type": "markdown",
   "id": "910a8b1c",
   "metadata": {},
   "source": [
    "# 40. Create a random vector of size 10 and sort it "
   ]
  },
  {
   "cell_type": "code",
   "execution_count": 22,
   "id": "d3d3bf60",
   "metadata": {},
   "outputs": [
    {
     "name": "stdout",
     "output_type": "stream",
     "text": [
      "Original vectors : \n",
      " [0.51978173 0.72930493 0.7646328  0.98799435 0.27625608 0.83949948\n",
      " 0.00500148 0.03903887 0.42905661 0.6137483 ]\n",
      "\n",
      "Vectors after sorting : \n",
      " [0.00500148 0.03903887 0.27625608 0.42905661 0.51978173 0.6137483\n",
      " 0.72930493 0.7646328  0.83949948 0.98799435]\n"
     ]
    }
   ],
   "source": [
    "import numpy as np\n",
    "#Create random vector\n",
    "x = np.random.random(10)\n",
    "#vectors before sorting\n",
    "print(\"Original vectors : \\n\", x)\n",
    "#sorting\n",
    "x.sort()\n",
    "print(\"\\nVectors after sorting : \\n\", x)"
   ]
  },
  {
   "cell_type": "markdown",
   "id": "19a6ee5d",
   "metadata": {},
   "source": [
    "# 41. How to sum a small array faster than np.sum?"
   ]
  },
  {
   "cell_type": "markdown",
   "id": "0c0b5b18",
   "metadata": {},
   "source": [
    "- add.reduce() is equivalent to sum()\n",
    "- The given input array is reduced by applying the universal function recursively along a specified axis on consecutive elements."
   ]
  },
  {
   "cell_type": "code",
   "execution_count": 19,
   "id": "cf942cdf",
   "metadata": {},
   "outputs": [
    {
     "name": "stdout",
     "output_type": "stream",
     "text": [
      "Addition of array is : 45\n"
     ]
    }
   ],
   "source": [
    "import numpy as np\n",
    "#creating array\n",
    "x = np.arange(10)\n",
    "\n",
    "print(\"Addition of array is :\", np.add.reduce(x))"
   ]
  },
  {
   "cell_type": "markdown",
   "id": "6794713f",
   "metadata": {},
   "source": [
    "# 42. Consider two random array A anb B, check if they are equal"
   ]
  },
  {
   "cell_type": "markdown",
   "id": "d98499ee",
   "metadata": {},
   "source": [
    "allclose() - Returns True if two arrays are element-wise equal within a tolerance."
   ]
  },
  {
   "cell_type": "code",
   "execution_count": 21,
   "id": "374615d0",
   "metadata": {},
   "outputs": [
    {
     "name": "stdout",
     "output_type": "stream",
     "text": [
      "First array is : \n",
      " [0 0 1 0 0]\n",
      "\n",
      "Second array is : \n",
      " [0 1 1 0 1]\n",
      "\n",
      "Is two arrays are equal :  False\n"
     ]
    }
   ],
   "source": [
    "import numpy as np\n",
    "#Creating first random array with interger\n",
    "A = np.random.randint(0,2,5)\n",
    "print(\"First array is : \\n\", A)\n",
    "\n",
    "#Creating second random array with interger\n",
    "B = np.random.randint(0,2,5)\n",
    "print(\"\\nSecond array is : \\n\",B)\n",
    "\n",
    "#Comparing array and give output\n",
    "equal = np.allclose(A,B)\n",
    "print(\"\\nIs two arrays are equal : \", equal)"
   ]
  },
  {
   "cell_type": "markdown",
   "id": "8c5d4844",
   "metadata": {},
   "source": [
    "# 43. Make an array immutable (read­only)"
   ]
  },
  {
   "cell_type": "markdown",
   "id": "254946ad",
   "metadata": {},
   "source": [
    "- ndarray.flags - The flags object can be accessed dictionary-like (as in a.flags['WRITEABLE']), or by using lowercased attribute names (as in a.flags.writeable)."
   ]
  },
  {
   "cell_type": "code",
   "execution_count": 22,
   "id": "2b4f7ac2",
   "metadata": {},
   "outputs": [
    {
     "ename": "ValueError",
     "evalue": "assignment destination is read-only",
     "output_type": "error",
     "traceback": [
      "\u001b[1;31m---------------------------------------------------------------------------\u001b[0m",
      "\u001b[1;31mValueError\u001b[0m                                Traceback (most recent call last)",
      "Input \u001b[1;32mIn [22]\u001b[0m, in \u001b[0;36m<cell line: 4>\u001b[1;34m()\u001b[0m\n\u001b[0;32m      2\u001b[0m X \u001b[38;5;241m=\u001b[39m np\u001b[38;5;241m.\u001b[39mzeros(\u001b[38;5;241m10\u001b[39m)\n\u001b[0;32m      3\u001b[0m X\u001b[38;5;241m.\u001b[39mflags\u001b[38;5;241m.\u001b[39mwriteable \u001b[38;5;241m=\u001b[39m \u001b[38;5;28;01mFalse\u001b[39;00m\n\u001b[1;32m----> 4\u001b[0m X[\u001b[38;5;241m0\u001b[39m] \u001b[38;5;241m=\u001b[39m \u001b[38;5;241m1\u001b[39m\n",
      "\u001b[1;31mValueError\u001b[0m: assignment destination is read-only"
     ]
    }
   ],
   "source": [
    "import numpy as np\n",
    "X = np.zeros(10)\n",
    "#Making array immutable\n",
    "X.flags.writeable = False\n",
    "X[0] = 1"
   ]
  },
  {
   "cell_type": "markdown",
   "id": "9a0dae83",
   "metadata": {},
   "source": [
    "# 44. Consider a random 10x2 matrix representing cartesian coordinates, convert them to polar coordinates "
   ]
  },
  {
   "cell_type": "markdown",
   "id": "a5c74ea8",
   "metadata": {},
   "source": [
    "- The [:, :] stands for everything from the beginning to the end just like for lists.\n",
    "\n",
    "- The difference is that the first : stands for first and the second : for the second dimension."
   ]
  },
  {
   "cell_type": "markdown",
   "id": "5d6f7592",
   "metadata": {},
   "source": [
    "-  Cartesian Co-ordinate -  is used to locate the position of a point in a plane using two perpendicular lines."
   ]
  },
  {
   "cell_type": "markdown",
   "id": "ecc0652a",
   "metadata": {},
   "source": [
    "- The numpy.arctan2() method computes element-wise arc tangent of arr1/arr2 choosing the quadrant correctly"
   ]
  },
  {
   "cell_type": "raw",
   "id": "d387a7d5",
   "metadata": {},
   "source": [
    "- numpy uses tuples as indexes.\n",
    "[0]     - means line 0 of your matrix\n",
    "[(0,0)] - means cell at 0,0 of your matrix\n",
    "[0:1]   - means lines 0 to 1 excluded of your matrix\n",
    "[:1]    - excluding the first value means all lines until line 1 excluded\n",
    "[1:]    - excluding the last param mean all lines starting form line 1 included\n",
    "[:]     - excluding both means all lines\n",
    "[::2]   - the addition of a second ':' is the sampling. (1 item every 2)\n",
    "[::]    - exluding it means a sampling of 1\n",
    "[:,:]   - simply uses a tuple (a single , represents an empty tuple) instead of an index."
   ]
  },
  {
   "cell_type": "code",
   "execution_count": 1,
   "id": "2fb7bbf0",
   "metadata": {},
   "outputs": [
    {
     "name": "stdout",
     "output_type": "stream",
     "text": [
      "[0.37322209 0.88788    1.05934047 0.82849359 0.86136691 0.97728494\n",
      " 0.52642138 1.1151467  1.14236748 1.29011499]\n",
      "[0.20283731 1.44092377 1.11506225 1.4369744  1.16150269 0.04391578\n",
      " 0.66084541 1.05293149 0.79431515 0.79272283]\n"
     ]
    }
   ],
   "source": [
    "import numpy as np\n",
    "#creating random array\n",
    "Z = np.random.random((10,2))\n",
    "\n",
    "#It perform according to dimension we have pass\n",
    "X,Y = Z[:,0], Z[:,1]\n",
    "\n",
    "#used to determine the positive square-root of an array, element-wise\n",
    "R = np.sqrt(X**2+Y**2)\n",
    "\n",
    "#convert to cartesian cordinates\n",
    "T = np.arctan2(Y,X)\n",
    "print(R)\n",
    "print(T)"
   ]
  },
  {
   "cell_type": "markdown",
   "id": "b866ef3d",
   "metadata": {},
   "source": [
    "# 45. Create random vector of size 10 and replace the maximum value by 0"
   ]
  },
  {
   "cell_type": "code",
   "execution_count": 3,
   "id": "a2c8ab65",
   "metadata": {},
   "outputs": [
    {
     "name": "stdout",
     "output_type": "stream",
     "text": [
      "Our random array is : \n",
      " [0.05997906 0.14106981 0.974737   0.05285787 0.23082807 0.06451562\n",
      " 0.08479942 0.94854907 0.08921921 0.1370211 ]\n",
      "\n",
      "Array after replacing maximum value with 0 : \n",
      " [0.05997906 0.14106981 0.         0.05285787 0.23082807 0.06451562\n",
      " 0.08479942 0.94854907 0.08921921 0.1370211 ]\n"
     ]
    }
   ],
   "source": [
    "import numpy as np\n",
    "#Create random array\n",
    "x = np.random.random(10)\n",
    "print(\"Our random array is : \\n\", x)\n",
    "\n",
    "#replacing maximum value by 0\n",
    "x[x.argmax()] = 0\n",
    "\n",
    "print(\"\\nArray after replacing maximum value with 0 : \\n\", x)"
   ]
  },
  {
   "cell_type": "markdown",
   "id": "cbf1e009",
   "metadata": {},
   "source": [
    "# 46. Create a structured array with x and y coordinates covering the [0,1]x[0,1] area"
   ]
  },
  {
   "cell_type": "markdown",
   "id": "bd78d574",
   "metadata": {},
   "source": [
    "- meshgrid() - The numpy.meshgrid function is used to create a rectangular grid out of two given one-dimensional arrays representing the Cartesian indexing or Matrix indexing."
   ]
  },
  {
   "cell_type": "code",
   "execution_count": 6,
   "id": "81757e69",
   "metadata": {},
   "outputs": [
    {
     "name": "stdout",
     "output_type": "stream",
     "text": [
      "[[(0.        , 0.        ) (0.11111111, 0.        )\n",
      "  (0.22222222, 0.        ) (0.33333333, 0.        )\n",
      "  (0.44444444, 0.        ) (0.55555556, 0.        )\n",
      "  (0.66666667, 0.        ) (0.77777778, 0.        )\n",
      "  (0.88888889, 0.        ) (1.        , 0.        )]\n",
      " [(0.        , 0.11111111) (0.11111111, 0.11111111)\n",
      "  (0.22222222, 0.11111111) (0.33333333, 0.11111111)\n",
      "  (0.44444444, 0.11111111) (0.55555556, 0.11111111)\n",
      "  (0.66666667, 0.11111111) (0.77777778, 0.11111111)\n",
      "  (0.88888889, 0.11111111) (1.        , 0.11111111)]\n",
      " [(0.        , 0.22222222) (0.11111111, 0.22222222)\n",
      "  (0.22222222, 0.22222222) (0.33333333, 0.22222222)\n",
      "  (0.44444444, 0.22222222) (0.55555556, 0.22222222)\n",
      "  (0.66666667, 0.22222222) (0.77777778, 0.22222222)\n",
      "  (0.88888889, 0.22222222) (1.        , 0.22222222)]\n",
      " [(0.        , 0.33333333) (0.11111111, 0.33333333)\n",
      "  (0.22222222, 0.33333333) (0.33333333, 0.33333333)\n",
      "  (0.44444444, 0.33333333) (0.55555556, 0.33333333)\n",
      "  (0.66666667, 0.33333333) (0.77777778, 0.33333333)\n",
      "  (0.88888889, 0.33333333) (1.        , 0.33333333)]\n",
      " [(0.        , 0.44444444) (0.11111111, 0.44444444)\n",
      "  (0.22222222, 0.44444444) (0.33333333, 0.44444444)\n",
      "  (0.44444444, 0.44444444) (0.55555556, 0.44444444)\n",
      "  (0.66666667, 0.44444444) (0.77777778, 0.44444444)\n",
      "  (0.88888889, 0.44444444) (1.        , 0.44444444)]\n",
      " [(0.        , 0.55555556) (0.11111111, 0.55555556)\n",
      "  (0.22222222, 0.55555556) (0.33333333, 0.55555556)\n",
      "  (0.44444444, 0.55555556) (0.55555556, 0.55555556)\n",
      "  (0.66666667, 0.55555556) (0.77777778, 0.55555556)\n",
      "  (0.88888889, 0.55555556) (1.        , 0.55555556)]\n",
      " [(0.        , 0.66666667) (0.11111111, 0.66666667)\n",
      "  (0.22222222, 0.66666667) (0.33333333, 0.66666667)\n",
      "  (0.44444444, 0.66666667) (0.55555556, 0.66666667)\n",
      "  (0.66666667, 0.66666667) (0.77777778, 0.66666667)\n",
      "  (0.88888889, 0.66666667) (1.        , 0.66666667)]\n",
      " [(0.        , 0.77777778) (0.11111111, 0.77777778)\n",
      "  (0.22222222, 0.77777778) (0.33333333, 0.77777778)\n",
      "  (0.44444444, 0.77777778) (0.55555556, 0.77777778)\n",
      "  (0.66666667, 0.77777778) (0.77777778, 0.77777778)\n",
      "  (0.88888889, 0.77777778) (1.        , 0.77777778)]\n",
      " [(0.        , 0.88888889) (0.11111111, 0.88888889)\n",
      "  (0.22222222, 0.88888889) (0.33333333, 0.88888889)\n",
      "  (0.44444444, 0.88888889) (0.55555556, 0.88888889)\n",
      "  (0.66666667, 0.88888889) (0.77777778, 0.88888889)\n",
      "  (0.88888889, 0.88888889) (1.        , 0.88888889)]\n",
      " [(0.        , 1.        ) (0.11111111, 1.        )\n",
      "  (0.22222222, 1.        ) (0.33333333, 1.        )\n",
      "  (0.44444444, 1.        ) (0.55555556, 1.        )\n",
      "  (0.66666667, 1.        ) (0.77777778, 1.        )\n",
      "  (0.88888889, 1.        ) (1.        , 1.        )]]\n"
     ]
    }
   ],
   "source": [
    "import numpy as np\n",
    "#Creating array of 10x10\n",
    "Z = np.zeros((10,10), [('x',float),('y',float)])\n",
    "\n",
    "Z['x'], Z['y'] = np.meshgrid(np.linspace(0,1,10),\n",
    "np.linspace(0,1,10))\n",
    "print(Z)"
   ]
  },
  {
   "cell_type": "markdown",
   "id": "adfa808a",
   "metadata": {},
   "source": [
    "# 47. Given two arrays, X and Y, construct the Cauchy matrix C (Cij = 1/(xi ­ yj))"
   ]
  },
  {
   "cell_type": "markdown",
   "id": "b439db3b",
   "metadata": {},
   "source": [
    "- Cauchy matrix - is an m×n matrix with elements aij"
   ]
  },
  {
   "cell_type": "raw",
   "id": "e6a1ac65",
   "metadata": {},
   "source": [
    "- It is generated by \n",
    "C[i][j] = 1/(x[i] - y[j])"
   ]
  },
  {
   "cell_type": "code",
   "execution_count": 8,
   "id": "c14c260d",
   "metadata": {},
   "outputs": [
    {
     "name": "stdout",
     "output_type": "stream",
     "text": [
      "Cauchy Matrix value is :  3638.1636371179666\n"
     ]
    }
   ],
   "source": [
    "import numpy as np\n",
    "X = np.arange(8)\n",
    "Y = X + 0.5\n",
    "\n",
    "#perform calculation for cauchy matrix\n",
    "C = 1.0 / np.subtract.outer(X, Y)\n",
    "\n",
    "#compute the determinant of the given square array \n",
    "result = np.linalg.det(C)\n",
    "print(\"Cauchy Matrix value is : \", result)"
   ]
  },
  {
   "cell_type": "markdown",
   "id": "859184fd",
   "metadata": {},
   "source": [
    "# 48. Print the minimum and maximum representable value for each numpy scalar type"
   ]
  },
  {
   "cell_type": "markdown",
   "id": "a26ab139",
   "metadata": {},
   "source": [
    "- iinfo() - function shows machine limits for integer types.\n",
    "- finfo() - function shows machine limits for floating point types"
   ]
  },
  {
   "cell_type": "code",
   "execution_count": 12,
   "id": "b30db978",
   "metadata": {},
   "outputs": [
    {
     "name": "stdout",
     "output_type": "stream",
     "text": [
      "Minimum value for integer data type :  -128\n",
      "Maximum value for integer data type :  127\n",
      "Minimum value for integer data type :  -2147483648\n",
      "Maximum value for integer data type :  2147483647\n",
      "Minimum value for integer data type :  -9223372036854775808\n",
      "Maximum value for integer data type :  9223372036854775807\n",
      "Minimum value for integer data type :  -3.4028235e+38\n",
      "Maximum value for integer data type :  3.4028235e+38\n",
      "Epsilion value is :  1.1920929e-07\n",
      "Minimum value for integer data type :  -1.7976931348623157e+308\n",
      "Maximum value for integer data type :  1.7976931348623157e+308\n",
      "Epsilion value is :  2.220446049250313e-16\n"
     ]
    }
   ],
   "source": [
    "import numpy as np\n",
    "#iterate over different system limit\n",
    "for dtype in [np.int8, np.int32, np.int64]:\n",
    "    minimum = (np.iinfo(dtype).min)\n",
    "    print(\"Minimum value for integer data type : \", minimum)\n",
    "    maximum = np.iinfo(dtype).max\n",
    "    print(\"Maximum value for integer data type : \", maximum)\n",
    "    \n",
    "for dtype in [np.float32, np.float64]:\n",
    "    minim= np.finfo(dtype).min\n",
    "    print(\"Minimum value for integer data type : \", minim)\n",
    "    maxim = np.finfo(dtype).max\n",
    "    print(\"Maximum value for integer data type : \", maxim)\n",
    "    epsilon = np.finfo(dtype).eps\n",
    "    print(\"Epsilion value is : \", epsilon)"
   ]
  },
  {
   "cell_type": "markdown",
   "id": "19aca99b",
   "metadata": {},
   "source": [
    "# 49. How to print all the values of an array?"
   ]
  },
  {
   "cell_type": "code",
   "execution_count": 20,
   "id": "f062d717",
   "metadata": {},
   "outputs": [
    {
     "name": "stdout",
     "output_type": "stream",
     "text": [
      "[[1. 1. 1. 1. 1. 1. 1. 1. 1. 1. 1. 1. 1. 1. 1. 1. 1. 1. 1. 1. 1. 1. 1. 1.\n",
      "  1.]\n",
      " [1. 1. 1. 1. 1. 1. 1. 1. 1. 1. 1. 1. 1. 1. 1. 1. 1. 1. 1. 1. 1. 1. 1. 1.\n",
      "  1.]\n",
      " [1. 1. 1. 1. 1. 1. 1. 1. 1. 1. 1. 1. 1. 1. 1. 1. 1. 1. 1. 1. 1. 1. 1. 1.\n",
      "  1.]\n",
      " [1. 1. 1. 1. 1. 1. 1. 1. 1. 1. 1. 1. 1. 1. 1. 1. 1. 1. 1. 1. 1. 1. 1. 1.\n",
      "  1.]\n",
      " [1. 1. 1. 1. 1. 1. 1. 1. 1. 1. 1. 1. 1. 1. 1. 1. 1. 1. 1. 1. 1. 1. 1. 1.\n",
      "  1.]\n",
      " [1. 1. 1. 1. 1. 1. 1. 1. 1. 1. 1. 1. 1. 1. 1. 1. 1. 1. 1. 1. 1. 1. 1. 1.\n",
      "  1.]\n",
      " [1. 1. 1. 1. 1. 1. 1. 1. 1. 1. 1. 1. 1. 1. 1. 1. 1. 1. 1. 1. 1. 1. 1. 1.\n",
      "  1.]\n",
      " [1. 1. 1. 1. 1. 1. 1. 1. 1. 1. 1. 1. 1. 1. 1. 1. 1. 1. 1. 1. 1. 1. 1. 1.\n",
      "  1.]\n",
      " [1. 1. 1. 1. 1. 1. 1. 1. 1. 1. 1. 1. 1. 1. 1. 1. 1. 1. 1. 1. 1. 1. 1. 1.\n",
      "  1.]\n",
      " [1. 1. 1. 1. 1. 1. 1. 1. 1. 1. 1. 1. 1. 1. 1. 1. 1. 1. 1. 1. 1. 1. 1. 1.\n",
      "  1.]\n",
      " [1. 1. 1. 1. 1. 1. 1. 1. 1. 1. 1. 1. 1. 1. 1. 1. 1. 1. 1. 1. 1. 1. 1. 1.\n",
      "  1.]\n",
      " [1. 1. 1. 1. 1. 1. 1. 1. 1. 1. 1. 1. 1. 1. 1. 1. 1. 1. 1. 1. 1. 1. 1. 1.\n",
      "  1.]\n",
      " [1. 1. 1. 1. 1. 1. 1. 1. 1. 1. 1. 1. 1. 1. 1. 1. 1. 1. 1. 1. 1. 1. 1. 1.\n",
      "  1.]\n",
      " [1. 1. 1. 1. 1. 1. 1. 1. 1. 1. 1. 1. 1. 1. 1. 1. 1. 1. 1. 1. 1. 1. 1. 1.\n",
      "  1.]\n",
      " [1. 1. 1. 1. 1. 1. 1. 1. 1. 1. 1. 1. 1. 1. 1. 1. 1. 1. 1. 1. 1. 1. 1. 1.\n",
      "  1.]\n",
      " [1. 1. 1. 1. 1. 1. 1. 1. 1. 1. 1. 1. 1. 1. 1. 1. 1. 1. 1. 1. 1. 1. 1. 1.\n",
      "  1.]\n",
      " [1. 1. 1. 1. 1. 1. 1. 1. 1. 1. 1. 1. 1. 1. 1. 1. 1. 1. 1. 1. 1. 1. 1. 1.\n",
      "  1.]\n",
      " [1. 1. 1. 1. 1. 1. 1. 1. 1. 1. 1. 1. 1. 1. 1. 1. 1. 1. 1. 1. 1. 1. 1. 1.\n",
      "  1.]\n",
      " [1. 1. 1. 1. 1. 1. 1. 1. 1. 1. 1. 1. 1. 1. 1. 1. 1. 1. 1. 1. 1. 1. 1. 1.\n",
      "  1.]\n",
      " [1. 1. 1. 1. 1. 1. 1. 1. 1. 1. 1. 1. 1. 1. 1. 1. 1. 1. 1. 1. 1. 1. 1. 1.\n",
      "  1.]\n",
      " [1. 1. 1. 1. 1. 1. 1. 1. 1. 1. 1. 1. 1. 1. 1. 1. 1. 1. 1. 1. 1. 1. 1. 1.\n",
      "  1.]\n",
      " [1. 1. 1. 1. 1. 1. 1. 1. 1. 1. 1. 1. 1. 1. 1. 1. 1. 1. 1. 1. 1. 1. 1. 1.\n",
      "  1.]\n",
      " [1. 1. 1. 1. 1. 1. 1. 1. 1. 1. 1. 1. 1. 1. 1. 1. 1. 1. 1. 1. 1. 1. 1. 1.\n",
      "  1.]\n",
      " [1. 1. 1. 1. 1. 1. 1. 1. 1. 1. 1. 1. 1. 1. 1. 1. 1. 1. 1. 1. 1. 1. 1. 1.\n",
      "  1.]\n",
      " [1. 1. 1. 1. 1. 1. 1. 1. 1. 1. 1. 1. 1. 1. 1. 1. 1. 1. 1. 1. 1. 1. 1. 1.\n",
      "  1.]]\n"
     ]
    }
   ],
   "source": [
    "import numpy as np\n",
    "import sys\n",
    "#Setting maxsize with system\n",
    "np.set_printoptions(threshold=sys.maxsize)\n",
    "x = np.ones((25,25))\n",
    "print(x)"
   ]
  },
  {
   "cell_type": "markdown",
   "id": "9950fc8b",
   "metadata": {},
   "source": [
    "# 50. How to find the closest value (to a given scalar) in an array?"
   ]
  },
  {
   "cell_type": "code",
   "execution_count": 23,
   "id": "ce64179b",
   "metadata": {},
   "outputs": [
    {
     "name": "stdout",
     "output_type": "stream",
     "text": [
      "Our array is : \n",
      " [ 0  1  2  3  4  5  6  7  8  9 10 11 12 13 14 15 16 17 18 19 20 21 22 23\n",
      " 24 25 26 27 28 29 30 31 32 33 34 35 36 37 38 39 40 41 42 43 44 45 46 47\n",
      " 48 49 50 51 52 53 54 55 56 57 58 59 60 61 62 63 64 65 66 67 68 69 70 71\n",
      " 72 73 74 75 76 77 78 79 80 81 82 83 84 85 86 87 88 89 90 91 92 93 94 95\n",
      " 96 97 98 99]\n",
      "\n",
      "Uniform distribution sample is :  10.343009885818422\n",
      "\n",
      "Closest value in given array is  10\n"
     ]
    }
   ],
   "source": [
    "import numpy as np\n",
    "x = np.arange(100)\n",
    "print(\"Our array is : \\n\", x)\n",
    "\n",
    "#getting uniform sample within range\n",
    "v = np.random.uniform(0,100)\n",
    "print(\"\\nUniform distribution sample is : \", v)\n",
    "\n",
    "#getting index absolute closest value\n",
    "index = (np.abs(x-v)).argmin()\n",
    "\n",
    "print(\"\\nClosest value in given array is \", x[index])\n"
   ]
  },
  {
   "cell_type": "markdown",
   "id": "9e4e0868",
   "metadata": {},
   "source": [
    "# 51. How to tell if a given 2D array has null columns?"
   ]
  },
  {
   "cell_type": "markdown",
   "id": "cbfc1a80",
   "metadata": {},
   "source": [
    "- numpy.any() : function tests whether any array elements along the mentioned axis evaluate to True."
   ]
  },
  {
   "cell_type": "code",
   "execution_count": 4,
   "id": "0df607db",
   "metadata": {},
   "outputs": [
    {
     "name": "stdout",
     "output_type": "stream",
     "text": [
      "Our random array is: \n",
      " [[0 2 0 0 1 1 2 1 2 2]\n",
      " [1 0 2 1 2 1 2 0 0 0]\n",
      " [2 0 0 1 1 0 0 0 1 2]]\n",
      "False\n"
     ]
    }
   ],
   "source": [
    "import numpy as np\n",
    "#Creating random array 3x10\n",
    "x = np.random.randint(0,3,(3,10))\n",
    "print(\"Our random array is: \\n\", x)\n",
    "print((~x.any(axis=0)).any())"
   ]
  },
  {
   "cell_type": "markdown",
   "id": "7bc3ca77",
   "metadata": {},
   "source": [
    "# 52. How to swap two rows of an array? "
   ]
  },
  {
   "cell_type": "code",
   "execution_count": 3,
   "id": "ae31533f",
   "metadata": {},
   "outputs": [
    {
     "name": "stdout",
     "output_type": "stream",
     "text": [
      "Array before Swapping : \n",
      " [[ 0  1  2  3  4]\n",
      " [ 5  6  7  8  9]\n",
      " [10 11 12 13 14]\n",
      " [15 16 17 18 19]\n",
      " [20 21 22 23 24]]\n",
      "\n",
      "Array after Swapping : \n",
      " [[ 5  6  7  8  9]\n",
      " [ 0  1  2  3  4]\n",
      " [10 11 12 13 14]\n",
      " [15 16 17 18 19]\n",
      " [20 21 22 23 24]]\n"
     ]
    }
   ],
   "source": [
    "import numpy as np\n",
    "#creating array\n",
    "A = np.arange(25).reshape(5,5)\n",
    "print(\"Array before Swapping : \\n\", A)\n",
    "#swapping rows of array\n",
    "A[[0,1]] = A[[1,0]]\n",
    "print(\"\\nArray after Swapping : \\n\",A)"
   ]
  },
  {
   "cell_type": "markdown",
   "id": "b2ea70a8",
   "metadata": {},
   "source": [
    "# 53. How to negate a boolean, or to change the sign of a float inplace?"
   ]
  },
  {
   "cell_type": "markdown",
   "id": "dfdd3e7f",
   "metadata": {},
   "source": [
    "- numpy.logical_not - This is a logical function that computes the truth value of NOT arr element-wise."
   ]
  },
  {
   "cell_type": "code",
   "execution_count": 7,
   "id": "0a412662",
   "metadata": {},
   "outputs": [
    {
     "name": "stdout",
     "output_type": "stream",
     "text": [
      "[0 1 1 1 1 0 1 0 0 0 0 0 0 1 1 0 1 0 1 0 1 0 0 0 0 0 1 0 1 1 0 1 0 0 0 0 1\n",
      " 0 0 0 1 1 1 1 0 0 1 1 0 0 1 0 0 0 1 0 0 1 1 0 0 0 0 0 0 0 1 1 0 1 0 1 1 0\n",
      " 0 1 0 1 1 1 1 0 0 0 1 0 1 1 0 1 1 1 1 1 0 1 1 1 0 0]\n"
     ]
    },
    {
     "data": {
      "text/plain": [
       "array([-0.90397359,  0.89200601,  0.27137107,  0.60232518, -0.42836777,\n",
       "       -0.68636286, -0.47800234, -0.80331421, -0.79542891, -0.53396469,\n",
       "       -0.58698585,  0.29116945,  0.98402946,  0.78882422,  0.71573466,\n",
       "       -0.26626177,  0.3793385 ,  0.05629665, -0.80053068,  0.13312727,\n",
       "       -0.664545  ,  0.00354142,  0.3388526 ,  0.96852138, -0.33664854,\n",
       "       -0.75670972, -0.24400061, -0.33317603, -0.19713686, -0.4006502 ,\n",
       "       -0.74577893, -0.77604023,  0.10846352, -0.54621725,  0.46227577,\n",
       "        0.24997141,  0.44519814,  0.70154554,  0.74482622, -0.84771314,\n",
       "        0.53338919, -0.05990865, -0.09485485, -0.53646112,  0.18727735,\n",
       "        0.9941142 ,  0.79940663,  0.82023997, -0.26760174, -0.70212874,\n",
       "        0.24177161,  0.39703712, -0.77936476,  0.40068073,  0.60136967,\n",
       "       -0.54252612,  0.7343823 , -0.52762797,  0.32639623,  0.44787823,\n",
       "        0.4222062 , -0.29475568,  0.54409967, -0.33853654,  0.18427074,\n",
       "        0.91092683,  0.41476129,  0.34308116,  0.93388287,  0.1633381 ,\n",
       "       -0.28833825, -0.36278968, -0.85067468, -0.5964733 , -0.21999034,\n",
       "       -0.57925174, -0.17372655, -0.1984985 ,  0.85064338, -0.41073395,\n",
       "       -0.02280419, -0.49099917,  0.35734361, -0.77445103,  0.14825155,\n",
       "       -0.13076053, -0.61122583, -0.60284145, -0.22263088, -0.60476228,\n",
       "        0.62379558,  0.35509156, -0.4535427 ,  0.8383726 ,  0.07631088,\n",
       "        0.63220321, -0.60443643, -0.02523168, -0.50215597, -0.46279265])"
      ]
     },
     "execution_count": 7,
     "metadata": {},
     "output_type": "execute_result"
    }
   ],
   "source": [
    "import numpy as np\n",
    "X = np.random.randint(0,2,100)\n",
    "#performing boolean\n",
    "np.logical_not(X, out=X)\n",
    "print(X)\n",
    "X = np.random.uniform(-1.0,1.0,100)\n",
    "#Change the sign of a float\n",
    "np.negative(X, out=X)"
   ]
  },
  {
   "cell_type": "markdown",
   "id": "0364968b",
   "metadata": {},
   "source": [
    "# 54. Create a structured array representing a position (x,y) and a color (r,g,b)"
   ]
  },
  {
   "cell_type": "markdown",
   "id": "62588cba",
   "metadata": {},
   "source": [
    "- Numpy’s Structured Array is similar to Struct in C. It is used for grouping data of different types and sizes.\n",
    "- All structs in array have same number of fields.\n",
    "- All structs have same fields names."
   ]
  },
  {
   "cell_type": "code",
   "execution_count": 1,
   "id": "570a0d3c",
   "metadata": {},
   "outputs": [
    {
     "name": "stdout",
     "output_type": "stream",
     "text": [
      "[((0., 0.), (0., 0., 0.)) ((0., 0.), (0., 0., 0.))\n",
      " ((0., 0.), (0., 0., 0.)) ((0., 0.), (0., 0., 0.))\n",
      " ((0., 0.), (0., 0., 0.)) ((0., 0.), (0., 0., 0.))\n",
      " ((0., 0.), (0., 0., 0.)) ((0., 0.), (0., 0., 0.))\n",
      " ((0., 0.), (0., 0., 0.)) ((0., 0.), (0., 0., 0.))]\n"
     ]
    }
   ],
   "source": [
    "import numpy as np\n",
    "Z = np.zeros(10, [ ('position', [ ('x', float),\n",
    "                                  ('y', float)]),\n",
    "                   ('color',    [ ('r', float),\n",
    "                                  ('g', float),\n",
    "                                  ('b', float)])])\n",
    "print(Z)"
   ]
  },
  {
   "cell_type": "markdown",
   "id": "fec85809",
   "metadata": {},
   "source": [
    "# 55. How to convert a float (32 bits) array into an integer (32 bits) in place?"
   ]
  },
  {
   "cell_type": "markdown",
   "id": "1aa0a390",
   "metadata": {},
   "source": [
    "numpy.astype()  - Copy of the array, cast to a specified type."
   ]
  },
  {
   "cell_type": "code",
   "execution_count": 7,
   "id": "b45a56ae",
   "metadata": {},
   "outputs": [
    {
     "name": "stdout",
     "output_type": "stream",
     "text": [
      "Float form of array is : \n",
      " [0. 1. 2. 3. 4. 5. 6. 7. 8. 9.]\n",
      "\n",
      "Float array after convert in integer data type : \n",
      " [0 1 2 3 4 5 6 7 8 9]\n"
     ]
    }
   ],
   "source": [
    "import numpy as np\n",
    "#Creating array of float data type\n",
    "X = np.arange(10, dtype=np.float32)\n",
    "print(\"Float form of array is : \\n\", X)\n",
    "X = X.astype(np.int32, copy=False)\n",
    "print(\"\\nFloat array after convert in integer data type : \\n\", X)"
   ]
  },
  {
   "cell_type": "markdown",
   "id": "cb0731a4",
   "metadata": {},
   "source": [
    "# 56. What is the equivalent of enumerate for numpy arrays?"
   ]
  },
  {
   "cell_type": "markdown",
   "id": "ed2c617b",
   "metadata": {},
   "source": [
    "ndenumerate() - This method returns an iterator yielding pairs of array coordinates and values."
   ]
  },
  {
   "cell_type": "markdown",
   "id": "21077b74",
   "metadata": {},
   "source": [
    "- We require corresponding index of the element while iterating, the ndenumerate() method can be used for those usecases."
   ]
  },
  {
   "cell_type": "markdown",
   "id": "056b861c",
   "metadata": {},
   "source": [
    "numpy.ndindex() - An N-dimensional iterator object to index arrays.\n",
    "\n",
    "- Given the shape of an array, an ndindex instance iterates over the N-dimensional index of the array. At each iteration a tuple of indices is returned, the last dimension is iterated over first"
   ]
  },
  {
   "cell_type": "code",
   "execution_count": 10,
   "id": "881e6359",
   "metadata": {},
   "outputs": [
    {
     "name": "stdout",
     "output_type": "stream",
     "text": [
      "Our array is : \n",
      " [[0 1 2]\n",
      " [3 4 5]\n",
      " [6 7 8]]\n",
      "(0, 0) 0\n",
      "(0, 1) 1\n",
      "(0, 2) 2\n",
      "(1, 0) 3\n",
      "(1, 1) 4\n",
      "(1, 2) 5\n",
      "(2, 0) 6\n",
      "(2, 1) 7\n",
      "(2, 2) 8\n",
      "(0, 0) 0\n",
      "(0, 1) 1\n",
      "(0, 2) 2\n",
      "(1, 0) 3\n",
      "(1, 1) 4\n",
      "(1, 2) 5\n",
      "(2, 0) 6\n",
      "(2, 1) 7\n",
      "(2, 2) 8\n"
     ]
    }
   ],
   "source": [
    "import numpy as np\n",
    "#Creating array\n",
    "x = np.arange(9).reshape(3,3)\n",
    "print(\"Our array is : \\n\", x)\n",
    "\n",
    "for index, value in np.ndenumerate(x):\n",
    "    print(index, value)\n",
    "for index in np.ndindex(x.shape):\n",
    "    print(index, x[index])"
   ]
  },
  {
   "cell_type": "markdown",
   "id": "c49f4083",
   "metadata": {},
   "source": [
    "# 57. How to read the following file?"
   ]
  },
  {
   "cell_type": "markdown",
   "id": "fd74463c",
   "metadata": {},
   "source": [
    "- numpy.genfromtxt( ) – Used to load data from a text file, with missing values handled as defined."
   ]
  },
  {
   "cell_type": "code",
   "execution_count": 15,
   "id": "25744076",
   "metadata": {},
   "outputs": [
    {
     "name": "stdout",
     "output_type": "stream",
     "text": [
      "Data from the given file is : \n",
      " [[ 1  2]\n",
      " [ 3  4]\n",
      " [ 5  6]\n",
      " [ 7  8]\n",
      " [ 9 10]]\n",
      "\n",
      "Data after converting from given file is : \n",
      " [['1' '2']\n",
      " ['3' '4']\n",
      " ['5' '6']\n",
      " ['7' '8']\n",
      " ['9' '10']]\n"
     ]
    }
   ],
   "source": [
    "import numpy as np\n",
    "# File content:\n",
    "# -------------\n",
    "1, 2, 3, 4, 5,\n",
    "6, 7, 8, 9, 10\n",
    "#---------\n",
    "\n",
    "X = np.genfromtxt(\"missing.txt\", delimiter=\",\")\n",
    "\n",
    "File_data = np.loadtxt(\"missing.txt\", dtype=int)\n",
    "print(\"Data from the given file is : \\n\", File_data)\n",
    "\n",
    "# converting file data to string\n",
    "data = np.loadtxt(\"missing.txt\",  dtype='str')\n",
    "print(\"\\nData after converting from given file is : \\n\", data)"
   ]
  },
  {
   "cell_type": "markdown",
   "id": "6c409b2c",
   "metadata": {},
   "source": [
    "# 58. How to randomly place p elements in a 2D array?"
   ]
  },
  {
   "cell_type": "markdown",
   "id": "8733b443",
   "metadata": {},
   "source": [
    "-  numpy.put() -  function replaces specific elements of an array with given values of p_array. \n",
    "- Array indexed works on flattened array. "
   ]
  },
  {
   "cell_type": "code",
   "execution_count": 17,
   "id": "244205aa",
   "metadata": {},
   "outputs": [
    {
     "name": "stdout",
     "output_type": "stream",
     "text": [
      "Created array is : \n",
      " [[0. 0. 0. 0. 0.]\n",
      " [0. 0. 0. 0. 0.]\n",
      " [0. 0. 0. 0. 0.]\n",
      " [0. 0. 0. 0. 0.]\n",
      " [0. 0. 0. 0. 0.]]\n",
      "\n",
      "Array after replacing : \n",
      " [[0. 0. 0. 0. 0.]\n",
      " [0. 1. 0. 0. 0.]\n",
      " [0. 0. 0. 0. 0.]\n",
      " [0. 0. 0. 1. 0.]\n",
      " [0. 1. 0. 0. 0.]]\n"
     ]
    }
   ],
   "source": [
    "import numpy as np\n",
    "\n",
    "#assign value to the variable\n",
    "n = 5\n",
    "p = 3\n",
    "\n",
    "#Creating array with zeros\n",
    "Z = np.zeros((n,n))\n",
    "print(\"Created array is : \\n\", Z)\n",
    "\n",
    "#Replacing place element in array using put() function\n",
    "np.put(Z, np.random.choice(range(n*n), p, replace=False),1)\n",
    "print(\"\\nArray after replacing : \\n\", Z)"
   ]
  },
  {
   "cell_type": "markdown",
   "id": "846aeaaa",
   "metadata": {},
   "source": [
    "# 59. Subtract the mean of each row of a matrix"
   ]
  },
  {
   "cell_type": "code",
   "execution_count": 22,
   "id": "8e675267",
   "metadata": {},
   "outputs": [
    {
     "name": "stdout",
     "output_type": "stream",
     "text": [
      "[[ 0.25805237 -0.54042395 -0.54641304  0.31318805  0.04720989 -0.04903687\n",
      "   0.02645079  0.32445421  0.28476224 -0.11824368]\n",
      " [ 0.0984623   0.21679367  0.41649586 -0.31234929 -0.33381365 -0.16206879\n",
      "  -0.34119206  0.29129062  0.10673069  0.01965066]\n",
      " [ 0.01852933 -0.23251474 -0.08752518  0.11706774 -0.16897284  0.58580968\n",
      "  -0.31496337  0.19728803 -0.09548127 -0.01923738]\n",
      " [-0.35665603  0.35370496 -0.34519084  0.13100669  0.24484947 -0.00169402\n",
      "   0.1265601  -0.39203443  0.06834582  0.17110826]\n",
      " [ 0.19589559 -0.32116675 -0.06829445  0.25154508 -0.16266228 -0.51515986\n",
      "   0.15881608  0.45762102  0.02460308 -0.0211975 ]]\n"
     ]
    }
   ],
   "source": [
    "import numpy as np\n",
    "X = np.random.rand(5, 10)\n",
    "# Recent versions of numpy\n",
    "Y = X - X.mean(axis=1, keepdims=True)\n",
    "print(Y)"
   ]
  },
  {
   "cell_type": "markdown",
   "id": "130d0354",
   "metadata": {},
   "source": [
    "# 60. How to I sort an array by the nth column?"
   ]
  },
  {
   "cell_type": "markdown",
   "id": "cc0e0ae7",
   "metadata": {},
   "source": [
    "- numpy.argsort() - function is used to perform an indirect sort along the given axis"
   ]
  },
  {
   "cell_type": "markdown",
   "id": "4af047cd",
   "metadata": {},
   "source": [
    "-  It returns an array of indices of the same shape as arr that would sort the array."
   ]
  },
  {
   "cell_type": "code",
   "execution_count": 27,
   "id": "52c605a4",
   "metadata": {},
   "outputs": [
    {
     "name": "stdout",
     "output_type": "stream",
     "text": [
      "Randomly created array \n",
      " [[8 0 6]\n",
      " [8 7 3]\n",
      " [9 6 8]]\n",
      "Array after sorting :\n",
      " [[8 0 6]\n",
      " [9 6 8]\n",
      " [8 7 3]]\n"
     ]
    }
   ],
   "source": [
    "import numpy as np\n",
    "Z = np.random.randint(0,10,(3,3))\n",
    "print(\"Randomly created array \\n\", Z)\n",
    "print(\"Array after sorting :\\n\", Z[Z[:,1].argsort()])"
   ]
  },
  {
   "cell_type": "markdown",
   "id": "00d5d8f5",
   "metadata": {},
   "source": [
    "# 61. Find the nearest value from a given value in an array"
   ]
  },
  {
   "cell_type": "markdown",
   "id": "5a681ab2",
   "metadata": {},
   "source": [
    "- numpy.ndarray.flat() - function is used as a 1_D iterator over N-dimensional arrays"
   ]
  },
  {
   "cell_type": "markdown",
   "id": "e2899d58",
   "metadata": {},
   "source": [
    "- numpy.abs() : This mathematical function helps user to calculate absolute value of each element."
   ]
  },
  {
   "cell_type": "markdown",
   "id": "a26c0508",
   "metadata": {},
   "source": [
    "- numpy.argmin() - method returns indices of the min element of the array in a particular axis. "
   ]
  },
  {
   "cell_type": "code",
   "execution_count": 30,
   "id": "6949fc13",
   "metadata": {},
   "outputs": [
    {
     "name": "stdout",
     "output_type": "stream",
     "text": [
      "Nearest value of given array is : 0.02799479359059498\n"
     ]
    }
   ],
   "source": [
    "import numpy as np\n",
    "X = np.random.uniform(0,1,10)\n",
    "x = 0.5\n",
    "m = Z.flat[np.abs(X - x).argmin()]\n",
    "print(\"Nearest value of given array is :\", m)"
   ]
  },
  {
   "cell_type": "markdown",
   "id": "e4f64bf5",
   "metadata": {},
   "source": [
    "# 62. Create an array class that has a name attribute"
   ]
  },
  {
   "cell_type": "code",
   "execution_count": 31,
   "id": "9fa410b1",
   "metadata": {},
   "outputs": [
    {
     "name": "stdout",
     "output_type": "stream",
     "text": [
      "range_10\n"
     ]
    }
   ],
   "source": [
    "import numpy as np\n",
    "\n",
    "class NamedArray(np.ndarray):\n",
    "    def __new__(cls, array, name=\"no name\"):\n",
    "        obj = np.asarray(array).view(cls)\n",
    "        obj.name = name\n",
    "        return obj\n",
    "    \n",
    "    def __array_finalize__(self, obj):\n",
    "        if obj is None: return\n",
    "        self.info = getattr(obj, 'name', \"no name\")\n",
    "        \n",
    "Z = NamedArray(np.arange(10), \"range_10\")\n",
    "print (Z.name)"
   ]
  },
  {
   "cell_type": "markdown",
   "id": "84f97330",
   "metadata": {},
   "source": [
    "# 63. Generate a generic 2D Gaussian­like array"
   ]
  },
  {
   "cell_type": "markdown",
   "id": "144a8b9b",
   "metadata": {},
   "source": [
    "- Gaussian - \n",
    "- The Gaussian distribution is a continuous function which approximates the exact binomial distribution of events."
   ]
  },
  {
   "cell_type": "markdown",
   "id": "4ba8c3e8",
   "metadata": {},
   "source": [
    "- numpy.meshgrid() - It is used to create a rectangular grid out of two given one-dimensional arrays representing the Cartesian indexing or Matrix indexing."
   ]
  },
  {
   "cell_type": "markdown",
   "id": "afbb4db0",
   "metadata": {},
   "source": [
    "- numpy.linspace()– returns number spaces evenly w.r.t interval."
   ]
  },
  {
   "cell_type": "markdown",
   "id": "def01f4d",
   "metadata": {},
   "source": [
    "- numpy.exp() - This mathematical function helps user to calculate exponential of all the elements in the input array."
   ]
  },
  {
   "cell_type": "code",
   "execution_count": 12,
   "id": "892652a1",
   "metadata": {},
   "outputs": [
    {
     "name": "stdout",
     "output_type": "stream",
     "text": [
      "The Gaussian array is : \n",
      " [[0.36787944 0.44822088 0.51979489 0.57375342 0.60279818 0.60279818\n",
      "  0.57375342 0.51979489 0.44822088 0.36787944]\n",
      " [0.44822088 0.54610814 0.63331324 0.69905581 0.73444367 0.73444367\n",
      "  0.69905581 0.63331324 0.54610814 0.44822088]\n",
      " [0.51979489 0.63331324 0.73444367 0.81068432 0.85172308 0.85172308\n",
      "  0.81068432 0.73444367 0.63331324 0.51979489]\n",
      " [0.57375342 0.69905581 0.81068432 0.89483932 0.9401382  0.9401382\n",
      "  0.89483932 0.81068432 0.69905581 0.57375342]\n",
      " [0.60279818 0.73444367 0.85172308 0.9401382  0.98773022 0.98773022\n",
      "  0.9401382  0.85172308 0.73444367 0.60279818]\n",
      " [0.60279818 0.73444367 0.85172308 0.9401382  0.98773022 0.98773022\n",
      "  0.9401382  0.85172308 0.73444367 0.60279818]\n",
      " [0.57375342 0.69905581 0.81068432 0.89483932 0.9401382  0.9401382\n",
      "  0.89483932 0.81068432 0.69905581 0.57375342]\n",
      " [0.51979489 0.63331324 0.73444367 0.81068432 0.85172308 0.85172308\n",
      "  0.81068432 0.73444367 0.63331324 0.51979489]\n",
      " [0.44822088 0.54610814 0.63331324 0.69905581 0.73444367 0.73444367\n",
      "  0.69905581 0.63331324 0.54610814 0.44822088]\n",
      " [0.36787944 0.44822088 0.51979489 0.57375342 0.60279818 0.60279818\n",
      "  0.57375342 0.51979489 0.44822088 0.36787944]]\n"
     ]
    }
   ],
   "source": [
    "import numpy as np\n",
    "X, Y = np.meshgrid(np.linspace(-1,1,10), np.linspace(-1,1,10))\n",
    "#Taking square root of matrix\n",
    "D = np.sqrt(X*X+Y*Y)\n",
    "\n",
    "#initialize value to sigma and mu\n",
    "sigma, mu = 1.0, 0.0\n",
    "\n",
    "#Generate Gaussian like array\n",
    "G = np.exp(-( (D-mu)**2 / ( 2.0 * sigma**2 ) ) )\n",
    "print(\"The Gaussian array is : \\n\", G)"
   ]
  },
  {
   "cell_type": "markdown",
   "id": "146d5873",
   "metadata": {},
   "source": [
    "# 64. Considering a four dimensions array, how to get sum over the last two axis at once?"
   ]
  },
  {
   "cell_type": "code",
   "execution_count": 2,
   "id": "60c1037c",
   "metadata": {},
   "outputs": [
    {
     "name": "stdout",
     "output_type": "stream",
     "text": [
      "[[57 61 39 60]\n",
      " [64 36 51 56]\n",
      " [51 74 49 37]]\n"
     ]
    }
   ],
   "source": [
    "import numpy as np\n",
    "#Creating random array of 4 dimention\n",
    "A = np.random.randint(0,10,(3,4,3,4))\n",
    "#Calculating sum according to shape of array\n",
    "sum = A.reshape(A.shape[:-2] + (-1,)).sum(axis=-1)\n",
    "print(sum)"
   ]
  },
  {
   "cell_type": "markdown",
   "id": "d40781ec",
   "metadata": {},
   "source": [
    "# 65. How to get the diagonal of a dot product?"
   ]
  },
  {
   "cell_type": "markdown",
   "id": "b1c5c052",
   "metadata": {},
   "source": [
    "- numpy.einsum() -  It will return the Einstein’s summation convention."
   ]
  },
  {
   "cell_type": "code",
   "execution_count": 2,
   "id": "b6718ffe",
   "metadata": {},
   "outputs": [
    {
     "name": "stdout",
     "output_type": "stream",
     "text": [
      "[[ 3  5  9  2]\n",
      " [ 2  0 13 10]\n",
      " [13 12  4  0]\n",
      " [ 3  4 10 14]]\n",
      "[[9 3 8 3]\n",
      " [5 1 3 3]\n",
      " [1 3 2 3]\n",
      " [8 7 1 7]]\n"
     ]
    },
    {
     "data": {
      "text/plain": [
       "array([ 77, 115, 148, 149])"
      ]
     },
     "execution_count": 2,
     "metadata": {},
     "output_type": "execute_result"
    }
   ],
   "source": [
    "import numpy as np\n",
    "A = np.random.randint(0,15,(4,4))\n",
    "print(A)\n",
    "B = np.random.randint(0,10,(4,4))\n",
    "print(B)\n",
    "# Slow version\n",
    "np.diag(np.dot(A, B))\n",
    "# Fast version\n",
    "np.sum(A * B.T, axis=1)\n",
    "# Faster version\n",
    "np.einsum(\"ij,ji->i\", A, B)"
   ]
  },
  {
   "cell_type": "markdown",
   "id": "bc3c9e74",
   "metadata": {},
   "source": [
    "# 66. Consider a given vector, how to add 1 to each element indexed by a second vector (be careful with repeated indices)?"
   ]
  },
  {
   "cell_type": "markdown",
   "id": "754119d8",
   "metadata": {},
   "source": [
    "- np.bincount() - method counts the occurrence of each element.\n",
    "- Each bin value is the occurrence of its index\n",
    "- min_len : Minimum number of bins we want in the output array"
   ]
  },
  {
   "cell_type": "code",
   "execution_count": 7,
   "id": "0d8819d4",
   "metadata": {},
   "outputs": [
    {
     "name": "stdout",
     "output_type": "stream",
     "text": [
      "[3. 1. 5. 2. 3. 3. 1. 4. 2. 6.]\n"
     ]
    }
   ],
   "source": [
    "#Creating array with ones\n",
    "X= np.ones(10)\n",
    "arr = np.random.randint(0,len(X),20)\n",
    "X += np.bincount(arr, minlength=len(X))\n",
    "print(X)"
   ]
  },
  {
   "cell_type": "markdown",
   "id": "25567e84",
   "metadata": {},
   "source": [
    "# 67. How to accumulate elements of a vector (X) to an array (F) based on an index list (I)?"
   ]
  },
  {
   "cell_type": "code",
   "execution_count": 2,
   "id": "bbe24626",
   "metadata": {},
   "outputs": [
    {
     "name": "stdout",
     "output_type": "stream",
     "text": [
      "[0. 7. 0. 6. 5. 0. 0. 0. 0. 3.]\n"
     ]
    }
   ],
   "source": [
    "import numpy as np\n",
    "X = [1,2,3,4,5,6]\n",
    "I = [1,3,9,3,4,1]\n",
    "F = np.bincount(I,X)\n",
    "print(F)"
   ]
  },
  {
   "cell_type": "markdown",
   "id": "65cd88ed",
   "metadata": {},
   "source": [
    "# 68. Considering a one­dimensional vector D, how to compute means of subsets of D using a vector S of same size describing subset indices?"
   ]
  },
  {
   "cell_type": "code",
   "execution_count": 10,
   "id": "4442ec44",
   "metadata": {},
   "outputs": [
    {
     "name": "stdout",
     "output_type": "stream",
     "text": [
      "Mean of subset D is : [0.60338592 0.65158209 0.47519977 0.51546076 0.45721627 0.54534986\n",
      " 0.41344356 0.44395449 0.54534941 0.54129509]\n"
     ]
    }
   ],
   "source": [
    "#Creating two array using uniform and random method\n",
    "D = np.random.uniform(0,1,100)\n",
    "S = np.random.randint(0,10,100)\n",
    "\n",
    "#calculate count of array\n",
    "D_sums = np.bincount(S, weights=D)\n",
    "D_counts = np.bincount(S)\n",
    "\n",
    "#Calculate mean of an array\n",
    "D_means = D_sums / D_counts\n",
    "\n",
    "print(\"Mean of subset D is :\", D_means)"
   ]
  },
  {
   "cell_type": "markdown",
   "id": "e5d0c8e8",
   "metadata": {},
   "source": [
    "# 69. Given an array C that is a bincount, how to produce an array A such that np.bincount(A) == C?"
   ]
  },
  {
   "cell_type": "markdown",
   "id": "3dcc0e0b",
   "metadata": {},
   "source": [
    "The numpy.repeat() - function repeats elements of the array – arr."
   ]
  },
  {
   "cell_type": "code",
   "execution_count": 5,
   "id": "4e0454ae",
   "metadata": {},
   "outputs": [
    {
     "name": "stdout",
     "output_type": "stream",
     "text": [
      "[1 1 2 3 4 4 6]\n"
     ]
    }
   ],
   "source": [
    "C = np.bincount([1,1,2,3,4,4,6])\n",
    "A = np.repeat(np.arange(len(C)), C)\n",
    "print(A)"
   ]
  },
  {
   "cell_type": "markdown",
   "id": "e60689aa",
   "metadata": {},
   "source": [
    "# 70. How to find the most frequent value in an array?"
   ]
  },
  {
   "cell_type": "code",
   "execution_count": 7,
   "id": "61a8cf63",
   "metadata": {},
   "outputs": [
    {
     "name": "stdout",
     "output_type": "stream",
     "text": [
      "7\n"
     ]
    }
   ],
   "source": [
    "import numpy as np\n",
    "Z = np.random.randint(0,10,50)\n",
    "print(np.bincount(Z).argmax())"
   ]
  },
  {
   "cell_type": "markdown",
   "id": "8298e54b",
   "metadata": {},
   "source": [
    "# 71. Considering a (w,h,3) image of (dtype=ubyte), compute the number of unique colors"
   ]
  },
  {
   "cell_type": "code",
   "execution_count": 1,
   "id": "16ec4f1d",
   "metadata": {},
   "outputs": [
    {
     "name": "stdout",
     "output_type": "stream",
     "text": [
      "[0 1]\n"
     ]
    }
   ],
   "source": [
    "import numpy as np\n",
    "#Width and height of the image\n",
    "w,h = 16,16\n",
    "#getting random integer within range of image with specified type\n",
    "I = np.random.randint(0,2,(h,w,3)).astype(np.ubyte)\n",
    "F = I[...,0]*256*256 + I[...,1]*256 +I[...,2]\n",
    "n = len(np.unique(F))\n",
    "print(np.unique(I))"
   ]
  },
  {
   "cell_type": "markdown",
   "id": "d82c472f",
   "metadata": {},
   "source": [
    "# 72. Consider the vector [1, 2, 3, 4, 5], how to build a new vector with 3 consecutive zeros interleaved between each value?"
   ]
  },
  {
   "cell_type": "code",
   "execution_count": 6,
   "id": "4f046181",
   "metadata": {},
   "outputs": [
    {
     "name": "stdout",
     "output_type": "stream",
     "text": [
      "Our vector is :  [1 2 3 4 5]\n",
      "[1. 0. 0. 0. 2. 0. 0. 0. 3. 0. 0. 0. 4. 0. 0. 0. 5.]\n"
     ]
    }
   ],
   "source": [
    "import numpy as np\n",
    "X = np.array([1,2,3,4,5])\n",
    "print(\"Our vector is : \", X)\n",
    "nz = 3\n",
    "Z = np.zeros(len(X) + (len(X)-1)*(nz))\n",
    "#Getting indexing wise element\n",
    "Z[::nz+1] = X\n",
    "print(Z)"
   ]
  },
  {
   "cell_type": "markdown",
   "id": "ca01e639",
   "metadata": {},
   "source": [
    "# 73. Consider a set of 10 triplets describing 10 triangles (with shared vertices), find the set of unique line segments composing all the triangles"
   ]
  },
  {
   "cell_type": "markdown",
   "id": "ecd11236",
   "metadata": {},
   "source": [
    "- np.roll() - function rolls array elements along the specified axis. \n",
    "- If an element is being rolled first to the last position, it is rolled back to the first position. "
   ]
  },
  {
   "cell_type": "markdown",
   "id": "bbcf2d5f",
   "metadata": {},
   "source": [
    "- np.view() - helps to get a new view of array with the same data."
   ]
  },
  {
   "cell_type": "code",
   "execution_count": 12,
   "id": "44ecb02e",
   "metadata": {},
   "outputs": [
    {
     "name": "stdout",
     "output_type": "stream",
     "text": [
      "Vertices of tringle is  : \n",
      " [[91 63 48]\n",
      " [68 61  5]\n",
      " [18 20 23]\n",
      " [64 68 27]\n",
      " [61  3 42]\n",
      " [33 83 61]\n",
      " [62 26 99]\n",
      " [11 38 20]\n",
      " [43 76 51]\n",
      " [77 58 16]]\n",
      "\n",
      "Set of unique line segments is  : \n",
      " [( 3, 42) ( 3, 61) ( 5, 61) ( 5, 68) (11, 20) (11, 38) (16, 58) (16, 77)\n",
      " (18, 20) (18, 23) (20, 23) (20, 38) (26, 62) (26, 99) (27, 64) (27, 68)\n",
      " (33, 61) (33, 83) (42, 61) (43, 51) (43, 76) (48, 63) (48, 91) (51, 76)\n",
      " (58, 77) (61, 68) (61, 83) (62, 99) (63, 91) (64, 68)]\n"
     ]
    }
   ],
   "source": [
    "import numpy as np\n",
    "#Getting random integer value within given range\n",
    "faces = np.random.randint(0,100,(10,3))\n",
    "print(\"Vertices of tringle is  : \\n\", faces)\n",
    "\n",
    "#rolling array elements along axis\n",
    "F = np.roll(faces.repeat(2,axis=1),-1,axis=1)\n",
    "#reshape array elements\n",
    "F = F.reshape(len(F)*3,2)\n",
    "#perform sorting operation\n",
    "F = np.sort(F,axis=1)\n",
    "G = F.view( dtype=[('p0',F.dtype),('p1',F.dtype)] )\n",
    "#Getting set of unique value\n",
    "G = np.unique(G)\n",
    "print(\"\\nSet of unique line segments is  : \\n\", G)"
   ]
  },
  {
   "cell_type": "markdown",
   "id": "527d67b5",
   "metadata": {},
   "source": [
    "# 74. Consider a random vector with shape (100,2) representing coordinates, find point by point distances"
   ]
  },
  {
   "cell_type": "markdown",
   "id": "3919658a",
   "metadata": {},
   "source": [
    "- numpy.atleast_2d(*arys) - function is used when we want to Convert inputs to arrays with at least two dimension. \n"
   ]
  },
  {
   "cell_type": "code",
   "execution_count": 3,
   "id": "e1ea2c5e",
   "metadata": {},
   "outputs": [
    {
     "name": "stdout",
     "output_type": "stream",
     "text": [
      "Point by point distance is  : \n",
      " [[0.         0.80497361 0.41682964 0.06099093 0.39685982 0.43996157\n",
      "  0.27037134 0.57309629 0.48346397 0.6902949 ]\n",
      " [0.80497361 0.         0.39140048 0.83921568 0.99638427 0.36571612\n",
      "  0.54031923 0.39341286 0.55599339 0.83798258]\n",
      " [0.41682964 0.39140048 0.         0.44817343 0.63275482 0.0583315\n",
      "  0.16956541 0.2438116  0.29729421 0.62141978]\n",
      " [0.06099093 0.83921568 0.44817343 0.         0.33842342 0.47721119\n",
      "  0.31447666 0.5819248  0.47639466 0.6569473 ]\n",
      " [0.39685982 0.99638427 0.63275482 0.33842342 0.         0.68270247\n",
      "  0.57181664 0.63784028 0.47484793 0.45879545]\n",
      " [0.43996157 0.36571612 0.0583315  0.47721119 0.68270247 0.\n",
      "  0.17541926 0.2863547  0.35434434 0.67886355]\n",
      " [0.27037134 0.54031923 0.16956541 0.31447666 0.57181664 0.17541926\n",
      "  0.         0.3912422  0.38325523 0.68380661]\n",
      " [0.57309629 0.39341286 0.2438116  0.5819248  0.63784028 0.2863547\n",
      "  0.3912422  0.         0.16849009 0.45196384]\n",
      " [0.48346397 0.55599339 0.29729421 0.47639466 0.47484793 0.35434434\n",
      "  0.38325523 0.16849009 0.         0.32475122]\n",
      " [0.6902949  0.83798258 0.62141978 0.6569473  0.45879545 0.67886355\n",
      "  0.68380661 0.45196384 0.32475122 0.        ]]\n"
     ]
    }
   ],
   "source": [
    "import numpy as np\n",
    "#Creating random array\n",
    "a = np.random.random((10,2))\n",
    "X,Y = np.atleast_2d(a[:,0]), np.atleast_2d(a[:,1])\n",
    "distance = np.sqrt( (X-X.T)**2 + (Y-Y.T)**2)\n",
    "print(\"Point by point distance is  : \\n\", distance)"
   ]
  },
  {
   "cell_type": "markdown",
   "id": "0078fddd",
   "metadata": {},
   "source": [
    "# 75. How to compute averages using a sliding window over an array?"
   ]
  },
  {
   "cell_type": "markdown",
   "id": "2f11b625",
   "metadata": {},
   "source": [
    "- numpy.cumsum() - function is used when we want to compute the cumulative sum of array elements over a given axis."
   ]
  },
  {
   "cell_type": "code",
   "execution_count": 7,
   "id": "8bf051b8",
   "metadata": {},
   "outputs": [
    {
     "name": "stdout",
     "output_type": "stream",
     "text": [
      "[ 1.  2.  3.  4.  5.  6.  7.  8.  9. 10. 11. 12. 13. 14. 15. 16. 17. 18.]\n"
     ]
    }
   ],
   "source": [
    "import numpy as np\n",
    "n = 3\n",
    "Z = np.arange(20)\n",
    "ret = np.cumsum(Z, dtype=float)\n",
    "ret[n:] = ret[n:] - ret[:-n]\n",
    "a = ret[n - 1:] / n\n",
    "print(a)"
   ]
  },
  {
   "cell_type": "markdown",
   "id": "04451811",
   "metadata": {},
   "source": [
    "# 76. Compute a matrix rank "
   ]
  },
  {
   "cell_type": "code",
   "execution_count": 10,
   "id": "5c2ac94d",
   "metadata": {},
   "outputs": [
    {
     "name": "stdout",
     "output_type": "stream",
     "text": [
      "Rank of the matrix is :  10\n"
     ]
    }
   ],
   "source": [
    "import numpy as np\n",
    "Z = np.random.uniform(0,1,(10,10))\n",
    "U, S, V = np.linalg.svd(Z) # Singular Value Decomposition\n",
    "rank = np.sum(S > 1e-10)\n",
    "print(\"Rank of the matrix is : \", rank)"
   ]
  },
  {
   "cell_type": "markdown",
   "id": "4fca617a",
   "metadata": {},
   "source": [
    "# 77. How to get the n largest values of an array? "
   ]
  },
  {
   "cell_type": "markdown",
   "id": "de9805b3",
   "metadata": {},
   "source": [
    "- numpy.argsort() - Returns the indices that would sort an array."
   ]
  },
  {
   "cell_type": "markdown",
   "id": "a3c1210b",
   "metadata": {},
   "source": [
    "- numpy.argpartition() - Perform an indirect partition along the given axis using the algorithm specified by the kind keyword."
   ]
  },
  {
   "cell_type": "code",
   "execution_count": 16,
   "id": "96d85664",
   "metadata": {},
   "outputs": [
    {
     "name": "stdout",
     "output_type": "stream",
     "text": [
      "[9995 9996 9997 9998 9999]\n",
      "[9999 9996 9998 9997 9995]\n"
     ]
    }
   ],
   "source": [
    "import numpy as np\n",
    "#creating array\n",
    "Z = np.arange(10000)\n",
    "#shuffle it\n",
    "np.random.shuffle(Z)\n",
    "n = 5\n",
    "# Slow\n",
    "print (Z[np.argsort(Z)[-n:]])\n",
    "# Fast\n",
    "print (Z[np.argpartition(-Z,n)[:n]])"
   ]
  },
  {
   "cell_type": "markdown",
   "id": "5670aaf0",
   "metadata": {},
   "source": [
    "# 78. How to create a record array from a regular array? "
   ]
  },
  {
   "cell_type": "code",
   "execution_count": 18,
   "id": "723055fd",
   "metadata": {},
   "outputs": [
    {
     "name": "stdout",
     "output_type": "stream",
     "text": [
      "Record of array is : \n",
      " [(b'Hello', 2.5, 3) (b'World', 3.6, 2)]\n"
     ]
    }
   ],
   "source": [
    "import numpy as np\n",
    "Z = np.array([(\"Hello\", 2.5, 3), (\"World\", 3.6, 2)])\n",
    "R = np.core.records.fromarrays(Z.T, names='col1, col2, col3',formats = 'S8, f8, i8')\n",
    "print(\"Record of array is : \\n\", R)"
   ]
  },
  {
   "cell_type": "markdown",
   "id": "25de2ce7",
   "metadata": {},
   "source": [
    "# 79. Consider two arrays A and B of shape (8,3) and (2,2). How to find rows of A that contain elements of each row of B regardless of the order of the elements in B?"
   ]
  },
  {
   "cell_type": "code",
   "execution_count": 2,
   "id": "f0007bfc",
   "metadata": {},
   "outputs": [
    {
     "name": "stdout",
     "output_type": "stream",
     "text": [
      "Rows of the array is :  [1 2 3 4 5 6]\n"
     ]
    }
   ],
   "source": [
    "import numpy as np\n",
    "A = np.random.randint(0,5,(8,3))\n",
    "B = np.random.randint(0,5,(2,2))\n",
    "C = (A[..., np.newaxis, np.newaxis] == B)\n",
    "rows = (C.sum(axis=(1,2,3)) >= B.shape[1]).nonzero()[0]\n",
    "print(\"Rows of the array is : \", rows)"
   ]
  },
  {
   "cell_type": "markdown",
   "id": "b88dc80f",
   "metadata": {},
   "source": [
    "# 80. Consider an array of dimension (5,5,3), how to mulitply it by an array with dimensions (5,5)? "
   ]
  },
  {
   "cell_type": "code",
   "execution_count": 4,
   "id": "066d97e3",
   "metadata": {},
   "outputs": [
    {
     "name": "stdout",
     "output_type": "stream",
     "text": [
      "[[[2. 2. 2.]\n",
      "  [2. 2. 2.]\n",
      "  [2. 2. 2.]\n",
      "  [2. 2. 2.]\n",
      "  [2. 2. 2.]]\n",
      "\n",
      " [[2. 2. 2.]\n",
      "  [2. 2. 2.]\n",
      "  [2. 2. 2.]\n",
      "  [2. 2. 2.]\n",
      "  [2. 2. 2.]]\n",
      "\n",
      " [[2. 2. 2.]\n",
      "  [2. 2. 2.]\n",
      "  [2. 2. 2.]\n",
      "  [2. 2. 2.]\n",
      "  [2. 2. 2.]]\n",
      "\n",
      " [[2. 2. 2.]\n",
      "  [2. 2. 2.]\n",
      "  [2. 2. 2.]\n",
      "  [2. 2. 2.]\n",
      "  [2. 2. 2.]]\n",
      "\n",
      " [[2. 2. 2.]\n",
      "  [2. 2. 2.]\n",
      "  [2. 2. 2.]\n",
      "  [2. 2. 2.]\n",
      "  [2. 2. 2.]]]\n"
     ]
    }
   ],
   "source": [
    "#Creating array of ones\n",
    "A = np.ones((5,5,3))\n",
    "#perform multiplication with 5 X 5 \n",
    "B = 2*np.ones((5,5))\n",
    "print(A * B[:,:,None])"
   ]
  },
  {
   "cell_type": "markdown",
   "id": "bd84b047",
   "metadata": {},
   "source": [
    "# 81 .Consider 2 sets of points P0,P1 describing lines (2d) and a point p, how to compute distance from p to each line i (P0[i],P1[i])? "
   ]
  },
  {
   "cell_type": "code",
   "execution_count": 5,
   "id": "9243afee",
   "metadata": {},
   "outputs": [
    {
     "name": "stdout",
     "output_type": "stream",
     "text": [
      "[ 743.51657739  647.48649241 1201.05421516  351.5457248  2498.17503444\n",
      "  171.07816658  115.37599117 3738.62328845 2677.91451762 4725.29845332]\n"
     ]
    }
   ],
   "source": [
    "import numpy as np\n",
    "try:\n",
    "    def distance(P0, P1, p):\n",
    "        \"This function will count return distance of p from each line\"\n",
    "        T = P1 - P0\n",
    "        L = (T**2).sum(axis=1)\n",
    "        U = -((P0[:,0]-p[...,0])*T[:,0] + (P0[:,1]-p[...,1])*T[:,1])\n",
    "        U = U.reshape(len(U),1)\n",
    "        D = P0 + U*T - p\n",
    "        return np.sqrt((D**2).sum(axis=1))\n",
    "    P0 = np.random.uniform(-10,10,(10,2))\n",
    "    P1 = np.random.uniform(-10,10,(10,2))\n",
    "    p = np.random.uniform(-10,10,( 1,2))\n",
    "    print(distance(P0, P1, p))\n",
    "except Exception as e:\n",
    "    print(e)"
   ]
  },
  {
   "cell_type": "markdown",
   "id": "211370b8",
   "metadata": {},
   "source": [
    "# 82. Consider 2 sets of points P0,P1 describing lines (2d) and a set of points P, how to compute distance from each point j (P[j]) to each line i (P0[i],P1[i])?"
   ]
  },
  {
   "cell_type": "code",
   "execution_count": 6,
   "id": "e8f0e352",
   "metadata": {},
   "outputs": [
    {
     "name": "stdout",
     "output_type": "stream",
     "text": [
      "[[2.11099308e+02 2.10045821e+03 1.30179175e+01 4.24470706e+02\n",
      "  5.05624807e+03 5.52283472e+02 4.55116351e+01 1.67860563e+03\n",
      "  1.60970517e+02 1.51754002e+02]\n",
      " [4.15143126e+02 3.12376976e+02 9.62961057e+01 4.83428415e+02\n",
      "  8.69294931e+03 3.34081781e+02 2.67859501e+03 1.50325832e+03\n",
      "  7.13451321e+02 4.32955696e+02]\n",
      " [3.14888353e+02 2.30673273e+03 2.30890614e+02 3.42811960e+02\n",
      "  4.81333098e+03 3.27120006e+02 1.26380054e+03 5.94575059e+02\n",
      "  1.69256389e+02 4.39776150e+02]\n",
      " [1.05421321e+03 1.00909141e+03 4.32188642e+02 1.41685717e+03\n",
      "  7.53684989e+03 9.16056792e+02 4.01430291e+03 6.05180223e+01\n",
      "  6.05259288e+02 5.01610736e+02]\n",
      " [1.05058385e+02 3.90471450e+02 3.12346784e+01 3.09833217e+01\n",
      "  8.45054131e+03 7.71825945e+02 1.79085201e+03 2.03381681e+03\n",
      "  6.54941381e+02 6.85227743e+02]\n",
      " [1.42611143e+02 1.98083774e+03 1.27930410e+02 9.10272107e+01\n",
      "  5.39156911e+03 6.70026527e+01 9.82809782e+02 1.09140737e+03\n",
      "  2.35330541e+02 1.21053438e+02]\n",
      " [1.06851111e+03 8.74358652e+02 4.26309374e+02 1.43734092e+03\n",
      "  7.80118559e+03 8.82780147e+02 4.13032885e+03 1.85969002e+01\n",
      "  6.42948157e+02 4.49694494e+02]\n",
      " [2.72535611e+02 3.36037044e+03 3.06753001e+02 2.84040451e+02\n",
      "  2.76680471e+03 6.92282360e+02 5.45021446e+02 9.50546614e+01\n",
      "  1.17339306e+02 9.10682477e+02]\n",
      " [6.70463238e+02 1.92850242e+02 1.94986608e+02 8.55328165e+02\n",
      "  8.99916010e+03 3.31511088e+00 3.44029415e+03 1.09737778e+03\n",
      "  7.76367768e+02 2.52376912e+02]\n",
      " [1.06365159e+03 2.10329662e+03 5.33801303e+02 1.43349368e+03\n",
      "  5.42728103e+03 1.37609339e+03 3.41283275e+03 6.76320933e+02\n",
      "  3.14481318e+02 1.04053289e+03]]\n"
     ]
    }
   ],
   "source": [
    "import numpy as np\n",
    "# based on distance function from previous question\n",
    "P0 = np.random.uniform(-10, 10, (10,2))\n",
    "P1 = np.random.uniform(-10,10,(10,2))\n",
    "p = np.random.uniform(-10, 10, (10,2))\n",
    "print (np.array([distance(P0,P1,p_i) for p_i in p]))"
   ]
  },
  {
   "cell_type": "markdown",
   "id": "bb888d1c",
   "metadata": {},
   "source": [
    "# 83. Consider an array Z = [1,2,3,4,5,6,7,8,9,10,11,12,13,14], how to generate an array R = [[1,2,3,4], [2,3,4,5], [3,4,5,6], ..., [11,12,13,14]]?"
   ]
  },
  {
   "cell_type": "code",
   "execution_count": 7,
   "id": "e2bf3761",
   "metadata": {},
   "outputs": [],
   "source": [
    "from numpy.lib.stride_tricks import sliding_window_view"
   ]
  },
  {
   "cell_type": "code",
   "execution_count": 11,
   "id": "07c7026f",
   "metadata": {},
   "outputs": [
    {
     "name": "stdout",
     "output_type": "stream",
     "text": [
      "[[ 1  2  3  4]\n",
      " [ 2  3  4  5]\n",
      " [ 3  4  5  6]\n",
      " [ 4  5  6  7]\n",
      " [ 5  6  7  8]\n",
      " [ 6  7  8  9]\n",
      " [ 7  8  9 10]\n",
      " [ 8  9 10 11]\n",
      " [ 9 10 11 12]\n",
      " [10 11 12 13]\n",
      " [11 12 13 14]]\n"
     ]
    }
   ],
   "source": [
    "Z = np.arange(1, 15, dtype=np.uint32)\n",
    "print(sliding_window_view(Z, window_shape=4))"
   ]
  },
  {
   "cell_type": "markdown",
   "id": "0e7c0807",
   "metadata": {},
   "source": [
    "# 84. Extract all the contiguous 3x3 blocks from a random 10x10 matrix"
   ]
  },
  {
   "cell_type": "code",
   "execution_count": 14,
   "id": "bf8390a4",
   "metadata": {},
   "outputs": [
    {
     "name": "stdout",
     "output_type": "stream",
     "text": [
      "[[[[3 1 4]\n",
      "   [4 1 2]\n",
      "   [1 0 4]]\n",
      "\n",
      "  [[1 4 3]\n",
      "   [1 2 4]\n",
      "   [0 4 2]]\n",
      "\n",
      "  [[4 3 4]\n",
      "   [2 4 0]\n",
      "   [4 2 0]]\n",
      "\n",
      "  [[3 4 2]\n",
      "   [4 0 4]\n",
      "   [2 0 2]]\n",
      "\n",
      "  [[4 2 2]\n",
      "   [0 4 0]\n",
      "   [0 2 0]]\n",
      "\n",
      "  [[2 2 0]\n",
      "   [4 0 4]\n",
      "   [2 0 0]]\n",
      "\n",
      "  [[2 0 3]\n",
      "   [0 4 0]\n",
      "   [0 0 4]]\n",
      "\n",
      "  [[0 3 1]\n",
      "   [4 0 3]\n",
      "   [0 4 4]]]\n",
      "\n",
      "\n",
      " [[[4 1 2]\n",
      "   [1 0 4]\n",
      "   [0 1 3]]\n",
      "\n",
      "  [[1 2 4]\n",
      "   [0 4 2]\n",
      "   [1 3 0]]\n",
      "\n",
      "  [[2 4 0]\n",
      "   [4 2 0]\n",
      "   [3 0 2]]\n",
      "\n",
      "  [[4 0 4]\n",
      "   [2 0 2]\n",
      "   [0 2 3]]\n",
      "\n",
      "  [[0 4 0]\n",
      "   [0 2 0]\n",
      "   [2 3 4]]\n",
      "\n",
      "  [[4 0 4]\n",
      "   [2 0 0]\n",
      "   [3 4 2]]\n",
      "\n",
      "  [[0 4 0]\n",
      "   [0 0 4]\n",
      "   [4 2 1]]\n",
      "\n",
      "  [[4 0 3]\n",
      "   [0 4 4]\n",
      "   [2 1 1]]]\n",
      "\n",
      "\n",
      " [[[1 0 4]\n",
      "   [0 1 3]\n",
      "   [0 3 4]]\n",
      "\n",
      "  [[0 4 2]\n",
      "   [1 3 0]\n",
      "   [3 4 1]]\n",
      "\n",
      "  [[4 2 0]\n",
      "   [3 0 2]\n",
      "   [4 1 3]]\n",
      "\n",
      "  [[2 0 2]\n",
      "   [0 2 3]\n",
      "   [1 3 2]]\n",
      "\n",
      "  [[0 2 0]\n",
      "   [2 3 4]\n",
      "   [3 2 4]]\n",
      "\n",
      "  [[2 0 0]\n",
      "   [3 4 2]\n",
      "   [2 4 1]]\n",
      "\n",
      "  [[0 0 4]\n",
      "   [4 2 1]\n",
      "   [4 1 2]]\n",
      "\n",
      "  [[0 4 4]\n",
      "   [2 1 1]\n",
      "   [1 2 3]]]\n",
      "\n",
      "\n",
      " [[[0 1 3]\n",
      "   [0 3 4]\n",
      "   [1 3 1]]\n",
      "\n",
      "  [[1 3 0]\n",
      "   [3 4 1]\n",
      "   [3 1 4]]\n",
      "\n",
      "  [[3 0 2]\n",
      "   [4 1 3]\n",
      "   [1 4 0]]\n",
      "\n",
      "  [[0 2 3]\n",
      "   [1 3 2]\n",
      "   [4 0 2]]\n",
      "\n",
      "  [[2 3 4]\n",
      "   [3 2 4]\n",
      "   [0 2 3]]\n",
      "\n",
      "  [[3 4 2]\n",
      "   [2 4 1]\n",
      "   [2 3 2]]\n",
      "\n",
      "  [[4 2 1]\n",
      "   [4 1 2]\n",
      "   [3 2 4]]\n",
      "\n",
      "  [[2 1 1]\n",
      "   [1 2 3]\n",
      "   [2 4 1]]]\n",
      "\n",
      "\n",
      " [[[0 3 4]\n",
      "   [1 3 1]\n",
      "   [0 0 0]]\n",
      "\n",
      "  [[3 4 1]\n",
      "   [3 1 4]\n",
      "   [0 0 3]]\n",
      "\n",
      "  [[4 1 3]\n",
      "   [1 4 0]\n",
      "   [0 3 2]]\n",
      "\n",
      "  [[1 3 2]\n",
      "   [4 0 2]\n",
      "   [3 2 3]]\n",
      "\n",
      "  [[3 2 4]\n",
      "   [0 2 3]\n",
      "   [2 3 4]]\n",
      "\n",
      "  [[2 4 1]\n",
      "   [2 3 2]\n",
      "   [3 4 1]]\n",
      "\n",
      "  [[4 1 2]\n",
      "   [3 2 4]\n",
      "   [4 1 1]]\n",
      "\n",
      "  [[1 2 3]\n",
      "   [2 4 1]\n",
      "   [1 1 3]]]\n",
      "\n",
      "\n",
      " [[[1 3 1]\n",
      "   [0 0 0]\n",
      "   [0 2 3]]\n",
      "\n",
      "  [[3 1 4]\n",
      "   [0 0 3]\n",
      "   [2 3 2]]\n",
      "\n",
      "  [[1 4 0]\n",
      "   [0 3 2]\n",
      "   [3 2 1]]\n",
      "\n",
      "  [[4 0 2]\n",
      "   [3 2 3]\n",
      "   [2 1 1]]\n",
      "\n",
      "  [[0 2 3]\n",
      "   [2 3 4]\n",
      "   [1 1 1]]\n",
      "\n",
      "  [[2 3 2]\n",
      "   [3 4 1]\n",
      "   [1 1 3]]\n",
      "\n",
      "  [[3 2 4]\n",
      "   [4 1 1]\n",
      "   [1 3 1]]\n",
      "\n",
      "  [[2 4 1]\n",
      "   [1 1 3]\n",
      "   [3 1 4]]]\n",
      "\n",
      "\n",
      " [[[0 0 0]\n",
      "   [0 2 3]\n",
      "   [4 1 4]]\n",
      "\n",
      "  [[0 0 3]\n",
      "   [2 3 2]\n",
      "   [1 4 4]]\n",
      "\n",
      "  [[0 3 2]\n",
      "   [3 2 1]\n",
      "   [4 4 0]]\n",
      "\n",
      "  [[3 2 3]\n",
      "   [2 1 1]\n",
      "   [4 0 4]]\n",
      "\n",
      "  [[2 3 4]\n",
      "   [1 1 1]\n",
      "   [0 4 2]]\n",
      "\n",
      "  [[3 4 1]\n",
      "   [1 1 3]\n",
      "   [4 2 4]]\n",
      "\n",
      "  [[4 1 1]\n",
      "   [1 3 1]\n",
      "   [2 4 4]]\n",
      "\n",
      "  [[1 1 3]\n",
      "   [3 1 4]\n",
      "   [4 4 3]]]\n",
      "\n",
      "\n",
      " [[[0 2 3]\n",
      "   [4 1 4]\n",
      "   [0 1 0]]\n",
      "\n",
      "  [[2 3 2]\n",
      "   [1 4 4]\n",
      "   [1 0 1]]\n",
      "\n",
      "  [[3 2 1]\n",
      "   [4 4 0]\n",
      "   [0 1 1]]\n",
      "\n",
      "  [[2 1 1]\n",
      "   [4 0 4]\n",
      "   [1 1 4]]\n",
      "\n",
      "  [[1 1 1]\n",
      "   [0 4 2]\n",
      "   [1 4 0]]\n",
      "\n",
      "  [[1 1 3]\n",
      "   [4 2 4]\n",
      "   [4 0 3]]\n",
      "\n",
      "  [[1 3 1]\n",
      "   [2 4 4]\n",
      "   [0 3 2]]\n",
      "\n",
      "  [[3 1 4]\n",
      "   [4 4 3]\n",
      "   [3 2 3]]]] "
     ]
    }
   ],
   "source": [
    "import numpy as np\n",
    "Z = np.random.randint(0,5,(10,10))\n",
    "n = 3\n",
    "i = 1 + (Z.shape[0]-3)\n",
    "j = 1 + (Z.shape[1]-3)\n",
    "C = np.lib.stride_tricks.as_strided(Z, shape=(i, j, n, n), strides=Z.strides + Z.strides)\n",
    "print(C, end = \" \")"
   ]
  },
  {
   "cell_type": "markdown",
   "id": "17435c2a",
   "metadata": {},
   "source": [
    "# 85. Create a 2D array subclass such that Z[i,j] == Z[j,i]"
   ]
  },
  {
   "cell_type": "code",
   "execution_count": 15,
   "id": "2631faca",
   "metadata": {},
   "outputs": [
    {
     "name": "stdout",
     "output_type": "stream",
     "text": [
      "[[ 7 11  8  7  4]\n",
      " [11  7  5 12  6]\n",
      " [ 8  5  9 42  7]\n",
      " [ 7 12 42  9 17]\n",
      " [ 4  6  7 17  6]]\n"
     ]
    }
   ],
   "source": [
    "class Symetric(np.ndarray):\n",
    "    def __setitem__(self, index, value):\n",
    "        i,j = index\n",
    "        super(Symetric, self).__setitem__((i,j), value)\n",
    "        super(Symetric, self).__setitem__((j,i), value)\n",
    "\n",
    "def symetric(Z):\n",
    "    return np.asarray(Z + Z.T - np.diag(Z.diagonal())).view(Symetric)\n",
    "\n",
    "S = symetric(np.random.randint(0,10,(5,5)))\n",
    "S[2,3] = 42\n",
    "print(S)"
   ]
  },
  {
   "cell_type": "markdown",
   "id": "8bca1365",
   "metadata": {},
   "source": [
    "# 86. Consider a 16x16 array, how to get the block­sum (block size is 4x4)?"
   ]
  },
  {
   "cell_type": "code",
   "execution_count": 18,
   "id": "9ab98d5e",
   "metadata": {},
   "outputs": [
    {
     "name": "stdout",
     "output_type": "stream",
     "text": [
      "[[16. 16. 16. 16.]\n",
      " [16. 16. 16. 16.]\n",
      " [16. 16. 16. 16.]\n",
      " [16. 16. 16. 16.]]\n"
     ]
    }
   ],
   "source": [
    "Z = np.ones((16,16))\n",
    "k = 4\n",
    "S = np.add.reduceat(np.add.reduceat(Z, np.arange(0, Z.shape[0], k), axis=0),\n",
    "                                       np.arange(0, Z.shape[1], k), axis=1)\n",
    "print(S)"
   ]
  }
 ],
 "metadata": {
  "kernelspec": {
   "display_name": "Python 3 (ipykernel)",
   "language": "python",
   "name": "python3"
  },
  "language_info": {
   "codemirror_mode": {
    "name": "ipython",
    "version": 3
   },
   "file_extension": ".py",
   "mimetype": "text/x-python",
   "name": "python",
   "nbconvert_exporter": "python",
   "pygments_lexer": "ipython3",
   "version": "3.9.13"
  },
  "vscode": {
   "interpreter": {
    "hash": "fbc768028c3e6ead51d9a200ddcb2ec858ae62844dcd1994729a8279be9b48f2"
   }
  }
 },
 "nbformat": 4,
 "nbformat_minor": 5
}
