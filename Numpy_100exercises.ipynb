{
 "cells": [
  {
   "cell_type": "markdown",
   "id": "c2ec5de0",
   "metadata": {},
   "source": [
    "# Exercises"
   ]
  },
  {
   "cell_type": "markdown",
   "id": "43d69834",
   "metadata": {},
   "source": [
    "It includes question for numpy"
   ]
  },
  {
   "cell_type": "markdown",
   "id": "d2af14c3",
   "metadata": {},
   "source": [
    "# 1. Import the numpy package under the name np"
   ]
  },
  {
   "cell_type": "code",
   "execution_count": 1,
   "id": "2085b895",
   "metadata": {},
   "outputs": [],
   "source": [
    "#importing module\n",
    "import numpy as np"
   ]
  },
  {
   "cell_type": "markdown",
   "id": "c976dec7",
   "metadata": {},
   "source": [
    "# 2. Print the numpy version and the configuration"
   ]
  },
  {
   "cell_type": "code",
   "execution_count": 7,
   "id": "92c8196c",
   "metadata": {},
   "outputs": [
    {
     "name": "stdout",
     "output_type": "stream",
     "text": [
      "Version of numpy is :  1.21.5\n",
      "blas_mkl_info:\n",
      "    libraries = ['mkl_rt']\n",
      "    library_dirs = ['C:/Users/DELL/anaconda3\\\\Library\\\\lib']\n",
      "    define_macros = [('SCIPY_MKL_H', None), ('HAVE_CBLAS', None)]\n",
      "    include_dirs = ['C:/Users/DELL/anaconda3\\\\Library\\\\include']\n",
      "blas_opt_info:\n",
      "    libraries = ['mkl_rt']\n",
      "    library_dirs = ['C:/Users/DELL/anaconda3\\\\Library\\\\lib']\n",
      "    define_macros = [('SCIPY_MKL_H', None), ('HAVE_CBLAS', None)]\n",
      "    include_dirs = ['C:/Users/DELL/anaconda3\\\\Library\\\\include']\n",
      "lapack_mkl_info:\n",
      "    libraries = ['mkl_rt']\n",
      "    library_dirs = ['C:/Users/DELL/anaconda3\\\\Library\\\\lib']\n",
      "    define_macros = [('SCIPY_MKL_H', None), ('HAVE_CBLAS', None)]\n",
      "    include_dirs = ['C:/Users/DELL/anaconda3\\\\Library\\\\include']\n",
      "lapack_opt_info:\n",
      "    libraries = ['mkl_rt']\n",
      "    library_dirs = ['C:/Users/DELL/anaconda3\\\\Library\\\\lib']\n",
      "    define_macros = [('SCIPY_MKL_H', None), ('HAVE_CBLAS', None)]\n",
      "    include_dirs = ['C:/Users/DELL/anaconda3\\\\Library\\\\include']\n",
      "Supported SIMD extensions in this NumPy install:\n",
      "    baseline = SSE,SSE2,SSE3\n",
      "    found = SSSE3,SSE41,POPCNT,SSE42,AVX,F16C,FMA3,AVX2\n",
      "    not found = AVX512F,AVX512CD,AVX512_SKX,AVX512_CLX,AVX512_CNL\n",
      "None\n"
     ]
    }
   ],
   "source": [
    "#importing module\n",
    "import numpy as np\n",
    "\n",
    "#Return version of numpy\n",
    "print(\"Version of numpy is : \", np.__version__)\n",
    "\n",
    "#Return configuration of numpy\n",
    "print(np.show_config())"
   ]
  },
  {
   "cell_type": "markdown",
   "id": "0f4eb834",
   "metadata": {},
   "source": [
    "# 3. Create a null vector of size 10"
   ]
  },
  {
   "cell_type": "code",
   "execution_count": 9,
   "id": "1f703bdd",
   "metadata": {},
   "outputs": [
    {
     "name": "stdout",
     "output_type": "stream",
     "text": [
      "Null vectors are : \n",
      " [0. 0. 0. 0. 0. 0. 0. 0. 0. 0.]\n"
     ]
    }
   ],
   "source": [
    "#importing module\n",
    "import numpy as np\n",
    "\n",
    "#Creat null vectors \n",
    "Z = np.zeros(10)\n",
    "\n",
    "print(\"Null vectors are : \\n\", Z)"
   ]
  },
  {
   "cell_type": "markdown",
   "id": "2c075a89",
   "metadata": {},
   "source": [
    "# 4. How to find the memory size of any array "
   ]
  },
  {
   "cell_type": "code",
   "execution_count": null,
   "id": "0c7cf318",
   "metadata": {},
   "outputs": [],
   "source": [
    "arr size"
   ]
  },
  {
   "cell_type": "markdown",
   "id": "860ee38a",
   "metadata": {},
   "source": [
    "# 5. How to get the documentation of the numpy add function from the command line?"
   ]
  },
  {
   "cell_type": "code",
   "execution_count": 15,
   "id": "3db8d8f1",
   "metadata": {},
   "outputs": [
    {
     "name": "stdout",
     "output_type": "stream",
     "text": [
      "add(x1, x2, /, out=None, *, where=True, casting='same_kind', order='K', dtype=None, subok=True[, signature, extobj])\n",
      "\n",
      "Add arguments element-wise.\n",
      "\n",
      "Parameters\n",
      "----------\n",
      "x1, x2 : array_like\n",
      "    The arrays to be added.\n",
      "    If ``x1.shape != x2.shape``, they must be broadcastable to a common\n",
      "    shape (which becomes the shape of the output).\n",
      "out : ndarray, None, or tuple of ndarray and None, optional\n",
      "    A location into which the result is stored. If provided, it must have\n",
      "    a shape that the inputs broadcast to. If not provided or None,\n",
      "    a freshly-allocated array is returned. A tuple (possible only as a\n",
      "    keyword argument) must have length equal to the number of outputs.\n",
      "where : array_like, optional\n",
      "    This condition is broadcast over the input. At locations where the\n",
      "    condition is True, the `out` array will be set to the ufunc result.\n",
      "    Elsewhere, the `out` array will retain its original value.\n",
      "    Note that if an uninitialized `out` array is created via the default\n",
      "    ``out=None``, locations within it where the condition is False will\n",
      "    remain uninitialized.\n",
      "**kwargs\n",
      "    For other keyword-only arguments, see the\n",
      "    :ref:`ufunc docs <ufuncs.kwargs>`.\n",
      "\n",
      "Returns\n",
      "-------\n",
      "add : ndarray or scalar\n",
      "    The sum of `x1` and `x2`, element-wise.\n",
      "    This is a scalar if both `x1` and `x2` are scalars.\n",
      "\n",
      "Notes\n",
      "-----\n",
      "Equivalent to `x1` + `x2` in terms of array broadcasting.\n",
      "\n",
      "Examples\n",
      "--------\n",
      ">>> np.add(1.0, 4.0)\n",
      "5.0\n",
      ">>> x1 = np.arange(9.0).reshape((3, 3))\n",
      ">>> x2 = np.arange(3.0)\n",
      ">>> np.add(x1, x2)\n",
      "array([[  0.,   2.,   4.],\n",
      "       [  3.,   5.,   7.],\n",
      "       [  6.,   8.,  10.]])\n",
      "\n",
      "The ``+`` operator can be used as a shorthand for ``np.add`` on ndarrays.\n",
      "\n",
      ">>> x1 = np.arange(9.0).reshape((3, 3))\n",
      ">>> x2 = np.arange(3.0)\n",
      ">>> x1 + x2\n",
      "array([[ 0.,  2.,  4.],\n",
      "       [ 3.,  5.,  7.],\n",
      "       [ 6.,  8., 10.]])\n"
     ]
    }
   ],
   "source": [
    "import numpy as np\n",
    "np.info(np.add)"
   ]
  },
  {
   "cell_type": "markdown",
   "id": "a291f339",
   "metadata": {},
   "source": [
    "# 6. Create a null vector of size 10 but the fifth value which is 1"
   ]
  },
  {
   "cell_type": "code",
   "execution_count": 19,
   "id": "446dcbb7",
   "metadata": {},
   "outputs": [
    {
     "name": "stdout",
     "output_type": "stream",
     "text": [
      "[0. 0. 0. 0. 1. 0. 0. 0. 0. 0.]\n"
     ]
    }
   ],
   "source": [
    "import numpy as np\n",
    "#Creating null vector of size 10\n",
    "x = np.zeros(10)\n",
    "\n",
    "#Assign value to 4th index\n",
    "x[4] = 1\n",
    "print(x)"
   ]
  },
  {
   "cell_type": "markdown",
   "id": "54f0153a",
   "metadata": {},
   "source": [
    "# 7. Create a vector with values ranging from 10 to 49"
   ]
  },
  {
   "cell_type": "code",
   "execution_count": 1,
   "id": "0e25d8d5",
   "metadata": {},
   "outputs": [
    {
     "name": "stdout",
     "output_type": "stream",
     "text": [
      "[10 11 12 13 14 15 16 17 18 19 20 21 22 23 24 25 26 27 28 29 30 31 32 33\n",
      " 34 35 36 37 38 39 40 41 42 43 44 45 46 47 48 49]\n"
     ]
    }
   ],
   "source": [
    "import numpy as np\n",
    "#creating array of range 10 to 49\n",
    "x = np.arange(10,50)\n",
    "print(x)"
   ]
  },
  {
   "cell_type": "markdown",
   "id": "bbe78cae",
   "metadata": {},
   "source": [
    "# 8. Reverse a vector (first element becomes last)"
   ]
  },
  {
   "cell_type": "code",
   "execution_count": 21,
   "id": "9dacba0f",
   "metadata": {},
   "outputs": [
    {
     "name": "stdout",
     "output_type": "stream",
     "text": [
      "[49 48 47 46 45 44 43 42 41 40 39 38 37 36 35 34 33 32 31 30 29 28 27 26\n",
      " 25 24 23 22 21 20 19 18 17 16 15 14 13 12 11 10]\n"
     ]
    }
   ],
   "source": [
    "import numpy as np\n",
    "x = np.arange(10,50)\n",
    "\n",
    "#Reverse the vector\n",
    "x = x[::-1]\n",
    "print(x)"
   ]
  },
  {
   "cell_type": "markdown",
   "id": "d9fdf4de",
   "metadata": {},
   "source": [
    "# 9. Create a 3x3 matrix with values ranging from 0 to 8"
   ]
  },
  {
   "cell_type": "code",
   "execution_count": 22,
   "id": "77a7945d",
   "metadata": {},
   "outputs": [
    {
     "name": "stdout",
     "output_type": "stream",
     "text": [
      "[[0 1 2]\n",
      " [3 4 5]\n",
      " [6 7 8]]\n"
     ]
    }
   ],
   "source": [
    "import numpy as np\n",
    "x = np.arange(0,9).reshape(3, 3)\n",
    "print(x)"
   ]
  },
  {
   "cell_type": "markdown",
   "id": "60248e92",
   "metadata": {},
   "source": [
    "# 10. Find indices of non­zero elements from [1,2,0,0,4,0]"
   ]
  },
  {
   "cell_type": "code",
   "execution_count": 24,
   "id": "bf5d9150",
   "metadata": {},
   "outputs": [
    {
     "name": "stdout",
     "output_type": "stream",
     "text": [
      "Indices of nonzer elements are :  (array([0, 1, 4], dtype=int64),)\n"
     ]
    }
   ],
   "source": [
    "import numpy as np\n",
    "x = np.nonzero([1,2,0,0,4,0])\n",
    "print(\"Indices of nonzer elements are : \", x)"
   ]
  },
  {
   "cell_type": "markdown",
   "id": "695d44af",
   "metadata": {},
   "source": [
    "# 11. Create a 3x3 identity matrix"
   ]
  },
  {
   "cell_type": "code",
   "execution_count": 27,
   "id": "d76b58c5",
   "metadata": {},
   "outputs": [
    {
     "name": "stdout",
     "output_type": "stream",
     "text": [
      "[[1. 0. 0.]\n",
      " [0. 1. 0.]\n",
      " [0. 0. 1.]]\n"
     ]
    }
   ],
   "source": [
    "#Using eye method\n",
    "import numpy as np\n",
    "x = np.eye(3)\n",
    "print(x)"
   ]
  },
  {
   "cell_type": "code",
   "execution_count": 28,
   "id": "de16c1ee",
   "metadata": {},
   "outputs": [
    {
     "name": "stdout",
     "output_type": "stream",
     "text": [
      "[[1. 0. 0.]\n",
      " [0. 1. 0.]\n",
      " [0. 0. 1.]]\n"
     ]
    }
   ],
   "source": [
    "#Using identity\n",
    "import numpy as np\n",
    "x = np.identity(3)\n",
    "print(x)"
   ]
  },
  {
   "cell_type": "markdown",
   "id": "d7e29e22",
   "metadata": {},
   "source": [
    "# 12. Create a 3x3x3 array with random values"
   ]
  },
  {
   "cell_type": "code",
   "execution_count": 29,
   "id": "1e4cf3e2",
   "metadata": {},
   "outputs": [
    {
     "name": "stdout",
     "output_type": "stream",
     "text": [
      "[[[0.86300725 0.77944252 0.38867545]\n",
      "  [0.36643993 0.69111643 0.52853632]\n",
      "  [0.62017545 0.59429458 0.71927716]]\n",
      "\n",
      " [[0.01647119 0.33942798 0.20985555]\n",
      "  [0.75024844 0.73934197 0.54510225]\n",
      "  [0.96987647 0.83417599 0.61040781]]\n",
      "\n",
      " [[0.98246431 0.58969115 0.15271063]\n",
      "  [0.10120718 0.33702953 0.9726417 ]\n",
      "  [0.5668524  0.98911354 0.87306696]]]\n"
     ]
    }
   ],
   "source": [
    "import numpy as np\n",
    "#Create random array\n",
    "x = np.random.random((3,3,3))\n",
    "print(x)"
   ]
  },
  {
   "cell_type": "markdown",
   "id": "c429069b",
   "metadata": {},
   "source": [
    "# 13. Create a 10x10 array with random values and find the minimum and maximum values"
   ]
  },
  {
   "cell_type": "code",
   "execution_count": 32,
   "id": "2241f091",
   "metadata": {},
   "outputs": [
    {
     "name": "stdout",
     "output_type": "stream",
     "text": [
      "Our random array is : \n",
      " [[0.24738895 0.60977955 0.27126414 0.60261951 0.10270876 0.91773894\n",
      "  0.20009339 0.22895133 0.85762676 0.64873522]\n",
      " [0.46817405 0.73171262 0.02522535 0.06817135 0.19187894 0.85494498\n",
      "  0.5333833  0.90037166 0.50869542 0.37888859]\n",
      " [0.63199825 0.53400438 0.54400363 0.39449282 0.07763644 0.94269078\n",
      "  0.08184485 0.56870426 0.48730261 0.77580902]\n",
      " [0.17674664 0.28045178 0.9355293  0.53781026 0.58479056 0.9252714\n",
      "  0.9682735  0.66953078 0.03352884 0.4278268 ]\n",
      " [0.19300988 0.17336706 0.79940287 0.3142085  0.08171265 0.39998355\n",
      "  0.09026741 0.8429897  0.85066561 0.20567335]\n",
      " [0.22115294 0.87955862 0.53767507 0.19135337 0.84130563 0.94487932\n",
      "  0.16847475 0.60775828 0.44403151 0.36357257]\n",
      " [0.75705366 0.62820255 0.17153013 0.81664736 0.70753195 0.09009872\n",
      "  0.0359709  0.82937015 0.62847678 0.66413222]\n",
      " [0.79411344 0.70398307 0.27761885 0.6388098  0.01316032 0.49154781\n",
      "  0.35039655 0.97556463 0.01803626 0.0342144 ]\n",
      " [0.51789519 0.84508666 0.57688945 0.29564533 0.31741423 0.42264155\n",
      "  0.3198173  0.98557673 0.4106747  0.43801054]\n",
      " [0.56844635 0.08524336 0.65845099 0.4158345  0.47518272 0.1619931\n",
      "  0.51892949 0.71886215 0.3765485  0.94733825]]\n",
      "\n",
      "Minimum value of array is :  0.013160320544417292\n",
      "\n",
      "Maximum value of array is :  0.9855767254854482\n"
     ]
    }
   ],
   "source": [
    "import numpy as np\n",
    "\n",
    "#Creating random array\n",
    "x = np.random.random((10,10))\n",
    "\n",
    "print(\"Our random array is : \\n\", x)\n",
    "\n",
    "#Using min and max function\n",
    "xmin = x.min()\n",
    "xmax = x.max()\n",
    "\n",
    "print(\"\\nMinimum value of array is : \", xmin) \n",
    "print(\"\\nMaximum value of array is : \", xmax)\n"
   ]
  },
  {
   "cell_type": "markdown",
   "id": "ec6ddbf3",
   "metadata": {},
   "source": [
    "# 14. Create a random vector of size 30 and find the mean value "
   ]
  },
  {
   "cell_type": "code",
   "execution_count": 33,
   "id": "28a02431",
   "metadata": {},
   "outputs": [
    {
     "name": "stdout",
     "output_type": "stream",
     "text": [
      "Our random array is : \n",
      " [0.66805    0.0947742  0.04530944 0.81067264 0.71192322 0.34295132\n",
      " 0.1769242  0.07096666 0.86694636 0.27355445 0.24964658 0.19627748\n",
      " 0.87812865 0.03247014 0.11201347 0.30100194 0.09820393 0.44359808\n",
      " 0.29315924 0.98868283 0.57583623 0.34351354 0.34721043 0.35581818\n",
      " 0.87157535 0.30673384 0.98115771 0.90655516 0.80895981 0.08709447]\n",
      "\n",
      "Mean of random array is :  0.44132365149049513\n"
     ]
    }
   ],
   "source": [
    "import numpy as np\n",
    "#Creating random array\n",
    "x = np.random.random(30)\n",
    "\n",
    "print(\"Our random array is : \\n\", x)\n",
    "\n",
    "#Calculating mean\n",
    "m = x.mean()\n",
    "\n",
    "print(\"\\nMean of random array is : \", m)"
   ]
  },
  {
   "cell_type": "markdown",
   "id": "08939f7c",
   "metadata": {},
   "source": [
    "# 15. Create a 2d array with 1 on the border and 0 inside"
   ]
  },
  {
   "cell_type": "code",
   "execution_count": 36,
   "id": "aafd56a2",
   "metadata": {},
   "outputs": [
    {
     "name": "stdout",
     "output_type": "stream",
     "text": [
      "Array before : \n",
      " [[1. 1. 1. 1. 1. 1. 1. 1. 1. 1.]\n",
      " [1. 1. 1. 1. 1. 1. 1. 1. 1. 1.]\n",
      " [1. 1. 1. 1. 1. 1. 1. 1. 1. 1.]\n",
      " [1. 1. 1. 1. 1. 1. 1. 1. 1. 1.]\n",
      " [1. 1. 1. 1. 1. 1. 1. 1. 1. 1.]\n",
      " [1. 1. 1. 1. 1. 1. 1. 1. 1. 1.]\n",
      " [1. 1. 1. 1. 1. 1. 1. 1. 1. 1.]\n",
      " [1. 1. 1. 1. 1. 1. 1. 1. 1. 1.]\n",
      " [1. 1. 1. 1. 1. 1. 1. 1. 1. 1.]\n",
      " [1. 1. 1. 1. 1. 1. 1. 1. 1. 1.]]\n",
      "\n",
      "Array after : \n",
      " [[1. 1. 1. 1. 1. 1. 1. 1. 1. 1.]\n",
      " [1. 0. 0. 0. 0. 0. 0. 0. 0. 1.]\n",
      " [1. 0. 0. 0. 0. 0. 0. 0. 0. 1.]\n",
      " [1. 0. 0. 0. 0. 0. 0. 0. 0. 1.]\n",
      " [1. 0. 0. 0. 0. 0. 0. 0. 0. 1.]\n",
      " [1. 0. 0. 0. 0. 0. 0. 0. 0. 1.]\n",
      " [1. 0. 0. 0. 0. 0. 0. 0. 0. 1.]\n",
      " [1. 0. 0. 0. 0. 0. 0. 0. 0. 1.]\n",
      " [1. 0. 0. 0. 0. 0. 0. 0. 0. 1.]\n",
      " [1. 1. 1. 1. 1. 1. 1. 1. 1. 1.]]\n"
     ]
    }
   ],
   "source": [
    "import numpy as np\n",
    "#Firstly creating array all with 1\n",
    "x = np.ones((10,10))\n",
    "print(\"Array before : \\n\", x)\n",
    "\n",
    "#Change inside value using row and column operation\n",
    "x[1:-1,1:-1] = 0\n",
    "\n",
    "print(\"\\nArray after : \\n\", x)"
   ]
  },
  {
   "cell_type": "markdown",
   "id": "7f69c11c",
   "metadata": {},
   "source": [
    "# 16. How to add a border (filled with 0's) around an existing array?"
   ]
  },
  {
   "cell_type": "markdown",
   "id": "72a7545a",
   "metadata": {},
   "source": [
    "pad() - The function returns the padded array of rank equal to the given array and the shape will increase according to pad_width"
   ]
  },
  {
   "cell_type": "code",
   "execution_count": 3,
   "id": "66ccab24",
   "metadata": {},
   "outputs": [
    {
     "data": {
      "text/plain": [
       "array([[0.        , 0.        , 0.        , 0.        , 0.        ,\n",
       "        0.        , 0.        ],\n",
       "       [0.        , 0.04094088, 0.43211732, 0.96940527, 0.10695312,\n",
       "        0.56334271, 0.        ],\n",
       "       [0.        , 0.46519922, 0.99880661, 0.91319162, 0.49321601,\n",
       "        0.73803306, 0.        ],\n",
       "       [0.        , 0.88327589, 0.11212149, 0.31484106, 0.58992873,\n",
       "        0.47388756, 0.        ],\n",
       "       [0.        , 0.81908658, 0.80332406, 0.65310667, 0.41781125,\n",
       "        0.08419828, 0.        ],\n",
       "       [0.        , 0.37839388, 0.00340594, 0.49314406, 0.73403901,\n",
       "        0.29800579, 0.        ],\n",
       "       [0.        , 0.        , 0.        , 0.        , 0.        ,\n",
       "        0.        , 0.        ]])"
      ]
     },
     "execution_count": 3,
     "metadata": {},
     "output_type": "execute_result"
    }
   ],
   "source": [
    "import numpy as np\n",
    "#Creating random array of 5X5\n",
    "\n",
    "arr = np.random.random((5,5))\n",
    "\n",
    "arr = np.pad(arr,pad_width=(1,1),mode = 'constant',constant_values = 0)\n",
    "arr"
   ]
  },
  {
   "cell_type": "markdown",
   "id": "a9185099",
   "metadata": {},
   "source": [
    "# 17. What is the result of the following expression?"
   ]
  },
  {
   "cell_type": "raw",
   "id": "29d18cc6",
   "metadata": {},
   "source": [
    "0 * np.nan\n",
    "np.nan == np.nan\n",
    "np.inf > np.nan\n",
    "np.nan - np.nan\n",
    "0.3 == 3 * 0.1"
   ]
  },
  {
   "cell_type": "code",
   "execution_count": 7,
   "id": "fb5f5d02",
   "metadata": {},
   "outputs": [
    {
     "name": "stdout",
     "output_type": "stream",
     "text": [
      "nan\n",
      "False\n",
      "False\n",
      "nan\n",
      "False\n"
     ]
    }
   ],
   "source": [
    "#nan stands for not a number\n",
    "\n",
    "#importing module\n",
    "import numpy as np\n",
    "\n",
    "print(0 * np.nan)\n",
    "\n",
    "#if you will check the equality of these it returns False\n",
    "print(np.nan == np.nan)\n",
    "\n",
    "# comparig infinite values with nan\n",
    "print(np.inf > np.nan)\n",
    "\n",
    "print(np.nan - np.nan)\n",
    "\n",
    "print(0.3 == 3 * 0.1)"
   ]
  },
  {
   "cell_type": "markdown",
   "id": "82f67211",
   "metadata": {},
   "source": [
    "# 18. Create a 5x5 matrix with values 1,2,3,4 just below the diagonal"
   ]
  },
  {
   "cell_type": "markdown",
   "id": "c0674230",
   "metadata": {},
   "source": [
    "k- The default is 0. Use k>0 for diagonals above the main diagonal, and k<0 for diagonals below the main diagonal."
   ]
  },
  {
   "cell_type": "markdown",
   "id": "4b404cc0",
   "metadata": {},
   "source": [
    "- The diag() function is used to extract a diagonal or construct a diagonal array."
   ]
  },
  {
   "cell_type": "code",
   "execution_count": 39,
   "id": "c2436a9f",
   "metadata": {
    "scrolled": true
   },
   "outputs": [
    {
     "name": "stdout",
     "output_type": "stream",
     "text": [
      "[[0 0 0 0 0]\n",
      " [1 0 0 0 0]\n",
      " [0 2 0 0 0]\n",
      " [0 0 3 0 0]\n",
      " [0 0 0 4 0]]\n"
     ]
    }
   ],
   "source": [
    "import numpy as np\n",
    "x = np.diag(1+np.arange(4),k=-1)\n",
    "print(x)"
   ]
  },
  {
   "cell_type": "markdown",
   "id": "10603f49",
   "metadata": {},
   "source": [
    "# 19. Create a 8x8 matrix and fill it with a checkerboard pattern"
   ]
  },
  {
   "cell_type": "code",
   "execution_count": 4,
   "id": "57d53f99",
   "metadata": {},
   "outputs": [
    {
     "name": "stdout",
     "output_type": "stream",
     "text": [
      "[[0 1 0 1 0 1 0 1]\n",
      " [1 0 1 0 1 0 1 0]\n",
      " [0 1 0 1 0 1 0 1]\n",
      " [1 0 1 0 1 0 1 0]\n",
      " [0 1 0 1 0 1 0 1]\n",
      " [1 0 1 0 1 0 1 0]\n",
      " [0 1 0 1 0 1 0 1]\n",
      " [1 0 1 0 1 0 1 0]]\n"
     ]
    }
   ],
   "source": [
    "import numpy as np\n",
    "x = np.zeros((8,8),dtype=int)\n",
    "x[1::2,::2] = 1\n",
    "x[::2,1::2] = 1\n",
    "print(x)"
   ]
  },
  {
   "cell_type": "markdown",
   "id": "8d5203bf",
   "metadata": {},
   "source": [
    "# 20. Consider a (6,7,8) shape array, what is the index (x,y,z) of the 100th element?"
   ]
  },
  {
   "cell_type": "markdown",
   "id": "a8ff1ba5",
   "metadata": {},
   "source": [
    "numpy.unravel_index(indices, shape, order='C')"
   ]
  },
  {
   "cell_type": "markdown",
   "id": "cac0a46d",
   "metadata": {},
   "source": [
    "- numpy.unravel_index() function converts a flat index or array of flat indices into a tuple of coordinate arrays."
   ]
  },
  {
   "cell_type": "code",
   "execution_count": 5,
   "id": "5615ade6",
   "metadata": {},
   "outputs": [
    {
     "name": "stdout",
     "output_type": "stream",
     "text": [
      "(1, 5, 4)\n"
     ]
    }
   ],
   "source": [
    "import numpy as np\n",
    "\n",
    "#get the index of a maximum element in a numpy array along one axis\n",
    "print(np.unravel_index(100,(6,7,8)))"
   ]
  },
  {
   "cell_type": "markdown",
   "id": "3a2e812c",
   "metadata": {},
   "source": [
    "# 21. Create a checkerboard 8x8 matrix using the tile function"
   ]
  },
  {
   "cell_type": "markdown",
   "id": "ba34d00b",
   "metadata": {},
   "source": [
    "Syntax : numpy.tile(A, reps)\n",
    "* A- array\n",
    "* reps - The number of repetitions of A along each axis.\n",
    "- Construct an array by repeating A the number of times given by reps."
   ]
  },
  {
   "cell_type": "code",
   "execution_count": 8,
   "id": "e78f8630",
   "metadata": {},
   "outputs": [
    {
     "name": "stdout",
     "output_type": "stream",
     "text": [
      "[[0 1 0 1 0 1 0 1]\n",
      " [1 0 1 0 1 0 1 0]\n",
      " [0 1 0 1 0 1 0 1]\n",
      " [1 0 1 0 1 0 1 0]\n",
      " [0 1 0 1 0 1 0 1]\n",
      " [1 0 1 0 1 0 1 0]\n",
      " [0 1 0 1 0 1 0 1]\n",
      " [1 0 1 0 1 0 1 0]]\n"
     ]
    }
   ],
   "source": [
    "import numpy as np\n",
    "x = np.tile( np.array([[0,1],[1,0]]), (4,4))\n",
    "print(x)"
   ]
  },
  {
   "cell_type": "markdown",
   "id": "5c602931",
   "metadata": {},
   "source": [
    "# 22. Normalize a 5x5 random matrix"
   ]
  },
  {
   "cell_type": "code",
   "execution_count": 4,
   "id": "8ec96bda",
   "metadata": {},
   "outputs": [
    {
     "name": "stdout",
     "output_type": "stream",
     "text": [
      "[[0.41270306 0.74577411 0.53129131 0.33460374 1.        ]\n",
      " [0.47283346 0.24935407 0.5478237  0.69002346 0.01942523]\n",
      " [0.97010287 0.37660134 0.08218788 0.51443646 0.27070873]\n",
      " [0.11244055 0.90055698 0.1723612  0.         0.79548375]\n",
      " [0.36996996 0.45944005 0.95847952 0.6442024  0.72732314]]\n"
     ]
    }
   ],
   "source": [
    "import numpy as np\n",
    "#Creating random array\n",
    "X = np.random.random((5,5))\n",
    "\n",
    "#Calculating min and max of array\n",
    "Xmax = X.max()\n",
    "Xmin = X.min()\n",
    "\n",
    "#Formula for normalization\n",
    "X = (X - Xmin)/(Xmax - Xmin)\n",
    "print(X)"
   ]
  },
  {
   "cell_type": "markdown",
   "id": "0e964d68",
   "metadata": {},
   "source": [
    "- In order to normalize a vector in NumPy, we can use the np.linalg.norm() function,"
   ]
  },
  {
   "cell_type": "code",
   "execution_count": 23,
   "id": "47381527",
   "metadata": {},
   "outputs": [
    {
     "name": "stdout",
     "output_type": "stream",
     "text": [
      "2.4866983263683107\n",
      "[[0.08769676 0.19553658 0.05556403 0.17753546 0.22813144]\n",
      " [0.15784147 0.1657302  0.33353424 0.08567789 0.17069294]\n",
      " [0.09599926 0.02443065 0.01867094 0.01684173 0.30711056]\n",
      " [0.03823063 0.26161513 0.2170434  0.39424076 0.00672938]\n",
      " [0.30873614 0.00838015 0.32729678 0.29549456 0.01577989]]\n"
     ]
    }
   ],
   "source": [
    "# Calculating a Vector Norm with NumPy\n",
    "import numpy as np\n",
    "\n",
    "# Generate an random Array\n",
    "X = np.random.random((5,5))\n",
    "\n",
    "# Calculate the vector norm\n",
    "normalized_vector = X / np.linalg.norm(X)\n",
    "print(normalized_vector)"
   ]
  },
  {
   "cell_type": "markdown",
   "id": "c36a6cda",
   "metadata": {},
   "source": [
    "# 23. Create a custom dtype that describes a color as four unsigned bytes (RGBA)"
   ]
  },
  {
   "cell_type": "code",
   "execution_count": 34,
   "id": "135db8ad",
   "metadata": {},
   "outputs": [
    {
     "name": "stdout",
     "output_type": "stream",
     "text": [
      "[('r', 'u1', (1,)), ('g', 'u1', (1,)), ('b', 'u1', (1,)), ('a', 'u1', (1,))]\n"
     ]
    }
   ],
   "source": [
    "import numpy as np\n",
    "color = np.dtype([(\"r\", np.ubyte, (1,)),\n",
    "                (\"g\", np.ubyte, (1,)),\n",
    "                (\"b\", np.ubyte, (1,)),\n",
    "                (\"a\", np.ubyte, (1,))])\n",
    "print(color)"
   ]
  },
  {
   "cell_type": "code",
   "execution_count": 32,
   "id": "68ca0d3f",
   "metadata": {},
   "outputs": [
    {
     "name": "stdout",
     "output_type": "stream",
     "text": [
      "2\n"
     ]
    },
    {
     "data": {
      "text/plain": [
       "numpy.ndarray"
      ]
     },
     "execution_count": 32,
     "metadata": {},
     "output_type": "execute_result"
    }
   ],
   "source": [
    "RGBA = np.dtype([('red',np.uint8),('green',np.uint8),('blue',np.uint8),('alpha',np.uint8)])\n",
    "color = np.array((1,2,4,3),dtype = RGBA)\n",
    "print(color['green'])\n",
    "type(color)"
   ]
  },
  {
   "cell_type": "markdown",
   "id": "0b4c9f3e",
   "metadata": {},
   "source": [
    "# 24. Multiply a 5x3 matrix by a 3x2 matrix (real matrix product)"
   ]
  },
  {
   "cell_type": "code",
   "execution_count": 36,
   "id": "b06f9d0e",
   "metadata": {},
   "outputs": [
    {
     "name": "stdout",
     "output_type": "stream",
     "text": [
      "[[3. 3.]\n",
      " [3. 3.]\n",
      " [3. 3.]\n",
      " [3. 3.]\n",
      " [3. 3.]]\n"
     ]
    }
   ],
   "source": [
    "import numpy as np\n",
    "#using dot product\n",
    "x = np.dot(np.ones((5,3)), np.ones((3,2)))\n",
    "print(x)"
   ]
  },
  {
   "cell_type": "code",
   "execution_count": 38,
   "id": "6c499e21",
   "metadata": {},
   "outputs": [
    {
     "data": {
      "text/plain": [
       "array([[1.85840844, 0.91012497],\n",
       "       [1.07683803, 0.41644896],\n",
       "       [1.55824775, 0.74306974],\n",
       "       [0.8811993 , 0.50497267],\n",
       "       [0.59458714, 0.13317637]])"
      ]
     },
     "execution_count": 38,
     "metadata": {},
     "output_type": "execute_result"
    }
   ],
   "source": [
    "#Creating random arrays\n",
    "arr_1 = np.random.random((5,3))\n",
    "arr_2 = np.random.random((3,2))\n",
    "np.dot(arr_1,arr_2)"
   ]
  },
  {
   "cell_type": "markdown",
   "id": "3cf8f0ef",
   "metadata": {},
   "source": [
    "# 25. Given a 1D array, negate all elements which are between 3 and 8, in place."
   ]
  },
  {
   "cell_type": "code",
   "execution_count": 45,
   "id": "892a44d6",
   "metadata": {},
   "outputs": [
    {
     "name": "stdout",
     "output_type": "stream",
     "text": [
      "Array is :  [ 0  1  2  3  4  5  6  7  8  9 10]\n",
      "\n",
      "Array after negating elements  :  [ 0  1  2  3 -4 -5 -6 -7 -8  9 10]\n"
     ]
    }
   ],
   "source": [
    "import numpy as np\n",
    "#creating array with 11 elements\n",
    "X = np.arange(11)\n",
    "print(\"Array is : \", X)\n",
    "\n",
    "#setting condition and multiply with -1\n",
    "X[(3 < X) & (X <= 8)] *= -1\n",
    "\n",
    "print(\"\\nArray after negating elements  : \", X)"
   ]
  },
  {
   "cell_type": "markdown",
   "id": "2f3e61f6",
   "metadata": {},
   "source": [
    "# 26. What is the output of the following script?"
   ]
  },
  {
   "cell_type": "raw",
   "id": "66911a5c",
   "metadata": {},
   "source": [
    "print(sum(range(5),-1))\n",
    "from numpy import *\n",
    "print(sum(range(5),-1))"
   ]
  },
  {
   "cell_type": "code",
   "execution_count": 46,
   "id": "4a0c8bd9",
   "metadata": {},
   "outputs": [
    {
     "name": "stdout",
     "output_type": "stream",
     "text": [
      "9\n",
      "10\n"
     ]
    }
   ],
   "source": [
    "print(sum(range(5),-1))\n",
    "from numpy import *\n",
    "print(sum(range(5),-1))"
   ]
  },
  {
   "cell_type": "markdown",
   "id": "65269650",
   "metadata": {},
   "source": [
    "# 27. Consider an integer vector Z, which of these expressions are legal?"
   ]
  },
  {
   "cell_type": "code",
   "execution_count": 55,
   "id": "5df3c679",
   "metadata": {},
   "outputs": [
    {
     "name": "stdout",
     "output_type": "stream",
     "text": [
      "[        1         1         4        27       256      3125     46656\n",
      "    823543  16777216 387420489]\n",
      "\n",
      " [  0   1   2   4   8  16  32  64 128 256]\n",
      "\n",
      " [False False False False False False False False False False]\n",
      "\n",
      " [0.+0.j 0.+1.j 0.+2.j 0.+3.j 0.+4.j 0.+5.j 0.+6.j 0.+7.j 0.+8.j 0.+9.j]\n",
      "\n",
      " [0. 1. 2. 3. 4. 5. 6. 7. 8. 9.]\n"
     ]
    },
    {
     "ename": "ValueError",
     "evalue": "The truth value of an array with more than one element is ambiguous. Use a.any() or a.all()",
     "output_type": "error",
     "traceback": [
      "\u001b[1;31m---------------------------------------------------------------------------\u001b[0m",
      "\u001b[1;31mValueError\u001b[0m                                Traceback (most recent call last)",
      "Input \u001b[1;32mIn [55]\u001b[0m, in \u001b[0;36m<cell line: 8>\u001b[1;34m()\u001b[0m\n\u001b[0;32m      6\u001b[0m \u001b[38;5;28mprint\u001b[39m(\u001b[38;5;124m\"\u001b[39m\u001b[38;5;130;01m\\n\u001b[39;00m\u001b[38;5;124m\"\u001b[39m,\u001b[38;5;241m1\u001b[39mj\u001b[38;5;241m*\u001b[39mZ)\n\u001b[0;32m      7\u001b[0m \u001b[38;5;28mprint\u001b[39m(\u001b[38;5;124m\"\u001b[39m\u001b[38;5;130;01m\\n\u001b[39;00m\u001b[38;5;124m\"\u001b[39m,Z\u001b[38;5;241m/\u001b[39m\u001b[38;5;241m1\u001b[39m\u001b[38;5;241m/\u001b[39m\u001b[38;5;241m1\u001b[39m)\n\u001b[1;32m----> 8\u001b[0m \u001b[38;5;28mprint\u001b[39m(\u001b[38;5;124m\"\u001b[39m\u001b[38;5;130;01m\\n\u001b[39;00m\u001b[38;5;124m\"\u001b[39m,Z\u001b[38;5;241m<\u001b[39mZ\u001b[38;5;241m>\u001b[39mZ)\n",
      "\u001b[1;31mValueError\u001b[0m: The truth value of an array with more than one element is ambiguous. Use a.any() or a.all()"
     ]
    }
   ],
   "source": [
    "import numpy as np\n",
    "Z = arange(10)\n",
    "print(Z**Z)\n",
    "print(\"\\n\", 2 << Z >> 2)\n",
    "print(\"\\n\",Z <- Z)\n",
    "print(\"\\n\",1j*Z)\n",
    "print(\"\\n\",Z/1/1)\n",
    "print(\"\\n\",Z<Z>Z)"
   ]
  },
  {
   "cell_type": "markdown",
   "id": "f411ee08",
   "metadata": {},
   "source": [
    "# 28. What are the result of the following expressions?"
   ]
  },
  {
   "cell_type": "raw",
   "id": "ef10bd69",
   "metadata": {},
   "source": [
    "np.array(0) // np.array(0)\n",
    "np.array(0) // np.array(0.)\n",
    "np.array(0) / np.array(0)\n",
    "np.array(0) / np.array(0.)"
   ]
  },
  {
   "cell_type": "code",
   "execution_count": 57,
   "id": "0fc0e191",
   "metadata": {},
   "outputs": [
    {
     "name": "stdout",
     "output_type": "stream",
     "text": [
      "0\n",
      "0\n",
      "nan\n"
     ]
    },
    {
     "name": "stderr",
     "output_type": "stream",
     "text": [
      "C:\\Users\\DELL\\AppData\\Local\\Temp\\ipykernel_10720\\2374626071.py:2: RuntimeWarning: divide by zero encountered in floor_divide\n",
      "  print(np.array(0) // np.array(0))\n",
      "C:\\Users\\DELL\\AppData\\Local\\Temp\\ipykernel_10720\\2374626071.py:3: RuntimeWarning: divide by zero encountered in floor_divide\n",
      "  print(np.array(0) // np.array(0))\n",
      "C:\\Users\\DELL\\AppData\\Local\\Temp\\ipykernel_10720\\2374626071.py:4: RuntimeWarning: invalid value encountered in true_divide\n",
      "  print(np.array(0) / np.array(0))\n"
     ]
    }
   ],
   "source": [
    "import numpy as np\n",
    "print(np.array(0) // np.array(0))\n",
    "print(np.array(0) // np.array(0))\n",
    "print(np.array(0) / np.array(0))"
   ]
  },
  {
   "cell_type": "markdown",
   "id": "4c268241",
   "metadata": {},
   "source": [
    "# 29. How to round away from zero a float array ?"
   ]
  },
  {
   "cell_type": "markdown",
   "id": "74c5fe44",
   "metadata": {},
   "source": [
    "- The numpy. trunc() is a mathematical function that returns the truncated value of the elements of array"
   ]
  },
  {
   "cell_type": "code",
   "execution_count": 64,
   "id": "810d2df4",
   "metadata": {},
   "outputs": [
    {
     "name": "stdout",
     "output_type": "stream",
     "text": [
      "[  2.   8.   3. -10.  -2.   4.   9.   5.   9.  -8.]\n"
     ]
    }
   ],
   "source": [
    "import numpy as np\n",
    "#by using uniform elements\n",
    "Z = np.random.uniform(-10,+10,10)\n",
    "\n",
    "print(np.trunc(Z + np.copysign(0.5, Z)))"
   ]
  },
  {
   "cell_type": "code",
   "execution_count": 63,
   "id": "d5a4375d",
   "metadata": {},
   "outputs": [
    {
     "name": "stdout",
     "output_type": "stream",
     "text": [
      "[[0.18834772 0.37375366 0.13545577 0.62952876 0.91287777]\n",
      " [0.48964133 0.63610648 0.26891309 0.56559882 0.0583328 ]\n",
      " [0.53658867 0.99725928 0.52355349 0.31674748 0.08973926]\n",
      " [0.72973233 0.71057311 0.30836708 0.48990551 0.12557964]\n",
      " [0.51323652 0.99785391 0.90970849 0.15082052 0.33754391]]\n",
      "\n",
      "Array after rounding \n",
      " [[0.19 0.37 0.14 0.63 0.91]\n",
      " [0.49 0.64 0.27 0.57 0.06]\n",
      " [0.54 1.   0.52 0.32 0.09]\n",
      " [0.73 0.71 0.31 0.49 0.13]\n",
      " [0.51 1.   0.91 0.15 0.34]]\n"
     ]
    }
   ],
   "source": [
    "#Create random array\n",
    "arr = np.random.random((5,5))\n",
    "print(arr)\n",
    "#using round function\n",
    "arr = np.round(arr,2)\n",
    "print(\"\\nArray after rounding \\n\",arr) "
   ]
  },
  {
   "cell_type": "markdown",
   "id": "6d35d86c",
   "metadata": {},
   "source": [
    "# 30. How to find common values between two arrays?"
   ]
  },
  {
   "cell_type": "code",
   "execution_count": 10,
   "id": "c2951bed",
   "metadata": {},
   "outputs": [
    {
     "name": "stdout",
     "output_type": "stream",
     "text": [
      "\n",
      "First array is : \n",
      " [[0 1 2]\n",
      " [3 4 5]\n",
      " [6 7 8]]\n",
      "\n",
      "Second array is : \n",
      " [[0 1 2]\n",
      " [3 4 5]\n",
      " [1 1 1]]\n",
      "\n",
      "Common values between two arrays are :  [0 1 2 3 4 5]\n"
     ]
    }
   ],
   "source": [
    "arr_1 = np.arange(9).reshape(3,3)\n",
    "print(\"\\nFirst array is : \\n\", arr_1)\n",
    "arr_2 = np.array([[0,1,2],[3,4,5],[1,1,1]])\n",
    "print(\"\\nSecond array is : \\n\", arr_2)\n",
    "\n",
    "common = np.intersect1d(arr_1, arr_2)\n",
    "print(\"\\nCommon values between two arrays are : \", common)\n"
   ]
  },
  {
   "cell_type": "markdown",
   "id": "45860634",
   "metadata": {},
   "source": [
    "# 31. How to ignore all numpy warnings? "
   ]
  },
  {
   "cell_type": "markdown",
   "id": "1bb910e4",
   "metadata": {},
   "source": [
    "- Below code give warning"
   ]
  },
  {
   "cell_type": "code",
   "execution_count": 8,
   "id": "855a5b2e",
   "metadata": {},
   "outputs": [
    {
     "name": "stdout",
     "output_type": "stream",
     "text": [
      "0\n"
     ]
    }
   ],
   "source": [
    "import numpy as np\n",
    "#It supprssed all warnings\n",
    "np.seterr(all=\"ignore\")\n",
    "print(np.array(0) // np.array(0))\n"
   ]
  },
  {
   "cell_type": "markdown",
   "id": "3c22bee2",
   "metadata": {},
   "source": [
    "# 32. Is the following expressions true?"
   ]
  },
  {
   "cell_type": "raw",
   "id": "1bc143f9",
   "metadata": {},
   "source": [
    "(np.sqrt(-1) == np.emath.sqrt(-1))"
   ]
  },
  {
   "cell_type": "code",
   "execution_count": 9,
   "id": "9b70a93c",
   "metadata": {},
   "outputs": [
    {
     "data": {
      "text/plain": [
       "False"
      ]
     },
     "execution_count": 9,
     "metadata": {},
     "output_type": "execute_result"
    }
   ],
   "source": [
    "(np.sqrt(-1) == np.emath.sqrt(-1))"
   ]
  },
  {
   "cell_type": "markdown",
   "id": "f27c630f",
   "metadata": {},
   "source": [
    "# 33. How to get the dates of yesterday, today and tomorrow?"
   ]
  },
  {
   "cell_type": "markdown",
   "id": "23eaa030",
   "metadata": {},
   "source": [
    "- With the help of numpy.datetime64() method, we can get the date in a numpy array in a particular format i.e year-month-day by using numpy.datetime64() method."
   ]
  },
  {
   "cell_type": "markdown",
   "id": "b6b25228",
   "metadata": {},
   "source": [
    "-  Return the date in a format ‘yyyy-mm-dd’."
   ]
  },
  {
   "cell_type": "code",
   "execution_count": 12,
   "id": "af7bf030",
   "metadata": {},
   "outputs": [
    {
     "name": "stdout",
     "output_type": "stream",
     "text": [
      "\n",
      "Date of yesterday is :  2023-01-07\n",
      "\n",
      "Today's date is :  2023-01-08\n",
      "\n",
      "Tommorow's date is :  2023-01-09\n"
     ]
    }
   ],
   "source": [
    "yesterday = np.datetime64('today', 'D') - np.timedelta64(1, 'D')\n",
    "print(\"\\nDate of yesterday is : \", yesterday)\n",
    "today     = np.datetime64('today', 'D')\n",
    "print(\"\\nToday's date is : \", today)\n",
    "tomorrow  = np.datetime64('today', 'D') + np.timedelta64(1, 'D')\n",
    "print(\"\\nTommorow's date is : \", tomorrow)"
   ]
  },
  {
   "cell_type": "markdown",
   "id": "058f505d",
   "metadata": {},
   "source": [
    "# 34. How to get all the dates corresponding to the month of July 2016?"
   ]
  },
  {
   "cell_type": "code",
   "execution_count": 14,
   "id": "442f7fa5",
   "metadata": {},
   "outputs": [
    {
     "name": "stdout",
     "output_type": "stream",
     "text": [
      "\n",
      "Date from July month are : \n",
      " ['2016-07-01' '2016-07-02' '2016-07-03' '2016-07-04' '2016-07-05'\n",
      " '2016-07-06' '2016-07-07' '2016-07-08' '2016-07-09' '2016-07-10'\n",
      " '2016-07-11' '2016-07-12' '2016-07-13' '2016-07-14' '2016-07-15'\n",
      " '2016-07-16' '2016-07-17' '2016-07-18' '2016-07-19' '2016-07-20'\n",
      " '2016-07-21' '2016-07-22' '2016-07-23' '2016-07-24' '2016-07-25'\n",
      " '2016-07-26' '2016-07-27' '2016-07-28' '2016-07-29' '2016-07-30'\n",
      " '2016-07-31']\n"
     ]
    }
   ],
   "source": [
    "Dates = np.arange('2016-07', '2016-08', dtype='datetime64[D]')\n",
    "print(\"\\nDate from July month are : \\n\", Dates)"
   ]
  },
  {
   "cell_type": "markdown",
   "id": "9b27a3df",
   "metadata": {},
   "source": [
    "# 35. How to compute ((A+B)*(-A/2)) in place (without copy)?"
   ]
  },
  {
   "cell_type": "code",
   "execution_count": 7,
   "id": "6c7a9ed0",
   "metadata": {},
   "outputs": [
    {
     "name": "stdout",
     "output_type": "stream",
     "text": [
      "Our first array A is: \n",
      " [1. 1. 1.]\n",
      "\n",
      "Our second array B is: \n",
      " [2. 2. 2.]\n",
      "\n",
      "Our Third array C is: \n",
      " [3. 3. 3.]\n",
      "\n",
      "Final result for above equation is : \n",
      " -4.5\n"
     ]
    }
   ],
   "source": [
    "#import module\n",
    "import numpy as np\n",
    "\n",
    "#Create three arrays for performing operation using ones()\n",
    "A = np.ones(3)*1\n",
    "print(\"Our first array A is: \\n\", A)\n",
    "B = np.ones(3)*2\n",
    "print(\"\\nOur second array B is: \\n\", B)\n",
    "C = np.ones(3)*3\n",
    "print(\"\\nOur Third array C is: \\n\", C)\n",
    "\n",
    "#add two array A and B first and result will store in B\n",
    "#the out parameter create new objects\n",
    "np.add(A,B,out=B)\n",
    "\n",
    "#Division perform on A\n",
    "np.divide(A,2,out=A)\n",
    "\n",
    "#negative function return the negative of the input\n",
    "np.negative(A,out=A)\n",
    "\n",
    "#Performing dot product\n",
    "print(\"\\nFinal result for above equation is : \\n\", np.dot(A,B))\n"
   ]
  },
  {
   "cell_type": "markdown",
   "id": "50d1fe03",
   "metadata": {},
   "source": [
    "# 36. Extract the integer part of a random array using 5 different methods"
   ]
  },
  {
   "cell_type": "code",
   "execution_count": 66,
   "id": "85db5ecf",
   "metadata": {},
   "outputs": [
    {
     "name": "stdout",
     "output_type": "stream",
     "text": [
      "[1. 4. 7. 7. 8. 2. 3. 1. 4. 5.]\n",
      "[1. 4. 7. 7. 8. 2. 3. 1. 4. 5.]\n",
      "[1. 4. 7. 7. 8. 2. 3. 1. 4. 5.]\n",
      "[1 4 7 7 8 2 3 1 4 5]\n",
      "[1. 4. 7. 7. 8. 2. 3. 1. 4. 5.]\n"
     ]
    }
   ],
   "source": [
    "import numpy as np\n",
    "Z = np.random.uniform(0,10,10)\n",
    "#1 using operators\n",
    "print(Z - Z%1)\n",
    "\n",
    "#2 Using floor method\n",
    "print(np.floor(Z))\n",
    "\n",
    "#3 Using ceil method\n",
    "print(np.ceil(Z)-1)\n",
    "\n",
    "#4 Using astype method\n",
    "print(Z.astype(int))\n",
    "\n",
    "#5 Using trunc method\n",
    "print(np.trunc(Z))"
   ]
  },
  {
   "cell_type": "markdown",
   "id": "fb733ccc",
   "metadata": {},
   "source": [
    "# 37. Create a 5x5 matrix with row values ranging from 0 to 4"
   ]
  },
  {
   "cell_type": "code",
   "execution_count": 10,
   "id": "d7518795",
   "metadata": {},
   "outputs": [
    {
     "name": "stdout",
     "output_type": "stream",
     "text": [
      "The created matris is : \n",
      " [[0. 1. 2. 3. 4.]\n",
      " [0. 1. 2. 3. 4.]\n",
      " [0. 1. 2. 3. 4.]\n",
      " [0. 1. 2. 3. 4.]\n",
      " [0. 1. 2. 3. 4.]]\n"
     ]
    }
   ],
   "source": [
    "import numpy as np\n",
    "#Create array of 5x5 using zeros()\n",
    "X = np.zeros((5,5))\n",
    "\n",
    "#perform additon with array within range of 0 to 4\n",
    "X += np.arange(5)\n",
    "print(\"The created matris is : \\n\", X)"
   ]
  },
  {
   "cell_type": "markdown",
   "id": "1ae171c8",
   "metadata": {},
   "source": [
    "# 38. Consider a generator function that generates 10 integers and use it to build an array"
   ]
  },
  {
   "cell_type": "markdown",
   "id": "6157e02f",
   "metadata": {},
   "source": [
    "- generator - is a function that returns an iterator that produces a sequence of values when iterated over."
   ]
  },
  {
   "cell_type": "raw",
   "id": "d2d32d74",
   "metadata": {},
   "source": [
    "- fromiter() - function create a new one-dimensional array from an iterable object.\n",
    "\n",
    "parameter in fromiter():\n",
    "dtype : [data-type] Data-type of the returned array.\n",
    "\n",
    "count : [int, optional] Number of items to read.\n",
    "\n",
    "Returns : [ndarray] The output array."
   ]
  },
  {
   "cell_type": "code",
   "execution_count": 15,
   "id": "e13b0d2e",
   "metadata": {},
   "outputs": [
    {
     "name": "stdout",
     "output_type": "stream",
     "text": [
      "Our array is : \n",
      " [0. 1. 2. 3. 4. 5. 6. 7. 8. 9.]\n"
     ]
    }
   ],
   "source": [
    "import numpy as np\n",
    "#used generator function from python\n",
    "def generate():\n",
    "    #to return 10 values\n",
    "    for x in range(10):\n",
    "        yield x\n",
    "x = np.fromiter(generate(),dtype=float,count=-1)\n",
    "print(\"Our array is : \\n\", x)"
   ]
  },
  {
   "cell_type": "markdown",
   "id": "57684b0d",
   "metadata": {},
   "source": [
    "# 39. Create a vector of size 10 with values ranging from 0 to 1, both excluded "
   ]
  },
  {
   "cell_type": "markdown",
   "id": "4d70ee3a",
   "metadata": {},
   "source": [
    "- The numpy.linspace() function returns number spaces evenly w.r.t interval."
   ]
  },
  {
   "cell_type": "code",
   "execution_count": 17,
   "id": "a89c6f3f",
   "metadata": {},
   "outputs": [
    {
     "name": "stdout",
     "output_type": "stream",
     "text": [
      "Values within interval is : \n",
      " [0.09090909 0.18181818 0.27272727 0.36363636 0.45454545 0.54545455\n",
      " 0.63636364 0.72727273 0.81818182 0.90909091]\n"
     ]
    }
   ],
   "source": [
    "import numpy as np\n",
    "#using linspace\n",
    "X = np.linspace(0,1,12,endpoint=True)[1:-1]\n",
    "print(\"Values within interval is : \\n\", X)"
   ]
  },
  {
   "cell_type": "markdown",
   "id": "910a8b1c",
   "metadata": {},
   "source": [
    "# 40. Create a random vector of size 10 and sort it "
   ]
  },
  {
   "cell_type": "code",
   "execution_count": 22,
   "id": "d3d3bf60",
   "metadata": {},
   "outputs": [
    {
     "name": "stdout",
     "output_type": "stream",
     "text": [
      "Original vectors : \n",
      " [0.51978173 0.72930493 0.7646328  0.98799435 0.27625608 0.83949948\n",
      " 0.00500148 0.03903887 0.42905661 0.6137483 ]\n",
      "\n",
      "Vectors after sorting : \n",
      " [0.00500148 0.03903887 0.27625608 0.42905661 0.51978173 0.6137483\n",
      " 0.72930493 0.7646328  0.83949948 0.98799435]\n"
     ]
    }
   ],
   "source": [
    "import numpy as np\n",
    "#Create random vector\n",
    "x = np.random.random(10)\n",
    "#vectors before sorting\n",
    "print(\"Original vectors : \\n\", x)\n",
    "#sorting\n",
    "x.sort()\n",
    "print(\"\\nVectors after sorting : \\n\", x)"
   ]
  },
  {
   "cell_type": "markdown",
   "id": "19a6ee5d",
   "metadata": {},
   "source": [
    "# 41. How to sum a small array faster than np.sum?"
   ]
  },
  {
   "cell_type": "markdown",
   "id": "0c0b5b18",
   "metadata": {},
   "source": [
    "- add.reduce() is equivalent to sum()\n",
    "- The given input array is reduced by applying the universal function recursively along a specified axis on consecutive elements."
   ]
  },
  {
   "cell_type": "code",
   "execution_count": 19,
   "id": "cf942cdf",
   "metadata": {},
   "outputs": [
    {
     "name": "stdout",
     "output_type": "stream",
     "text": [
      "Addition of array is : 45\n"
     ]
    }
   ],
   "source": [
    "import numpy as np\n",
    "#creating array\n",
    "x = np.arange(10)\n",
    "\n",
    "print(\"Addition of array is :\", np.add.reduce(x))"
   ]
  },
  {
   "cell_type": "markdown",
   "id": "6794713f",
   "metadata": {},
   "source": [
    "# 42. Consider two random array A anb B, check if they are equal"
   ]
  },
  {
   "cell_type": "markdown",
   "id": "d98499ee",
   "metadata": {},
   "source": [
    "allclose() - Returns True if two arrays are element-wise equal within a tolerance."
   ]
  },
  {
   "cell_type": "code",
   "execution_count": 21,
   "id": "374615d0",
   "metadata": {},
   "outputs": [
    {
     "name": "stdout",
     "output_type": "stream",
     "text": [
      "First array is : \n",
      " [0 0 1 0 0]\n",
      "\n",
      "Second array is : \n",
      " [0 1 1 0 1]\n",
      "\n",
      "Is two arrays are equal :  False\n"
     ]
    }
   ],
   "source": [
    "import numpy as np\n",
    "#Creating first random array with interger\n",
    "A = np.random.randint(0,2,5)\n",
    "print(\"First array is : \\n\", A)\n",
    "\n",
    "#Creating second random array with interger\n",
    "B = np.random.randint(0,2,5)\n",
    "print(\"\\nSecond array is : \\n\",B)\n",
    "\n",
    "#Comparing array and give output\n",
    "equal = np.allclose(A,B)\n",
    "print(\"\\nIs two arrays are equal : \", equal)"
   ]
  },
  {
   "cell_type": "markdown",
   "id": "8c5d4844",
   "metadata": {},
   "source": [
    "# 43. Make an array immutable (read­only)"
   ]
  },
  {
   "cell_type": "markdown",
   "id": "254946ad",
   "metadata": {},
   "source": [
    "- ndarray.flags - The flags object can be accessed dictionary-like (as in a.flags['WRITEABLE']), or by using lowercased attribute names (as in a.flags.writeable)."
   ]
  },
  {
   "cell_type": "code",
   "execution_count": 22,
   "id": "2b4f7ac2",
   "metadata": {},
   "outputs": [
    {
     "ename": "ValueError",
     "evalue": "assignment destination is read-only",
     "output_type": "error",
     "traceback": [
      "\u001b[1;31m---------------------------------------------------------------------------\u001b[0m",
      "\u001b[1;31mValueError\u001b[0m                                Traceback (most recent call last)",
      "Input \u001b[1;32mIn [22]\u001b[0m, in \u001b[0;36m<cell line: 4>\u001b[1;34m()\u001b[0m\n\u001b[0;32m      2\u001b[0m X \u001b[38;5;241m=\u001b[39m np\u001b[38;5;241m.\u001b[39mzeros(\u001b[38;5;241m10\u001b[39m)\n\u001b[0;32m      3\u001b[0m X\u001b[38;5;241m.\u001b[39mflags\u001b[38;5;241m.\u001b[39mwriteable \u001b[38;5;241m=\u001b[39m \u001b[38;5;28;01mFalse\u001b[39;00m\n\u001b[1;32m----> 4\u001b[0m X[\u001b[38;5;241m0\u001b[39m] \u001b[38;5;241m=\u001b[39m \u001b[38;5;241m1\u001b[39m\n",
      "\u001b[1;31mValueError\u001b[0m: assignment destination is read-only"
     ]
    }
   ],
   "source": [
    "import numpy as np\n",
    "X = np.zeros(10)\n",
    "#Making array immutable\n",
    "X.flags.writeable = False\n",
    "X[0] = 1"
   ]
  },
  {
   "cell_type": "markdown",
   "id": "9a0dae83",
   "metadata": {},
   "source": [
    "# 44. Consider a random 10x2 matrix representing cartesian coordinates, convert them to polar coordinates "
   ]
  },
  {
   "cell_type": "markdown",
   "id": "a5c74ea8",
   "metadata": {},
   "source": [
    "- The [:, :] stands for everything from the beginning to the end just like for lists.\n",
    "\n",
    "- The difference is that the first : stands for first and the second : for the second dimension."
   ]
  },
  {
   "cell_type": "markdown",
   "id": "5d6f7592",
   "metadata": {},
   "source": [
    "-  Cartesian Co-ordinate -  is used to locate the position of a point in a plane using two perpendicular lines."
   ]
  },
  {
   "cell_type": "markdown",
   "id": "ecc0652a",
   "metadata": {},
   "source": [
    "- The numpy.arctan2() method computes element-wise arc tangent of arr1/arr2 choosing the quadrant correctly"
   ]
  },
  {
   "cell_type": "raw",
   "id": "d387a7d5",
   "metadata": {},
   "source": [
    "- numpy uses tuples as indexes.\n",
    "[0]     - means line 0 of your matrix\n",
    "[(0,0)] - means cell at 0,0 of your matrix\n",
    "[0:1]   - means lines 0 to 1 excluded of your matrix\n",
    "[:1]    - excluding the first value means all lines until line 1 excluded\n",
    "[1:]    - excluding the last param mean all lines starting form line 1 included\n",
    "[:]     - excluding both means all lines\n",
    "[::2]   - the addition of a second ':' is the sampling. (1 item every 2)\n",
    "[::]    - exluding it means a sampling of 1\n",
    "[:,:]   - simply uses a tuple (a single , represents an empty tuple) instead of an index."
   ]
  },
  {
   "cell_type": "code",
   "execution_count": 1,
   "id": "2fb7bbf0",
   "metadata": {},
   "outputs": [
    {
     "name": "stdout",
     "output_type": "stream",
     "text": [
      "[0.37322209 0.88788    1.05934047 0.82849359 0.86136691 0.97728494\n",
      " 0.52642138 1.1151467  1.14236748 1.29011499]\n",
      "[0.20283731 1.44092377 1.11506225 1.4369744  1.16150269 0.04391578\n",
      " 0.66084541 1.05293149 0.79431515 0.79272283]\n"
     ]
    }
   ],
   "source": [
    "import numpy as np\n",
    "#creating random array\n",
    "Z = np.random.random((10,2))\n",
    "\n",
    "#It perform according to dimension we have pass\n",
    "X,Y = Z[:,0], Z[:,1]\n",
    "\n",
    "#used to determine the positive square-root of an array, element-wise\n",
    "R = np.sqrt(X**2+Y**2)\n",
    "\n",
    "#convert to cartesian cordinates\n",
    "T = np.arctan2(Y,X)\n",
    "print(R)\n",
    "print(T)"
   ]
  },
  {
   "cell_type": "markdown",
   "id": "b866ef3d",
   "metadata": {},
   "source": [
    "# 45. Create random vector of size 10 and replace the maximum value by 0"
   ]
  },
  {
   "cell_type": "code",
   "execution_count": 3,
   "id": "a2c8ab65",
   "metadata": {},
   "outputs": [
    {
     "name": "stdout",
     "output_type": "stream",
     "text": [
      "Our random array is : \n",
      " [0.05997906 0.14106981 0.974737   0.05285787 0.23082807 0.06451562\n",
      " 0.08479942 0.94854907 0.08921921 0.1370211 ]\n",
      "\n",
      "Array after replacing maximum value with 0 : \n",
      " [0.05997906 0.14106981 0.         0.05285787 0.23082807 0.06451562\n",
      " 0.08479942 0.94854907 0.08921921 0.1370211 ]\n"
     ]
    }
   ],
   "source": [
    "import numpy as np\n",
    "#Create random array\n",
    "x = np.random.random(10)\n",
    "print(\"Our random array is : \\n\", x)\n",
    "\n",
    "#replacing maximum value by 0\n",
    "x[x.argmax()] = 0\n",
    "\n",
    "print(\"\\nArray after replacing maximum value with 0 : \\n\", x)"
   ]
  },
  {
   "cell_type": "markdown",
   "id": "cbf1e009",
   "metadata": {},
   "source": [
    "# 46. Create a structured array with x and y coordinates covering the [0,1]x[0,1] area"
   ]
  },
  {
   "cell_type": "markdown",
   "id": "bd78d574",
   "metadata": {},
   "source": [
    "- meshgrid() - The numpy.meshgrid function is used to create a rectangular grid out of two given one-dimensional arrays representing the Cartesian indexing or Matrix indexing."
   ]
  },
  {
   "cell_type": "code",
   "execution_count": 6,
   "id": "81757e69",
   "metadata": {},
   "outputs": [
    {
     "name": "stdout",
     "output_type": "stream",
     "text": [
      "[[(0.        , 0.        ) (0.11111111, 0.        )\n",
      "  (0.22222222, 0.        ) (0.33333333, 0.        )\n",
      "  (0.44444444, 0.        ) (0.55555556, 0.        )\n",
      "  (0.66666667, 0.        ) (0.77777778, 0.        )\n",
      "  (0.88888889, 0.        ) (1.        , 0.        )]\n",
      " [(0.        , 0.11111111) (0.11111111, 0.11111111)\n",
      "  (0.22222222, 0.11111111) (0.33333333, 0.11111111)\n",
      "  (0.44444444, 0.11111111) (0.55555556, 0.11111111)\n",
      "  (0.66666667, 0.11111111) (0.77777778, 0.11111111)\n",
      "  (0.88888889, 0.11111111) (1.        , 0.11111111)]\n",
      " [(0.        , 0.22222222) (0.11111111, 0.22222222)\n",
      "  (0.22222222, 0.22222222) (0.33333333, 0.22222222)\n",
      "  (0.44444444, 0.22222222) (0.55555556, 0.22222222)\n",
      "  (0.66666667, 0.22222222) (0.77777778, 0.22222222)\n",
      "  (0.88888889, 0.22222222) (1.        , 0.22222222)]\n",
      " [(0.        , 0.33333333) (0.11111111, 0.33333333)\n",
      "  (0.22222222, 0.33333333) (0.33333333, 0.33333333)\n",
      "  (0.44444444, 0.33333333) (0.55555556, 0.33333333)\n",
      "  (0.66666667, 0.33333333) (0.77777778, 0.33333333)\n",
      "  (0.88888889, 0.33333333) (1.        , 0.33333333)]\n",
      " [(0.        , 0.44444444) (0.11111111, 0.44444444)\n",
      "  (0.22222222, 0.44444444) (0.33333333, 0.44444444)\n",
      "  (0.44444444, 0.44444444) (0.55555556, 0.44444444)\n",
      "  (0.66666667, 0.44444444) (0.77777778, 0.44444444)\n",
      "  (0.88888889, 0.44444444) (1.        , 0.44444444)]\n",
      " [(0.        , 0.55555556) (0.11111111, 0.55555556)\n",
      "  (0.22222222, 0.55555556) (0.33333333, 0.55555556)\n",
      "  (0.44444444, 0.55555556) (0.55555556, 0.55555556)\n",
      "  (0.66666667, 0.55555556) (0.77777778, 0.55555556)\n",
      "  (0.88888889, 0.55555556) (1.        , 0.55555556)]\n",
      " [(0.        , 0.66666667) (0.11111111, 0.66666667)\n",
      "  (0.22222222, 0.66666667) (0.33333333, 0.66666667)\n",
      "  (0.44444444, 0.66666667) (0.55555556, 0.66666667)\n",
      "  (0.66666667, 0.66666667) (0.77777778, 0.66666667)\n",
      "  (0.88888889, 0.66666667) (1.        , 0.66666667)]\n",
      " [(0.        , 0.77777778) (0.11111111, 0.77777778)\n",
      "  (0.22222222, 0.77777778) (0.33333333, 0.77777778)\n",
      "  (0.44444444, 0.77777778) (0.55555556, 0.77777778)\n",
      "  (0.66666667, 0.77777778) (0.77777778, 0.77777778)\n",
      "  (0.88888889, 0.77777778) (1.        , 0.77777778)]\n",
      " [(0.        , 0.88888889) (0.11111111, 0.88888889)\n",
      "  (0.22222222, 0.88888889) (0.33333333, 0.88888889)\n",
      "  (0.44444444, 0.88888889) (0.55555556, 0.88888889)\n",
      "  (0.66666667, 0.88888889) (0.77777778, 0.88888889)\n",
      "  (0.88888889, 0.88888889) (1.        , 0.88888889)]\n",
      " [(0.        , 1.        ) (0.11111111, 1.        )\n",
      "  (0.22222222, 1.        ) (0.33333333, 1.        )\n",
      "  (0.44444444, 1.        ) (0.55555556, 1.        )\n",
      "  (0.66666667, 1.        ) (0.77777778, 1.        )\n",
      "  (0.88888889, 1.        ) (1.        , 1.        )]]\n"
     ]
    }
   ],
   "source": [
    "import numpy as np\n",
    "#Creating array of 10x10\n",
    "Z = np.zeros((10,10), [('x',float),('y',float)])\n",
    "\n",
    "Z['x'], Z['y'] = np.meshgrid(np.linspace(0,1,10),\n",
    "np.linspace(0,1,10))\n",
    "print(Z)"
   ]
  },
  {
   "cell_type": "markdown",
   "id": "adfa808a",
   "metadata": {},
   "source": [
    "# 47. Given two arrays, X and Y, construct the Cauchy matrix C (Cij = 1/(xi ­ yj))"
   ]
  },
  {
   "cell_type": "markdown",
   "id": "b439db3b",
   "metadata": {},
   "source": [
    "- Cauchy matrix - is an m×n matrix with elements aij"
   ]
  },
  {
   "cell_type": "raw",
   "id": "e6a1ac65",
   "metadata": {},
   "source": [
    "- It is generated by \n",
    "C[i][j] = 1/(x[i] - y[j])"
   ]
  },
  {
   "cell_type": "code",
   "execution_count": 8,
   "id": "c14c260d",
   "metadata": {},
   "outputs": [
    {
     "name": "stdout",
     "output_type": "stream",
     "text": [
      "Cauchy Matrix value is :  3638.1636371179666\n"
     ]
    }
   ],
   "source": [
    "import numpy as np\n",
    "X = np.arange(8)\n",
    "Y = X + 0.5\n",
    "\n",
    "#perform calculation for cauchy matrix\n",
    "C = 1.0 / np.subtract.outer(X, Y)\n",
    "\n",
    "#compute the determinant of the given square array \n",
    "result = np.linalg.det(C)\n",
    "print(\"Cauchy Matrix value is : \", result)"
   ]
  },
  {
   "cell_type": "markdown",
   "id": "859184fd",
   "metadata": {},
   "source": [
    "# 48. Print the minimum and maximum representable value for each numpy scalar type"
   ]
  },
  {
   "cell_type": "markdown",
   "id": "a26ab139",
   "metadata": {},
   "source": [
    "- iinfo() - function shows machine limits for integer types.\n",
    "- finfo() - function shows machine limits for floating point types"
   ]
  },
  {
   "cell_type": "code",
   "execution_count": 12,
   "id": "b30db978",
   "metadata": {},
   "outputs": [
    {
     "name": "stdout",
     "output_type": "stream",
     "text": [
      "Minimum value for integer data type :  -128\n",
      "Maximum value for integer data type :  127\n",
      "Minimum value for integer data type :  -2147483648\n",
      "Maximum value for integer data type :  2147483647\n",
      "Minimum value for integer data type :  -9223372036854775808\n",
      "Maximum value for integer data type :  9223372036854775807\n",
      "Minimum value for integer data type :  -3.4028235e+38\n",
      "Maximum value for integer data type :  3.4028235e+38\n",
      "Epsilion value is :  1.1920929e-07\n",
      "Minimum value for integer data type :  -1.7976931348623157e+308\n",
      "Maximum value for integer data type :  1.7976931348623157e+308\n",
      "Epsilion value is :  2.220446049250313e-16\n"
     ]
    }
   ],
   "source": [
    "import numpy as np\n",
    "#iterate over different system limit\n",
    "for dtype in [np.int8, np.int32, np.int64]:\n",
    "    minimum = (np.iinfo(dtype).min)\n",
    "    print(\"Minimum value for integer data type : \", minimum)\n",
    "    maximum = np.iinfo(dtype).max\n",
    "    print(\"Maximum value for integer data type : \", maximum)\n",
    "    \n",
    "for dtype in [np.float32, np.float64]:\n",
    "    minim= np.finfo(dtype).min\n",
    "    print(\"Minimum value for integer data type : \", minim)\n",
    "    maxim = np.finfo(dtype).max\n",
    "    print(\"Maximum value for integer data type : \", maxim)\n",
    "    epsilon = np.finfo(dtype).eps\n",
    "    print(\"Epsilion value is : \", epsilon)"
   ]
  },
  {
   "cell_type": "markdown",
   "id": "19aca99b",
   "metadata": {},
   "source": [
    "# 49. How to print all the values of an array?"
   ]
  },
  {
   "cell_type": "code",
   "execution_count": 20,
   "id": "f062d717",
   "metadata": {},
   "outputs": [
    {
     "name": "stdout",
     "output_type": "stream",
     "text": [
      "[[1. 1. 1. 1. 1. 1. 1. 1. 1. 1. 1. 1. 1. 1. 1. 1. 1. 1. 1. 1. 1. 1. 1. 1.\n",
      "  1.]\n",
      " [1. 1. 1. 1. 1. 1. 1. 1. 1. 1. 1. 1. 1. 1. 1. 1. 1. 1. 1. 1. 1. 1. 1. 1.\n",
      "  1.]\n",
      " [1. 1. 1. 1. 1. 1. 1. 1. 1. 1. 1. 1. 1. 1. 1. 1. 1. 1. 1. 1. 1. 1. 1. 1.\n",
      "  1.]\n",
      " [1. 1. 1. 1. 1. 1. 1. 1. 1. 1. 1. 1. 1. 1. 1. 1. 1. 1. 1. 1. 1. 1. 1. 1.\n",
      "  1.]\n",
      " [1. 1. 1. 1. 1. 1. 1. 1. 1. 1. 1. 1. 1. 1. 1. 1. 1. 1. 1. 1. 1. 1. 1. 1.\n",
      "  1.]\n",
      " [1. 1. 1. 1. 1. 1. 1. 1. 1. 1. 1. 1. 1. 1. 1. 1. 1. 1. 1. 1. 1. 1. 1. 1.\n",
      "  1.]\n",
      " [1. 1. 1. 1. 1. 1. 1. 1. 1. 1. 1. 1. 1. 1. 1. 1. 1. 1. 1. 1. 1. 1. 1. 1.\n",
      "  1.]\n",
      " [1. 1. 1. 1. 1. 1. 1. 1. 1. 1. 1. 1. 1. 1. 1. 1. 1. 1. 1. 1. 1. 1. 1. 1.\n",
      "  1.]\n",
      " [1. 1. 1. 1. 1. 1. 1. 1. 1. 1. 1. 1. 1. 1. 1. 1. 1. 1. 1. 1. 1. 1. 1. 1.\n",
      "  1.]\n",
      " [1. 1. 1. 1. 1. 1. 1. 1. 1. 1. 1. 1. 1. 1. 1. 1. 1. 1. 1. 1. 1. 1. 1. 1.\n",
      "  1.]\n",
      " [1. 1. 1. 1. 1. 1. 1. 1. 1. 1. 1. 1. 1. 1. 1. 1. 1. 1. 1. 1. 1. 1. 1. 1.\n",
      "  1.]\n",
      " [1. 1. 1. 1. 1. 1. 1. 1. 1. 1. 1. 1. 1. 1. 1. 1. 1. 1. 1. 1. 1. 1. 1. 1.\n",
      "  1.]\n",
      " [1. 1. 1. 1. 1. 1. 1. 1. 1. 1. 1. 1. 1. 1. 1. 1. 1. 1. 1. 1. 1. 1. 1. 1.\n",
      "  1.]\n",
      " [1. 1. 1. 1. 1. 1. 1. 1. 1. 1. 1. 1. 1. 1. 1. 1. 1. 1. 1. 1. 1. 1. 1. 1.\n",
      "  1.]\n",
      " [1. 1. 1. 1. 1. 1. 1. 1. 1. 1. 1. 1. 1. 1. 1. 1. 1. 1. 1. 1. 1. 1. 1. 1.\n",
      "  1.]\n",
      " [1. 1. 1. 1. 1. 1. 1. 1. 1. 1. 1. 1. 1. 1. 1. 1. 1. 1. 1. 1. 1. 1. 1. 1.\n",
      "  1.]\n",
      " [1. 1. 1. 1. 1. 1. 1. 1. 1. 1. 1. 1. 1. 1. 1. 1. 1. 1. 1. 1. 1. 1. 1. 1.\n",
      "  1.]\n",
      " [1. 1. 1. 1. 1. 1. 1. 1. 1. 1. 1. 1. 1. 1. 1. 1. 1. 1. 1. 1. 1. 1. 1. 1.\n",
      "  1.]\n",
      " [1. 1. 1. 1. 1. 1. 1. 1. 1. 1. 1. 1. 1. 1. 1. 1. 1. 1. 1. 1. 1. 1. 1. 1.\n",
      "  1.]\n",
      " [1. 1. 1. 1. 1. 1. 1. 1. 1. 1. 1. 1. 1. 1. 1. 1. 1. 1. 1. 1. 1. 1. 1. 1.\n",
      "  1.]\n",
      " [1. 1. 1. 1. 1. 1. 1. 1. 1. 1. 1. 1. 1. 1. 1. 1. 1. 1. 1. 1. 1. 1. 1. 1.\n",
      "  1.]\n",
      " [1. 1. 1. 1. 1. 1. 1. 1. 1. 1. 1. 1. 1. 1. 1. 1. 1. 1. 1. 1. 1. 1. 1. 1.\n",
      "  1.]\n",
      " [1. 1. 1. 1. 1. 1. 1. 1. 1. 1. 1. 1. 1. 1. 1. 1. 1. 1. 1. 1. 1. 1. 1. 1.\n",
      "  1.]\n",
      " [1. 1. 1. 1. 1. 1. 1. 1. 1. 1. 1. 1. 1. 1. 1. 1. 1. 1. 1. 1. 1. 1. 1. 1.\n",
      "  1.]\n",
      " [1. 1. 1. 1. 1. 1. 1. 1. 1. 1. 1. 1. 1. 1. 1. 1. 1. 1. 1. 1. 1. 1. 1. 1.\n",
      "  1.]]\n"
     ]
    }
   ],
   "source": [
    "import numpy as np\n",
    "import sys\n",
    "#Setting maxsize with system\n",
    "np.set_printoptions(threshold=sys.maxsize)\n",
    "x = np.ones((25,25))\n",
    "print(x)"
   ]
  },
  {
   "cell_type": "markdown",
   "id": "9950fc8b",
   "metadata": {},
   "source": [
    "# 50. How to find the closest value (to a given scalar) in an array?"
   ]
  },
  {
   "cell_type": "code",
   "execution_count": 23,
   "id": "ce64179b",
   "metadata": {},
   "outputs": [
    {
     "name": "stdout",
     "output_type": "stream",
     "text": [
      "Our array is : \n",
      " [ 0  1  2  3  4  5  6  7  8  9 10 11 12 13 14 15 16 17 18 19 20 21 22 23\n",
      " 24 25 26 27 28 29 30 31 32 33 34 35 36 37 38 39 40 41 42 43 44 45 46 47\n",
      " 48 49 50 51 52 53 54 55 56 57 58 59 60 61 62 63 64 65 66 67 68 69 70 71\n",
      " 72 73 74 75 76 77 78 79 80 81 82 83 84 85 86 87 88 89 90 91 92 93 94 95\n",
      " 96 97 98 99]\n",
      "\n",
      "Uniform distribution sample is :  10.343009885818422\n",
      "\n",
      "Closest value in given array is  10\n"
     ]
    }
   ],
   "source": [
    "import numpy as np\n",
    "x = np.arange(100)\n",
    "print(\"Our array is : \\n\", x)\n",
    "\n",
    "#getting uniform sample within range\n",
    "v = np.random.uniform(0,100)\n",
    "print(\"\\nUniform distribution sample is : \", v)\n",
    "\n",
    "#getting index absolute closest value\n",
    "index = (np.abs(x-v)).argmin()\n",
    "\n",
    "print(\"\\nClosest value in given array is \", x[index])\n"
   ]
  },
  {
   "cell_type": "markdown",
   "id": "9e4e0868",
   "metadata": {},
   "source": [
    "# 51. How to tell if a given 2D array has null columns?"
   ]
  },
  {
   "cell_type": "markdown",
   "id": "cbfc1a80",
   "metadata": {},
   "source": [
    "- numpy.any() : function tests whether any array elements along the mentioned axis evaluate to True."
   ]
  },
  {
   "cell_type": "code",
   "execution_count": 4,
   "id": "0df607db",
   "metadata": {},
   "outputs": [
    {
     "name": "stdout",
     "output_type": "stream",
     "text": [
      "Our random array is: \n",
      " [[0 2 0 0 1 1 2 1 2 2]\n",
      " [1 0 2 1 2 1 2 0 0 0]\n",
      " [2 0 0 1 1 0 0 0 1 2]]\n",
      "False\n"
     ]
    }
   ],
   "source": [
    "import numpy as np\n",
    "#Creating random array 3x10\n",
    "x = np.random.randint(0,3,(3,10))\n",
    "print(\"Our random array is: \\n\", x)\n",
    "print((~x.any(axis=0)).any())"
   ]
  }
 ],
 "metadata": {
  "kernelspec": {
   "display_name": "Python 3 (ipykernel)",
   "language": "python",
   "name": "python3"
  },
  "language_info": {
   "codemirror_mode": {
    "name": "ipython",
    "version": 3
   },
   "file_extension": ".py",
   "mimetype": "text/x-python",
   "name": "python",
   "nbconvert_exporter": "python",
   "pygments_lexer": "ipython3",
   "version": "3.9.12"
  }
 },
 "nbformat": 4,
 "nbformat_minor": 5
}
